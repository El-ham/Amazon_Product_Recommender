{
 "cells": [
  {
   "cell_type": "markdown",
   "metadata": {
    "id": "pXQzH0nC5JtP"
   },
   "source": [
    "# **Amazon Product Recommendation System**\n",
    "\n",
    "## **Project Overview:**\n",
    "\n",
    "This project focuses on building a recommendation system using Amazon product reviews data. The dataset includes user ratings for various electronic products but excludes product details and review texts to maintain neutrality in model development.\n",
    "\n",
    "\n",
    "## **Context:**\n",
    "With the rapid growth of digital information, consumers are often overwhelmed with choices, leading to decision fatigue. Recommendation systems play a crucial role in personalizing user experiences by suggesting relevant products based on user preferences. Major e-commerce platforms like Amazon, Walmart, Target, and Etsy leverage sophisticated recommendation algorithms to enhance customer engagement and improve sales.\n",
    "\n",
    "Amazon, in particular, is well known for its highly accurate recommendation system, which utilizes AI-driven techniques to analyze customer behavior. One of Amazon’s core recommendation approaches is item-to-item collaborative filtering, which effectively scales to large datasets while providing real-time personalized suggestions.\n",
    "\n",
    "\n",
    "## **Objective**\n",
    "The objective of this project is to develop a product recommendation system that suggests relevant items to users based on their previous ratings. By analyzing Amazon’s user-product interactions, the goal is to extract meaningful insights and build a recommendation model that enhances the online shopping experience.\n",
    "\n",
    "\n",
    "## **Dataset Description**\n",
    "The dataset used in this project consists of user ratings for various products. The key attributes include:\n",
    "\n",
    "- **userId:** – A unique identifier assigned to each user.\n",
    "- **productId:** – A unique identifier assigned to each product.\n",
    "- **Rating:** – The numerical rating provided by a user for a specific product.\n",
    "- **timestamp:** – The time at which the rating was given (not used in this analysis).\n"
   ]
  },
  {
   "cell_type": "markdown",
   "metadata": {
    "id": "UoRfgjS2yekq"
   },
   "source": [
    "## **Setting Up the Environment**\n",
    "\n",
    "For this project, we use the Surprise library, a popular tool for building recommendation systems. However, installing Surprise in Jupyter Notebook can sometimes lead to compatibility issues. To ensure a smooth workflow, it is recommended to use **Google Colab**, which provides a pre-configured cloud environment with necessary dependencies.\n",
    "\n",
    "To begin, we start by mounting Google Drive in Colab to access and store project files efficiently."
   ]
  },
  {
   "cell_type": "code",
   "execution_count": 2,
   "metadata": {
    "colab": {
     "base_uri": "https://localhost:8080/"
    },
    "id": "GZ0YAszcT4zK",
    "outputId": "86d16b2f-48ac-45de-b5f5-e98513029fdc"
   },
   "outputs": [
    {
     "name": "stdout",
     "output_type": "stream",
     "text": [
      "Mounted at /content/drive\n"
     ]
    }
   ],
   "source": [
    "from google.colab import drive\n",
    "drive.mount('/content/drive')"
   ]
  },
  {
   "cell_type": "markdown",
   "metadata": {
    "id": "0Ibk07-Cyekt"
   },
   "source": [
    "**Installing surprise library**"
   ]
  },
  {
   "cell_type": "code",
   "execution_count": 3,
   "metadata": {
    "colab": {
     "base_uri": "https://localhost:8080/"
    },
    "id": "05HQoiZYlsbB",
    "outputId": "b2beea62-9794-4aa4-fc83-65366123ba77"
   },
   "outputs": [
    {
     "name": "stdout",
     "output_type": "stream",
     "text": [
      "Collecting surprise\n",
      "  Downloading surprise-0.1-py2.py3-none-any.whl.metadata (327 bytes)\n",
      "Collecting scikit-surprise (from surprise)\n",
      "  Downloading scikit_surprise-1.1.4.tar.gz (154 kB)\n",
      "\u001b[2K     \u001b[90m━━━━━━━━━━━━━━━━━━━━━━━━━━━━━━━━━━━━━━━━\u001b[0m \u001b[32m154.4/154.4 kB\u001b[0m \u001b[31m3.4 MB/s\u001b[0m eta \u001b[36m0:00:00\u001b[0m00:01\u001b[0m\n",
      "\u001b[?25h  Installing build dependencies ... \u001b[?25l\u001b[?25hdone\n",
      "  Getting requirements to build wheel ... \u001b[?25l\u001b[?25hdone\n",
      "  Preparing metadata (pyproject.toml) ... \u001b[?25l\u001b[?25hdone\n",
      "Requirement already satisfied: joblib>=1.2.0 in /usr/local/lib/python3.11/dist-packages (from scikit-surprise->surprise) (1.4.2)\n",
      "Requirement already satisfied: numpy>=1.19.5 in /usr/local/lib/python3.11/dist-packages (from scikit-surprise->surprise) (1.26.4)\n",
      "Requirement already satisfied: scipy>=1.6.0 in /usr/local/lib/python3.11/dist-packages (from scikit-surprise->surprise) (1.13.1)\n",
      "Downloading surprise-0.1-py2.py3-none-any.whl (1.8 kB)\n",
      "Building wheels for collected packages: scikit-surprise\n",
      "  Building wheel for scikit-surprise (pyproject.toml) ... \u001b[?25l\u001b[?25hdone\n",
      "  Created wheel for scikit-surprise: filename=scikit_surprise-1.1.4-cp311-cp311-linux_x86_64.whl size=2505174 sha256=f3d451babe7d211e3797fe5ad56cd35a80fb02ddebb86ff735a4c09bf750c3b4\n",
      "  Stored in directory: /root/.cache/pip/wheels/2a/8f/6e/7e2899163e2d85d8266daab4aa1cdabec7a6c56f83c015b5af\n",
      "Successfully built scikit-surprise\n",
      "Installing collected packages: scikit-surprise, surprise\n",
      "Successfully installed scikit-surprise-1.1.4 surprise-0.1\n"
     ]
    }
   ],
   "source": [
    "!pip install surprise"
   ]
  },
  {
   "cell_type": "markdown",
   "metadata": {
    "id": "7fIt4jcFIm76"
   },
   "source": [
    "## **Importing the necessary libraries and overview of the dataset**"
   ]
  },
  {
   "cell_type": "code",
   "execution_count": 1,
   "metadata": {
    "id": "jzu2P-TT5JtP"
   },
   "outputs": [],
   "source": [
    "import pandas as pd # Importing pandas for data manipulation and analysis\n",
    "import numpy as np # Importing numpy for numerical operations\n",
    "import matplotlib.pyplot as plt # Importing matplotlib for data visualization\n",
    "from collections import defaultdict # Importing defaultdict for handling missing keys in dictionaries"
   ]
  },
  {
   "cell_type": "markdown",
   "metadata": {
    "id": "NrXYJAv95JtP"
   },
   "source": [
    "### **Loading the data**\n",
    "- Import the Dataset\n",
    "- Add column names ['user_id', 'prod_id', 'rating', 'timestamp']\n",
    "- Drop the column timestamp\n",
    "- Copy the data to another DataFrame called **df**"
   ]
  },
  {
   "cell_type": "code",
   "execution_count": 2,
   "metadata": {
    "id": "ul2CTn6aStZ7"
   },
   "outputs": [],
   "source": [
    "# Loading the dataset from Google Drive into a pandas DataFrame.\n",
    "data = pd.read_csv('ratings_Electronics.csv')"
   ]
  },
  {
   "cell_type": "code",
   "execution_count": 3,
   "metadata": {
    "colab": {
     "base_uri": "https://localhost:8080/",
     "height": 206
    },
    "id": "oWwPCaRgStrw",
    "outputId": "8ff823d2-36fa-4ff4-fc49-45104dca86e3"
   },
   "outputs": [
    {
     "data": {
      "text/html": [
       "<div>\n",
       "<style scoped>\n",
       "    .dataframe tbody tr th:only-of-type {\n",
       "        vertical-align: middle;\n",
       "    }\n",
       "\n",
       "    .dataframe tbody tr th {\n",
       "        vertical-align: top;\n",
       "    }\n",
       "\n",
       "    .dataframe thead th {\n",
       "        text-align: right;\n",
       "    }\n",
       "</style>\n",
       "<table border=\"1\" class=\"dataframe\">\n",
       "  <thead>\n",
       "    <tr style=\"text-align: right;\">\n",
       "      <th></th>\n",
       "      <th>AKM1MP6P0OYPR</th>\n",
       "      <th>0132793040</th>\n",
       "      <th>5.0</th>\n",
       "      <th>1365811200</th>\n",
       "    </tr>\n",
       "  </thead>\n",
       "  <tbody>\n",
       "    <tr>\n",
       "      <th>0</th>\n",
       "      <td>A2CX7LUOHB2NDG</td>\n",
       "      <td>0321732944</td>\n",
       "      <td>5.0</td>\n",
       "      <td>1341100800</td>\n",
       "    </tr>\n",
       "    <tr>\n",
       "      <th>1</th>\n",
       "      <td>A2NWSAGRHCP8N5</td>\n",
       "      <td>0439886341</td>\n",
       "      <td>1.0</td>\n",
       "      <td>1367193600</td>\n",
       "    </tr>\n",
       "    <tr>\n",
       "      <th>2</th>\n",
       "      <td>A2WNBOD3WNDNKT</td>\n",
       "      <td>0439886341</td>\n",
       "      <td>3.0</td>\n",
       "      <td>1374451200</td>\n",
       "    </tr>\n",
       "    <tr>\n",
       "      <th>3</th>\n",
       "      <td>A1GI0U4ZRJA8WN</td>\n",
       "      <td>0439886341</td>\n",
       "      <td>1.0</td>\n",
       "      <td>1334707200</td>\n",
       "    </tr>\n",
       "    <tr>\n",
       "      <th>4</th>\n",
       "      <td>A1QGNMC6O1VW39</td>\n",
       "      <td>0511189877</td>\n",
       "      <td>5.0</td>\n",
       "      <td>1397433600</td>\n",
       "    </tr>\n",
       "  </tbody>\n",
       "</table>\n",
       "</div>"
      ],
      "text/plain": [
       "    AKM1MP6P0OYPR  0132793040  5.0  1365811200\n",
       "0  A2CX7LUOHB2NDG  0321732944  5.0  1341100800\n",
       "1  A2NWSAGRHCP8N5  0439886341  1.0  1367193600\n",
       "2  A2WNBOD3WNDNKT  0439886341  3.0  1374451200\n",
       "3  A1GI0U4ZRJA8WN  0439886341  1.0  1334707200\n",
       "4  A1QGNMC6O1VW39  0511189877  5.0  1397433600"
      ]
     },
     "execution_count": 3,
     "metadata": {},
     "output_type": "execute_result"
    }
   ],
   "source": [
    "data.head() # Displays the first 5 rows"
   ]
  },
  {
   "cell_type": "code",
   "execution_count": 4,
   "metadata": {
    "id": "JGb-Hk1B5JtP"
   },
   "outputs": [],
   "source": [
    "# Renaming columns to more meaningful names\n",
    "data.rename(columns={'AKM1MP6P0OYPR': 'user_id', '0132793040': 'prod_id', '5.0': 'rating', '1365811200': 'timestamp'}, inplace=True)"
   ]
  },
  {
   "cell_type": "code",
   "execution_count": 5,
   "metadata": {
    "colab": {
     "base_uri": "https://localhost:8080/",
     "height": 206
    },
    "id": "3OojUxkNpz7F",
    "outputId": "0e4ca080-47c5-4bb7-92ac-b9a9b17d774f"
   },
   "outputs": [
    {
     "data": {
      "text/html": [
       "<div>\n",
       "<style scoped>\n",
       "    .dataframe tbody tr th:only-of-type {\n",
       "        vertical-align: middle;\n",
       "    }\n",
       "\n",
       "    .dataframe tbody tr th {\n",
       "        vertical-align: top;\n",
       "    }\n",
       "\n",
       "    .dataframe thead th {\n",
       "        text-align: right;\n",
       "    }\n",
       "</style>\n",
       "<table border=\"1\" class=\"dataframe\">\n",
       "  <thead>\n",
       "    <tr style=\"text-align: right;\">\n",
       "      <th></th>\n",
       "      <th>user_id</th>\n",
       "      <th>prod_id</th>\n",
       "      <th>rating</th>\n",
       "      <th>timestamp</th>\n",
       "    </tr>\n",
       "  </thead>\n",
       "  <tbody>\n",
       "    <tr>\n",
       "      <th>0</th>\n",
       "      <td>A2CX7LUOHB2NDG</td>\n",
       "      <td>0321732944</td>\n",
       "      <td>5.0</td>\n",
       "      <td>1341100800</td>\n",
       "    </tr>\n",
       "    <tr>\n",
       "      <th>1</th>\n",
       "      <td>A2NWSAGRHCP8N5</td>\n",
       "      <td>0439886341</td>\n",
       "      <td>1.0</td>\n",
       "      <td>1367193600</td>\n",
       "    </tr>\n",
       "    <tr>\n",
       "      <th>2</th>\n",
       "      <td>A2WNBOD3WNDNKT</td>\n",
       "      <td>0439886341</td>\n",
       "      <td>3.0</td>\n",
       "      <td>1374451200</td>\n",
       "    </tr>\n",
       "    <tr>\n",
       "      <th>3</th>\n",
       "      <td>A1GI0U4ZRJA8WN</td>\n",
       "      <td>0439886341</td>\n",
       "      <td>1.0</td>\n",
       "      <td>1334707200</td>\n",
       "    </tr>\n",
       "    <tr>\n",
       "      <th>4</th>\n",
       "      <td>A1QGNMC6O1VW39</td>\n",
       "      <td>0511189877</td>\n",
       "      <td>5.0</td>\n",
       "      <td>1397433600</td>\n",
       "    </tr>\n",
       "  </tbody>\n",
       "</table>\n",
       "</div>"
      ],
      "text/plain": [
       "          user_id     prod_id  rating   timestamp\n",
       "0  A2CX7LUOHB2NDG  0321732944     5.0  1341100800\n",
       "1  A2NWSAGRHCP8N5  0439886341     1.0  1367193600\n",
       "2  A2WNBOD3WNDNKT  0439886341     3.0  1374451200\n",
       "3  A1GI0U4ZRJA8WN  0439886341     1.0  1334707200\n",
       "4  A1QGNMC6O1VW39  0511189877     5.0  1397433600"
      ]
     },
     "execution_count": 5,
     "metadata": {},
     "output_type": "execute_result"
    }
   ],
   "source": [
    "data.head() # Displays the first 5 rows"
   ]
  },
  {
   "cell_type": "code",
   "execution_count": 6,
   "metadata": {
    "id": "fSYwgpOvp5o5"
   },
   "outputs": [],
   "source": [
    "# Deletes the 'timestamp' column from the DataFrame as it is not required for analysis.\n",
    "del data['timestamp']"
   ]
  },
  {
   "cell_type": "code",
   "execution_count": 7,
   "metadata": {
    "id": "ir4CPH_Up-E3"
   },
   "outputs": [],
   "source": [
    "# Creates a copy of the original dataset.\n",
    "df = data.copy()"
   ]
  },
  {
   "cell_type": "code",
   "execution_count": 8,
   "metadata": {
    "colab": {
     "base_uri": "https://localhost:8080/",
     "height": 206
    },
    "id": "nwV1O-BHp-He",
    "outputId": "33b2eb6c-f37b-4bfd-e44c-dc961b09fa67"
   },
   "outputs": [
    {
     "data": {
      "text/html": [
       "<div>\n",
       "<style scoped>\n",
       "    .dataframe tbody tr th:only-of-type {\n",
       "        vertical-align: middle;\n",
       "    }\n",
       "\n",
       "    .dataframe tbody tr th {\n",
       "        vertical-align: top;\n",
       "    }\n",
       "\n",
       "    .dataframe thead th {\n",
       "        text-align: right;\n",
       "    }\n",
       "</style>\n",
       "<table border=\"1\" class=\"dataframe\">\n",
       "  <thead>\n",
       "    <tr style=\"text-align: right;\">\n",
       "      <th></th>\n",
       "      <th>user_id</th>\n",
       "      <th>prod_id</th>\n",
       "      <th>rating</th>\n",
       "    </tr>\n",
       "  </thead>\n",
       "  <tbody>\n",
       "    <tr>\n",
       "      <th>0</th>\n",
       "      <td>A2CX7LUOHB2NDG</td>\n",
       "      <td>0321732944</td>\n",
       "      <td>5.0</td>\n",
       "    </tr>\n",
       "    <tr>\n",
       "      <th>1</th>\n",
       "      <td>A2NWSAGRHCP8N5</td>\n",
       "      <td>0439886341</td>\n",
       "      <td>1.0</td>\n",
       "    </tr>\n",
       "    <tr>\n",
       "      <th>2</th>\n",
       "      <td>A2WNBOD3WNDNKT</td>\n",
       "      <td>0439886341</td>\n",
       "      <td>3.0</td>\n",
       "    </tr>\n",
       "    <tr>\n",
       "      <th>3</th>\n",
       "      <td>A1GI0U4ZRJA8WN</td>\n",
       "      <td>0439886341</td>\n",
       "      <td>1.0</td>\n",
       "    </tr>\n",
       "    <tr>\n",
       "      <th>4</th>\n",
       "      <td>A1QGNMC6O1VW39</td>\n",
       "      <td>0511189877</td>\n",
       "      <td>5.0</td>\n",
       "    </tr>\n",
       "  </tbody>\n",
       "</table>\n",
       "</div>"
      ],
      "text/plain": [
       "          user_id     prod_id  rating\n",
       "0  A2CX7LUOHB2NDG  0321732944     5.0\n",
       "1  A2NWSAGRHCP8N5  0439886341     1.0\n",
       "2  A2WNBOD3WNDNKT  0439886341     3.0\n",
       "3  A1GI0U4ZRJA8WN  0439886341     1.0\n",
       "4  A1QGNMC6O1VW39  0511189877     5.0"
      ]
     },
     "execution_count": 8,
     "metadata": {},
     "output_type": "execute_result"
    }
   ],
   "source": [
    "df.head() # Displays the first 5 rows"
   ]
  },
  {
   "cell_type": "markdown",
   "metadata": {
    "id": "OVQnSG5g_9uX"
   },
   "source": [
    "**As this dataset is very large and has 7,824,482 observations, it is not computationally possible to build a model using this. Moreover, many users have only rated a few products and also some products are rated by very few users. Hence, we can reduce the dataset by considering certain logical assumptions.**\n",
    "\n",
    "Here, we will be taking users who have given at least 50 ratings, and the products that have at least 5 ratings, as when we shop online we prefer to have some number of ratings of a product."
   ]
  },
  {
   "cell_type": "code",
   "execution_count": 9,
   "metadata": {
    "id": "4yt9W7Q32EQQ"
   },
   "outputs": [],
   "source": [
    "# Get the column containing the users\n",
    "users = df.user_id\n",
    "\n",
    "# Create a dictionary from users to their number of ratings\n",
    "ratings_count = dict()\n",
    "\n",
    "for user in users:\n",
    "\n",
    "    # If we already have the user, just add 1 to their rating count\n",
    "    if user in ratings_count:\n",
    "        ratings_count[user] += 1\n",
    "\n",
    "    # Otherwise, set their rating count to 1\n",
    "    else:\n",
    "        ratings_count[user] = 1"
   ]
  },
  {
   "cell_type": "code",
   "execution_count": 10,
   "metadata": {
    "id": "19XB60dq2EQR"
   },
   "outputs": [],
   "source": [
    "# We want our users to have at least 50 ratings to be considered\n",
    "RATINGS_CUTOFF = 50\n",
    "\n",
    "remove_users = []\n",
    "\n",
    "for user, num_ratings in ratings_count.items():\n",
    "    if num_ratings < RATINGS_CUTOFF:\n",
    "        remove_users.append(user)\n",
    "\n",
    "df = df.loc[ ~ df.user_id.isin(remove_users)]"
   ]
  },
  {
   "cell_type": "code",
   "execution_count": 11,
   "metadata": {
    "id": "33UzK1D82EQS"
   },
   "outputs": [],
   "source": [
    "# Get the column containing the products\n",
    "prods = df.prod_id\n",
    "\n",
    "# Create a dictionary from products to their number of ratings\n",
    "ratings_count = dict()\n",
    "\n",
    "for prod in prods:\n",
    "\n",
    "    # If we already have the product, just add 1 to its rating count\n",
    "    if prod in ratings_count:\n",
    "        ratings_count[prod] += 1\n",
    "\n",
    "    # Otherwise, set their rating count to 1\n",
    "    else:\n",
    "        ratings_count[prod] = 1"
   ]
  },
  {
   "cell_type": "code",
   "execution_count": 12,
   "metadata": {
    "id": "u6YE-lUp2EQT"
   },
   "outputs": [],
   "source": [
    "# We want our item to have at least 5 ratings to be considered\n",
    "RATINGS_CUTOFF = 5\n",
    "\n",
    "remove_prods = []\n",
    "\n",
    "for prod, num_ratings in ratings_count.items():\n",
    "    if num_ratings < RATINGS_CUTOFF:\n",
    "        remove_prods.append(prod)\n",
    "\n",
    "df_final = df.loc[~ df.prod_id.isin(remove_prods)]"
   ]
  },
  {
   "cell_type": "code",
   "execution_count": 13,
   "metadata": {
    "colab": {
     "base_uri": "https://localhost:8080/",
     "height": 206
    },
    "id": "aL1JZ00o5JtQ",
    "outputId": "feb7ed3c-1c45-4a70-fee9-b43b2ab69671"
   },
   "outputs": [
    {
     "data": {
      "text/html": [
       "<div>\n",
       "<style scoped>\n",
       "    .dataframe tbody tr th:only-of-type {\n",
       "        vertical-align: middle;\n",
       "    }\n",
       "\n",
       "    .dataframe tbody tr th {\n",
       "        vertical-align: top;\n",
       "    }\n",
       "\n",
       "    .dataframe thead th {\n",
       "        text-align: right;\n",
       "    }\n",
       "</style>\n",
       "<table border=\"1\" class=\"dataframe\">\n",
       "  <thead>\n",
       "    <tr style=\"text-align: right;\">\n",
       "      <th></th>\n",
       "      <th>user_id</th>\n",
       "      <th>prod_id</th>\n",
       "      <th>rating</th>\n",
       "    </tr>\n",
       "  </thead>\n",
       "  <tbody>\n",
       "    <tr>\n",
       "      <th>1309</th>\n",
       "      <td>A3LDPF5FMB782Z</td>\n",
       "      <td>1400501466</td>\n",
       "      <td>5.0</td>\n",
       "    </tr>\n",
       "    <tr>\n",
       "      <th>1321</th>\n",
       "      <td>A1A5KUIIIHFF4U</td>\n",
       "      <td>1400501466</td>\n",
       "      <td>1.0</td>\n",
       "    </tr>\n",
       "    <tr>\n",
       "      <th>1334</th>\n",
       "      <td>A2XIOXRRYX0KZY</td>\n",
       "      <td>1400501466</td>\n",
       "      <td>3.0</td>\n",
       "    </tr>\n",
       "    <tr>\n",
       "      <th>1450</th>\n",
       "      <td>AW3LX47IHPFRL</td>\n",
       "      <td>1400501466</td>\n",
       "      <td>5.0</td>\n",
       "    </tr>\n",
       "    <tr>\n",
       "      <th>1455</th>\n",
       "      <td>A1E3OB6QMBKRYZ</td>\n",
       "      <td>1400501466</td>\n",
       "      <td>1.0</td>\n",
       "    </tr>\n",
       "  </tbody>\n",
       "</table>\n",
       "</div>"
      ],
      "text/plain": [
       "             user_id     prod_id  rating\n",
       "1309  A3LDPF5FMB782Z  1400501466     5.0\n",
       "1321  A1A5KUIIIHFF4U  1400501466     1.0\n",
       "1334  A2XIOXRRYX0KZY  1400501466     3.0\n",
       "1450   AW3LX47IHPFRL  1400501466     5.0\n",
       "1455  A1E3OB6QMBKRYZ  1400501466     1.0"
      ]
     },
     "execution_count": 13,
     "metadata": {},
     "output_type": "execute_result"
    }
   ],
   "source": [
    "# Print a few rows of the imported dataset\n",
    "df_final.head()"
   ]
  },
  {
   "cell_type": "markdown",
   "metadata": {
    "id": "GuPoy_XfxhXZ"
   },
   "source": [
    "## **Exploratory Data Analysis**"
   ]
  },
  {
   "cell_type": "markdown",
   "metadata": {
    "id": "qyBVTRDTyek0"
   },
   "source": [
    "**To understand the structure of the dataset, we first check the number of rows and columns. This helps in assessing the dataset’s size and determining the feasibility of different recommendation techniques.**"
   ]
  },
  {
   "cell_type": "code",
   "execution_count": 14,
   "metadata": {
    "colab": {
     "base_uri": "https://localhost:8080/"
    },
    "id": "fJ4eQKaY5JtQ",
    "outputId": "24002803-ea70-4c41-a6e2-4367f4a56fba"
   },
   "outputs": [
    {
     "data": {
      "text/plain": [
       "(65290, 3)"
      ]
     },
     "execution_count": 14,
     "metadata": {},
     "output_type": "execute_result"
    }
   ],
   "source": [
    "# Check the number of rows and columns and provide observations\n",
    "df_final.shape"
   ]
  },
  {
   "cell_type": "markdown",
   "metadata": {
    "id": "Slp-fgWQ-sVD"
   },
   "source": [
    "**This data stet has 65290 rows and 3 columns. It means a lot of rows has been filtered and deleted since we just keep the users with at least 50 ratings and the products with at least 5 ratings**"
   ]
  },
  {
   "cell_type": "markdown",
   "metadata": {
    "id": "lAMWm0nC-sVF"
   },
   "source": [
    "### **Data types**"
   ]
  },
  {
   "cell_type": "code",
   "execution_count": 15,
   "metadata": {
    "colab": {
     "base_uri": "https://localhost:8080/"
    },
    "id": "SVrgMkye5JtQ",
    "outputId": "f5c6cfb6-cb25-48b6-c706-7265185afb48"
   },
   "outputs": [
    {
     "name": "stdout",
     "output_type": "stream",
     "text": [
      "<class 'pandas.core.frame.DataFrame'>\n",
      "Int64Index: 65290 entries, 1309 to 7824426\n",
      "Data columns (total 3 columns):\n",
      " #   Column   Non-Null Count  Dtype  \n",
      "---  ------   --------------  -----  \n",
      " 0   user_id  65290 non-null  object \n",
      " 1   prod_id  65290 non-null  object \n",
      " 2   rating   65290 non-null  float64\n",
      "dtypes: float64(1), object(2)\n",
      "memory usage: 2.0+ MB\n"
     ]
    }
   ],
   "source": [
    "# Check Data types and provide observations\n",
    "df_final.info()"
   ]
  },
  {
   "cell_type": "markdown",
   "metadata": {
    "id": "hlawKCsEZ4H0"
   },
   "source": [
    "**There are 65290 rows and 3 columns. Among the three columns, the rating column is numeric and the user_id and prod_id is not numeric (object)**"
   ]
  },
  {
   "cell_type": "markdown",
   "metadata": {
    "id": "lTMpOROT-sVG"
   },
   "source": [
    "### **Checking for missing values**"
   ]
  },
  {
   "cell_type": "code",
   "execution_count": 16,
   "metadata": {
    "colab": {
     "base_uri": "https://localhost:8080/",
     "height": 178
    },
    "id": "vt-VEjMA5JtQ",
    "outputId": "ef682c6c-0b2c-42ff-edc1-176db3b32e4a"
   },
   "outputs": [
    {
     "data": {
      "text/plain": [
       "user_id    False\n",
       "prod_id    False\n",
       "rating     False\n",
       "dtype: bool"
      ]
     },
     "execution_count": 16,
     "metadata": {},
     "output_type": "execute_result"
    }
   ],
   "source": [
    "# Check for missing values present and provide observations\n",
    "df_final.isna().any()"
   ]
  },
  {
   "cell_type": "code",
   "execution_count": 17,
   "metadata": {
    "colab": {
     "base_uri": "https://localhost:8080/"
    },
    "id": "NTBJ4CoXYEkK",
    "outputId": "1cd4bbd6-9e2f-4e8b-b354-cabdaafe000f"
   },
   "outputs": [
    {
     "data": {
      "text/plain": [
       "0"
      ]
     },
     "execution_count": 17,
     "metadata": {},
     "output_type": "execute_result"
    }
   ],
   "source": [
    "df_final.isna().any().sum()"
   ]
  },
  {
   "cell_type": "markdown",
   "metadata": {
    "id": "qMWuBNhI5JtR"
   },
   "source": [
    "**There is no missing value in the df_final data set**\n",
    "\n"
   ]
  },
  {
   "cell_type": "code",
   "execution_count": 18,
   "metadata": {
    "colab": {
     "base_uri": "https://localhost:8080/",
     "height": 53
    },
    "id": "d-3hqcdz5xXh",
    "outputId": "cb209414-843b-4823-b8b1-4ffd3cc4520e"
   },
   "outputs": [
    {
     "data": {
      "text/html": [
       "<div>\n",
       "<style scoped>\n",
       "    .dataframe tbody tr th:only-of-type {\n",
       "        vertical-align: middle;\n",
       "    }\n",
       "\n",
       "    .dataframe tbody tr th {\n",
       "        vertical-align: top;\n",
       "    }\n",
       "\n",
       "    .dataframe thead th {\n",
       "        text-align: right;\n",
       "    }\n",
       "</style>\n",
       "<table border=\"1\" class=\"dataframe\">\n",
       "  <thead>\n",
       "    <tr style=\"text-align: right;\">\n",
       "      <th></th>\n",
       "      <th>user_id</th>\n",
       "      <th>prod_id</th>\n",
       "      <th>rating</th>\n",
       "    </tr>\n",
       "  </thead>\n",
       "  <tbody>\n",
       "  </tbody>\n",
       "</table>\n",
       "</div>"
      ],
      "text/plain": [
       "Empty DataFrame\n",
       "Columns: [user_id, prod_id, rating]\n",
       "Index: []"
      ]
     },
     "execution_count": 18,
     "metadata": {},
     "output_type": "execute_result"
    }
   ],
   "source": [
    "# Identifies and displays all duplicate rows in the DataFrame 'df_final'.\n",
    "df_final[df_final.duplicated()]"
   ]
  },
  {
   "cell_type": "code",
   "execution_count": 19,
   "metadata": {
    "colab": {
     "base_uri": "https://localhost:8080/"
    },
    "id": "CQFBFYOo5i78",
    "outputId": "e09bef87-4849-4521-fe99-79c0158146c0"
   },
   "outputs": [
    {
     "data": {
      "text/plain": [
       "0"
      ]
     },
     "execution_count": 19,
     "metadata": {},
     "output_type": "execute_result"
    }
   ],
   "source": [
    "# Counts the number of duplicate rows in the DataFrame 'df_final'\n",
    "df_final.duplicated().sum()"
   ]
  },
  {
   "cell_type": "markdown",
   "metadata": {
    "id": "TGCyMddp6BMr"
   },
   "source": [
    "**There is no duplicated rows in this dataset**"
   ]
  },
  {
   "cell_type": "markdown",
   "metadata": {
    "id": "wETrCg48-sVG"
   },
   "source": [
    "### **Summary Statistics**"
   ]
  },
  {
   "cell_type": "code",
   "execution_count": 20,
   "metadata": {
    "colab": {
     "base_uri": "https://localhost:8080/",
     "height": 335
    },
    "id": "tYm30MXR5JtR",
    "outputId": "0dd344f2-d637-4750-a3b4-1c3d76184ba3"
   },
   "outputs": [
    {
     "data": {
      "text/plain": [
       "count    65290.000000\n",
       "mean         4.294808\n",
       "std          0.988915\n",
       "min          1.000000\n",
       "25%          4.000000\n",
       "50%          5.000000\n",
       "75%          5.000000\n",
       "max          5.000000\n",
       "Name: rating, dtype: float64"
      ]
     },
     "execution_count": 20,
     "metadata": {},
     "output_type": "execute_result"
    }
   ],
   "source": [
    "# Summary statistics of 'rating' variable and provide observations\n",
    "df_final['rating'].describe()"
   ]
  },
  {
   "cell_type": "markdown",
   "metadata": {
    "id": "z4fOE02D-sVF"
   },
   "source": [
    "**The The mean of ratings is 4.29 out of 5 which is a high number while the standard deviation is 0.988. When we check the quartiles, it shows that at least 50% of the ratings are 5 while at most 25% of the ratings is below 4. Also the minimum rating is 1.**"
   ]
  },
  {
   "cell_type": "markdown",
   "metadata": {
    "id": "ywyFrZIf5JtR"
   },
   "source": [
    "### **Checking the rating distribution**"
   ]
  },
  {
   "cell_type": "code",
   "execution_count": 24,
   "metadata": {
    "colab": {
     "base_uri": "https://localhost:8080/",
     "height": 272
    },
    "id": "f-RXTqYXcHfv",
    "outputId": "2aa86f56-286b-4110-98b5-adb36885c0bb"
   },
   "outputs": [
    {
     "data": {
      "text/html": [
       "<div>\n",
       "<style scoped>\n",
       "    .dataframe tbody tr th:only-of-type {\n",
       "        vertical-align: middle;\n",
       "    }\n",
       "\n",
       "    .dataframe tbody tr th {\n",
       "        vertical-align: top;\n",
       "    }\n",
       "\n",
       "    .dataframe thead th {\n",
       "        text-align: right;\n",
       "    }\n",
       "</style>\n",
       "<table border=\"1\" class=\"dataframe\">\n",
       "  <thead>\n",
       "    <tr style=\"text-align: right;\">\n",
       "      <th></th>\n",
       "      <th>count</th>\n",
       "    </tr>\n",
       "    <tr>\n",
       "      <th>rating</th>\n",
       "      <th></th>\n",
       "    </tr>\n",
       "  </thead>\n",
       "  <tbody>\n",
       "    <tr>\n",
       "      <th>5.0</th>\n",
       "      <td>36315</td>\n",
       "    </tr>\n",
       "    <tr>\n",
       "      <th>4.0</th>\n",
       "      <td>18127</td>\n",
       "    </tr>\n",
       "    <tr>\n",
       "      <th>3.0</th>\n",
       "      <td>6481</td>\n",
       "    </tr>\n",
       "    <tr>\n",
       "      <th>2.0</th>\n",
       "      <td>2515</td>\n",
       "    </tr>\n",
       "    <tr>\n",
       "      <th>1.0</th>\n",
       "      <td>1852</td>\n",
       "    </tr>\n",
       "  </tbody>\n",
       "</table>\n",
       "</div><br><label><b>dtype:</b> int64</label>"
      ],
      "text/plain": [
       "rating\n",
       "5.0    36315\n",
       "4.0    18127\n",
       "3.0     6481\n",
       "2.0     2515\n",
       "1.0     1852\n",
       "Name: count, dtype: int64"
      ]
     },
     "execution_count": 24,
     "metadata": {},
     "output_type": "execute_result"
    }
   ],
   "source": [
    "# Counts the occurrences of each unique rating value in the 'rating' column.\n",
    "df_final['rating'].value_counts(dropna=False)"
   ]
  },
  {
   "cell_type": "markdown",
   "metadata": {
    "id": "DW3ZP1EO6ez_"
   },
   "source": [
    "**Here is the number of rating for each rating value. The number of 5 and then 4 are significantly higher than the others.**"
   ]
  },
  {
   "cell_type": "code",
   "execution_count": 25,
   "metadata": {
    "colab": {
     "base_uri": "https://localhost:8080/",
     "height": 472
    },
    "id": "QbqhbEVe-sVH",
    "outputId": "296c44cb-da8f-4171-a543-38f4a6c7c37c"
   },
   "outputs": [
    {
     "data": {
      "image/png": "[encoded data removed]",
      "text/plain": [
       "<Figure size 640x480 with 1 Axes>"
      ]
     },
     "metadata": {},
     "output_type": "display_data"
    }
   ],
   "source": [
    "# Create the bar plot and provide observations\n",
    "# Counts the occurrences of each unique rating, sorts them in ascending order, and plots them as a bar chart.\n",
    "df_final['rating'].value_counts().sort_index().plot(kind='bar', color='skyblue', edgecolor='black')\n",
    "# Label for the x-axis\n",
    "plt.xlabel('Rating')\n",
    "# Label for the y-axis\n",
    "plt.ylabel('Frequency')\n",
    "# Title of the chart\n",
    "plt.title('Distribution of Ratings (1 to 5)')\n",
    "# Keep x-axis labels readable\n",
    "plt.xticks(rotation=0)\n",
    "# Displays the plot\n",
    "plt.show()"
   ]
  },
  {
   "cell_type": "markdown",
   "metadata": {
    "id": "t0jONrQv-sVH"
   },
   "source": [
    "**As we expect from the first analysis, most of the ratings is 5 and after that 4 is the most frequent.**"
   ]
  },
  {
   "cell_type": "markdown",
   "metadata": {
    "id": "HefpLdLJxhXd"
   },
   "source": [
    "### **Checking the number of unique users and items in the dataset**"
   ]
  },
  {
   "cell_type": "code",
   "execution_count": 26,
   "metadata": {
    "colab": {
     "base_uri": "https://localhost:8080/",
     "height": 210
    },
    "id": "NbSom7195JtR",
    "outputId": "2aa0efb2-7ccc-4ea8-b15c-2cd8e34519cd"
   },
   "outputs": [
    {
     "data": {
      "text/html": [
       "<div>\n",
       "<style scoped>\n",
       "    .dataframe tbody tr th:only-of-type {\n",
       "        vertical-align: middle;\n",
       "    }\n",
       "\n",
       "    .dataframe tbody tr th {\n",
       "        vertical-align: top;\n",
       "    }\n",
       "\n",
       "    .dataframe thead th {\n",
       "        text-align: right;\n",
       "    }\n",
       "</style>\n",
       "<table border=\"1\" class=\"dataframe\">\n",
       "  <thead>\n",
       "    <tr style=\"text-align: right;\">\n",
       "      <th></th>\n",
       "      <th>user_id</th>\n",
       "    </tr>\n",
       "  </thead>\n",
       "  <tbody>\n",
       "    <tr>\n",
       "      <th>count</th>\n",
       "      <td>65290</td>\n",
       "    </tr>\n",
       "    <tr>\n",
       "      <th>unique</th>\n",
       "      <td>1540</td>\n",
       "    </tr>\n",
       "    <tr>\n",
       "      <th>top</th>\n",
       "      <td>ADLVFFE4VBT8</td>\n",
       "    </tr>\n",
       "    <tr>\n",
       "      <th>freq</th>\n",
       "      <td>295</td>\n",
       "    </tr>\n",
       "  </tbody>\n",
       "</table>\n",
       "</div><br><label><b>dtype:</b> object</label>"
      ],
      "text/plain": [
       "count            65290\n",
       "unique            1540\n",
       "top       ADLVFFE4VBT8\n",
       "freq               295\n",
       "Name: user_id, dtype: object"
      ]
     },
     "execution_count": 26,
     "metadata": {},
     "output_type": "execute_result"
    }
   ],
   "source": [
    "# Number of total rows in the data and number of unique user id and product id in the data\n",
    "df_final['user_id'].describe()"
   ]
  },
  {
   "cell_type": "markdown",
   "metadata": {
    "id": "zLOy1RG8edzD"
   },
   "source": [
    "**There are 1,540 unique user IDs. The most frequent user, ADLVFFE4VBT8 has 295 ratings.**"
   ]
  },
  {
   "cell_type": "code",
   "execution_count": 29,
   "metadata": {
    "colab": {
     "base_uri": "https://localhost:8080/",
     "height": 210
    },
    "id": "b-uSDkMgduWW",
    "outputId": "82318817-0094-4db8-8449-3e01aedeb20f"
   },
   "outputs": [
    {
     "data": {
      "text/html": [
       "<div>\n",
       "<style scoped>\n",
       "    .dataframe tbody tr th:only-of-type {\n",
       "        vertical-align: middle;\n",
       "    }\n",
       "\n",
       "    .dataframe tbody tr th {\n",
       "        vertical-align: top;\n",
       "    }\n",
       "\n",
       "    .dataframe thead th {\n",
       "        text-align: right;\n",
       "    }\n",
       "</style>\n",
       "<table border=\"1\" class=\"dataframe\">\n",
       "  <thead>\n",
       "    <tr style=\"text-align: right;\">\n",
       "      <th></th>\n",
       "      <th>prod_id</th>\n",
       "    </tr>\n",
       "  </thead>\n",
       "  <tbody>\n",
       "    <tr>\n",
       "      <th>count</th>\n",
       "      <td>65290</td>\n",
       "    </tr>\n",
       "    <tr>\n",
       "      <th>unique</th>\n",
       "      <td>5689</td>\n",
       "    </tr>\n",
       "    <tr>\n",
       "      <th>top</th>\n",
       "      <td>B0088CJT4U</td>\n",
       "    </tr>\n",
       "    <tr>\n",
       "      <th>freq</th>\n",
       "      <td>206</td>\n",
       "    </tr>\n",
       "  </tbody>\n",
       "</table>\n",
       "</div><br><label><b>dtype:</b> object</label>"
      ],
      "text/plain": [
       "count          65290\n",
       "unique          5689\n",
       "top       B0088CJT4U\n",
       "freq             206\n",
       "Name: prod_id, dtype: object"
      ]
     },
     "execution_count": 29,
     "metadata": {},
     "output_type": "execute_result"
    }
   ],
   "source": [
    "df_final['prod_id'].describe()"
   ]
  },
  {
   "cell_type": "markdown",
   "metadata": {
    "id": "Qwgz6CUt-sVI"
   },
   "source": [
    "**There are 5689 unique products, while the most rated product, B0088CJT4U, has received 206 ratings.**"
   ]
  },
  {
   "cell_type": "markdown",
   "metadata": {
    "id": "RfDnhSS4-sVI"
   },
   "source": [
    "### **Users with the most number of ratings**"
   ]
  },
  {
   "cell_type": "code",
   "execution_count": 21,
   "metadata": {
    "colab": {
     "base_uri": "https://localhost:8080/",
     "height": 429
    },
    "id": "n7MX452q5JtR",
    "outputId": "dffe4810-5390-4774-9c8f-c3a8c640ce40"
   },
   "outputs": [
    {
     "data": {
      "text/plain": [
       "ADLVFFE4VBT8      295\n",
       "A3OXHLG6DIBRW8    230\n",
       "A1ODOGXEYECQQ8    217\n",
       "A36K2N527TXXJN    212\n",
       "A25C2M3QF9G7OQ    203\n",
       "A680RUE1FDO8B     196\n",
       "A1UQBFCERIP7VJ    193\n",
       "A22CW0ZHY3NJH8    193\n",
       "AWPODHOB4GFWL     184\n",
       "A3LGT6UZL99IW1    179\n",
       "Name: user_id, dtype: int64"
      ]
     },
     "execution_count": 21,
     "metadata": {},
     "output_type": "execute_result"
    }
   ],
   "source": [
    "# Top 10 users based on the number of ratings\n",
    "df_final['user_id'].value_counts()[:10]"
   ]
  },
  {
   "cell_type": "code",
   "execution_count": 35,
   "metadata": {
    "colab": {
     "base_uri": "https://localhost:8080/"
    },
    "id": "UvYrCkEWebGp",
    "outputId": "135618e9-4870-4f69-a8c9-88c73ae4d1d2"
   },
   "outputs": [
    {
     "data": {
      "text/plain": [
       "['ADLVFFE4VBT8',\n",
       " 'A3OXHLG6DIBRW8',\n",
       " 'A1ODOGXEYECQQ8',\n",
       " 'A36K2N527TXXJN',\n",
       " 'A25C2M3QF9G7OQ',\n",
       " 'A680RUE1FDO8B',\n",
       " 'A1UQBFCERIP7VJ',\n",
       " 'A22CW0ZHY3NJH8',\n",
       " 'AWPODHOB4GFWL',\n",
       " 'AGVWTYW0ULXHT']"
      ]
     },
     "execution_count": 35,
     "metadata": {},
     "output_type": "execute_result"
    }
   ],
   "source": [
    "# List of the top 10 user IDs\n",
    "list(df_final['user_id'].value_counts()[:10].index)"
   ]
  },
  {
   "cell_type": "markdown",
   "metadata": {
    "id": "1X2w_jt9-sVI"
   },
   "source": [
    "**Above is a list of the top 10 users with the highest number of ratings. The most active user has submitted 295 ratings.**"
   ]
  },
  {
   "cell_type": "markdown",
   "metadata": {
    "id": "EnYTx-Ol-sVg"
   },
   "source": [
    "**Now that we have explored and prepared the data, let's build the first recommendation system.**"
   ]
  },
  {
   "cell_type": "markdown",
   "metadata": {
    "id": "6xYGrGVy5JtS"
   },
   "source": [
    "## **Model 1: Rank Based Recommendation System**"
   ]
  },
  {
   "cell_type": "code",
   "execution_count": 36,
   "metadata": {
    "colab": {
     "base_uri": "https://localhost:8080/",
     "height": 238
    },
    "id": "yxZTj1UPxhXh",
    "outputId": "ab8fd117-7699-4706-9ce8-3e255290e2f5",
    "scrolled": true
   },
   "outputs": [
    {
     "data": {
      "application/vnd.google.colaboratory.intrinsic+json": {
       "summary": "{\n  \"name\": \"df_summary\",\n  \"rows\": 5689,\n  \"fields\": [\n    {\n      \"column\": \"prod_id\",\n      \"properties\": {\n        \"dtype\": \"string\",\n        \"num_unique_values\": 5689,\n        \"samples\": [\n          \"B00F3T0DKK\",\n          \"B004HW7KDC\",\n          \"B002XN7C6W\"\n        ],\n        \"semantic_type\": \"\",\n        \"description\": \"\"\n      }\n    },\n    {\n      \"column\": \"avg_rating\",\n      \"properties\": {\n        \"dtype\": \"number\",\n        \"std\": 0.5244418871974867,\n        \"min\": 1.375,\n        \"max\": 5.0,\n        \"num_unique_values\": 509,\n        \"samples\": [\n          4.709677419354839,\n          4.052631578947368,\n          2.6666666666666665\n        ],\n        \"semantic_type\": \"\",\n        \"description\": \"\"\n      }\n    },\n    {\n      \"column\": \"rating_count\",\n      \"properties\": {\n        \"dtype\": \"number\",\n        \"std\": 11,\n        \"min\": 5,\n        \"max\": 206,\n        \"num_unique_values\": 93,\n        \"samples\": [\n          41,\n          25,\n          63\n        ],\n        \"semantic_type\": \"\",\n        \"description\": \"\"\n      }\n    }\n  ]\n}",
       "type": "dataframe",
       "variable_name": "df_summary"
      },
      "text/html": [
       "\n",
       "  <div id=\"df-4da1c059-b11e-457f-9427-f3e0e644b6b8\" class=\"colab-df-container\">\n",
       "    <div>\n",
       "<style scoped>\n",
       "    .dataframe tbody tr th:only-of-type {\n",
       "        vertical-align: middle;\n",
       "    }\n",
       "\n",
       "    .dataframe tbody tr th {\n",
       "        vertical-align: top;\n",
       "    }\n",
       "\n",
       "    .dataframe thead th {\n",
       "        text-align: right;\n",
       "    }\n",
       "</style>\n",
       "<table border=\"1\" class=\"dataframe\">\n",
       "  <thead>\n",
       "    <tr style=\"text-align: right;\">\n",
       "      <th></th>\n",
       "      <th>avg_rating</th>\n",
       "      <th>rating_count</th>\n",
       "    </tr>\n",
       "    <tr>\n",
       "      <th>prod_id</th>\n",
       "      <th></th>\n",
       "      <th></th>\n",
       "    </tr>\n",
       "  </thead>\n",
       "  <tbody>\n",
       "    <tr>\n",
       "      <th>B00LGQ6HL8</th>\n",
       "      <td>5.0</td>\n",
       "      <td>5</td>\n",
       "    </tr>\n",
       "    <tr>\n",
       "      <th>B003DZJQQI</th>\n",
       "      <td>5.0</td>\n",
       "      <td>14</td>\n",
       "    </tr>\n",
       "    <tr>\n",
       "      <th>B005FDXF2C</th>\n",
       "      <td>5.0</td>\n",
       "      <td>7</td>\n",
       "    </tr>\n",
       "    <tr>\n",
       "      <th>B00I6CVPVC</th>\n",
       "      <td>5.0</td>\n",
       "      <td>7</td>\n",
       "    </tr>\n",
       "    <tr>\n",
       "      <th>B00B9KOCYA</th>\n",
       "      <td>5.0</td>\n",
       "      <td>8</td>\n",
       "    </tr>\n",
       "  </tbody>\n",
       "</table>\n",
       "</div>\n",
       "    <div class=\"colab-df-buttons\">\n",
       "\n",
       "  <div class=\"colab-df-container\">\n",
       "    <button class=\"colab-df-convert\" onclick=\"convertToInteractive('df-4da1c059-b11e-457f-9427-f3e0e644b6b8')\"\n",
       "            title=\"Convert this dataframe to an interactive table.\"\n",
       "            style=\"display:none;\">\n",
       "\n",
       "  <svg xmlns=\"http://www.w3.org/2000/svg\" height=\"24px\" viewBox=\"0 -960 960 960\">\n",
       "    <path d=\"M120-120v-720h720v720H120Zm60-500h600v-160H180v160Zm220 220h160v-160H400v160Zm0 220h160v-160H400v160ZM180-400h160v-160H180v160Zm440 0h160v-160H620v160ZM180-180h160v-160H180v160Zm440 0h160v-160H620v160Z\"/>\n",
       "  </svg>\n",
       "    </button>\n",
       "\n",
       "  <style>\n",
       "    .colab-df-container {\n",
       "      display:flex;\n",
       "      gap: 12px;\n",
       "    }\n",
       "\n",
       "    .colab-df-convert {\n",
       "      background-color: #E8F0FE;\n",
       "      border: none;\n",
       "      border-radius: 50%;\n",
       "      cursor: pointer;\n",
       "      display: none;\n",
       "      fill: #1967D2;\n",
       "      height: 32px;\n",
       "      padding: 0 0 0 0;\n",
       "      width: 32px;\n",
       "    }\n",
       "\n",
       "    .colab-df-convert:hover {\n",
       "      background-color: #E2EBFA;\n",
       "      box-shadow: 0px 1px 2px rgba(60, 64, 67, 0.3), 0px 1px 3px 1px rgba(60, 64, 67, 0.15);\n",
       "      fill: #174EA6;\n",
       "    }\n",
       "\n",
       "    .colab-df-buttons div {\n",
       "      margin-bottom: 4px;\n",
       "    }\n",
       "\n",
       "    [theme=dark] .colab-df-convert {\n",
       "      background-color: #3B4455;\n",
       "      fill: #D2E3FC;\n",
       "    }\n",
       "\n",
       "    [theme=dark] .colab-df-convert:hover {\n",
       "      background-color: #434B5C;\n",
       "      box-shadow: 0px 1px 3px 1px rgba(0, 0, 0, 0.15);\n",
       "      filter: drop-shadow(0px 1px 2px rgba(0, 0, 0, 0.3));\n",
       "      fill: #FFFFFF;\n",
       "    }\n",
       "  </style>\n",
       "\n",
       "    <script>\n",
       "      const buttonEl =\n",
       "        document.querySelector('#df-4da1c059-b11e-457f-9427-f3e0e644b6b8 button.colab-df-convert');\n",
       "      buttonEl.style.display =\n",
       "        google.colab.kernel.accessAllowed ? 'block' : 'none';\n",
       "\n",
       "      async function convertToInteractive(key) {\n",
       "        const element = document.querySelector('#df-4da1c059-b11e-457f-9427-f3e0e644b6b8');\n",
       "        const dataTable =\n",
       "          await google.colab.kernel.invokeFunction('convertToInteractive',\n",
       "                                                    [key], {});\n",
       "        if (!dataTable) return;\n",
       "\n",
       "        const docLinkHtml = 'Like what you see? Visit the ' +\n",
       "          '<a target=\"_blank\" href=https://colab.research.google.com/notebooks/data_table.ipynb>data table notebook</a>'\n",
       "          + ' to learn more about interactive tables.';\n",
       "        element.innerHTML = '';\n",
       "        dataTable['output_type'] = 'display_data';\n",
       "        await google.colab.output.renderOutput(dataTable, element);\n",
       "        const docLink = document.createElement('div');\n",
       "        docLink.innerHTML = docLinkHtml;\n",
       "        element.appendChild(docLink);\n",
       "      }\n",
       "    </script>\n",
       "  </div>\n",
       "\n",
       "\n",
       "<div id=\"df-fb3251b7-2c0f-46d2-98e9-7794a16e9f79\">\n",
       "  <button class=\"colab-df-quickchart\" onclick=\"quickchart('df-fb3251b7-2c0f-46d2-98e9-7794a16e9f79')\"\n",
       "            title=\"Suggest charts\"\n",
       "            style=\"display:none;\">\n",
       "\n",
       "<svg xmlns=\"http://www.w3.org/2000/svg\" height=\"24px\"viewBox=\"0 0 24 24\"\n",
       "     width=\"24px\">\n",
       "    <g>\n",
       "        <path d=\"M19 3H5c-1.1 0-2 .9-2 2v14c0 1.1.9 2 2 2h14c1.1 0 2-.9 2-2V5c0-1.1-.9-2-2-2zM9 17H7v-7h2v7zm4 0h-2V7h2v10zm4 0h-2v-4h2v4z\"/>\n",
       "    </g>\n",
       "</svg>\n",
       "  </button>\n",
       "\n",
       "<style>\n",
       "  .colab-df-quickchart {\n",
       "      --bg-color: #E8F0FE;\n",
       "      --fill-color: #1967D2;\n",
       "      --hover-bg-color: #E2EBFA;\n",
       "      --hover-fill-color: #174EA6;\n",
       "      --disabled-fill-color: #AAA;\n",
       "      --disabled-bg-color: #DDD;\n",
       "  }\n",
       "\n",
       "  [theme=dark] .colab-df-quickchart {\n",
       "      --bg-color: #3B4455;\n",
       "      --fill-color: #D2E3FC;\n",
       "      --hover-bg-color: #434B5C;\n",
       "      --hover-fill-color: #FFFFFF;\n",
       "      --disabled-bg-color: #3B4455;\n",
       "      --disabled-fill-color: #666;\n",
       "  }\n",
       "\n",
       "  .colab-df-quickchart {\n",
       "    background-color: var(--bg-color);\n",
       "    border: none;\n",
       "    border-radius: 50%;\n",
       "    cursor: pointer;\n",
       "    display: none;\n",
       "    fill: var(--fill-color);\n",
       "    height: 32px;\n",
       "    padding: 0;\n",
       "    width: 32px;\n",
       "  }\n",
       "\n",
       "  .colab-df-quickchart:hover {\n",
       "    background-color: var(--hover-bg-color);\n",
       "    box-shadow: 0 1px 2px rgba(60, 64, 67, 0.3), 0 1px 3px 1px rgba(60, 64, 67, 0.15);\n",
       "    fill: var(--button-hover-fill-color);\n",
       "  }\n",
       "\n",
       "  .colab-df-quickchart-complete:disabled,\n",
       "  .colab-df-quickchart-complete:disabled:hover {\n",
       "    background-color: var(--disabled-bg-color);\n",
       "    fill: var(--disabled-fill-color);\n",
       "    box-shadow: none;\n",
       "  }\n",
       "\n",
       "  .colab-df-spinner {\n",
       "    border: 2px solid var(--fill-color);\n",
       "    border-color: transparent;\n",
       "    border-bottom-color: var(--fill-color);\n",
       "    animation:\n",
       "      spin 1s steps(1) infinite;\n",
       "  }\n",
       "\n",
       "  @keyframes spin {\n",
       "    0% {\n",
       "      border-color: transparent;\n",
       "      border-bottom-color: var(--fill-color);\n",
       "      border-left-color: var(--fill-color);\n",
       "    }\n",
       "    20% {\n",
       "      border-color: transparent;\n",
       "      border-left-color: var(--fill-color);\n",
       "      border-top-color: var(--fill-color);\n",
       "    }\n",
       "    30% {\n",
       "      border-color: transparent;\n",
       "      border-left-color: var(--fill-color);\n",
       "      border-top-color: var(--fill-color);\n",
       "      border-right-color: var(--fill-color);\n",
       "    }\n",
       "    40% {\n",
       "      border-color: transparent;\n",
       "      border-right-color: var(--fill-color);\n",
       "      border-top-color: var(--fill-color);\n",
       "    }\n",
       "    60% {\n",
       "      border-color: transparent;\n",
       "      border-right-color: var(--fill-color);\n",
       "    }\n",
       "    80% {\n",
       "      border-color: transparent;\n",
       "      border-right-color: var(--fill-color);\n",
       "      border-bottom-color: var(--fill-color);\n",
       "    }\n",
       "    90% {\n",
       "      border-color: transparent;\n",
       "      border-bottom-color: var(--fill-color);\n",
       "    }\n",
       "  }\n",
       "</style>\n",
       "\n",
       "  <script>\n",
       "    async function quickchart(key) {\n",
       "      const quickchartButtonEl =\n",
       "        document.querySelector('#' + key + ' button');\n",
       "      quickchartButtonEl.disabled = true;  // To prevent multiple clicks.\n",
       "      quickchartButtonEl.classList.add('colab-df-spinner');\n",
       "      try {\n",
       "        const charts = await google.colab.kernel.invokeFunction(\n",
       "            'suggestCharts', [key], {});\n",
       "      } catch (error) {\n",
       "        console.error('Error during call to suggestCharts:', error);\n",
       "      }\n",
       "      quickchartButtonEl.classList.remove('colab-df-spinner');\n",
       "      quickchartButtonEl.classList.add('colab-df-quickchart-complete');\n",
       "    }\n",
       "    (() => {\n",
       "      let quickchartButtonEl =\n",
       "        document.querySelector('#df-fb3251b7-2c0f-46d2-98e9-7794a16e9f79 button');\n",
       "      quickchartButtonEl.style.display =\n",
       "        google.colab.kernel.accessAllowed ? 'block' : 'none';\n",
       "    })();\n",
       "  </script>\n",
       "</div>\n",
       "\n",
       "    </div>\n",
       "  </div>\n"
      ],
      "text/plain": [
       "            avg_rating  rating_count\n",
       "prod_id                             \n",
       "B00LGQ6HL8         5.0             5\n",
       "B003DZJQQI         5.0            14\n",
       "B005FDXF2C         5.0             7\n",
       "B00I6CVPVC         5.0             7\n",
       "B00B9KOCYA         5.0             8"
      ]
     },
     "execution_count": 36,
     "metadata": {},
     "output_type": "execute_result"
    }
   ],
   "source": [
    "# Calculate the average rating for each product\n",
    "d1 = df_final.groupby(['prod_id'])['rating'].mean()\n",
    "# Calculate the count of ratings for each product\n",
    "d2 = df_final.groupby(['prod_id'])['rating'].count()\n",
    "# Create a dataframe with calculated average and count of ratings\n",
    "df_summary = pd.DataFrame({'avg_rating': d1, 'rating_count': d2})\n",
    "# Sort the dataframe by average of ratings in the descending order\n",
    "df_summary.sort_values(by='avg_rating', ascending=False, inplace = True)\n",
    "# See the first five records of the \"final_rating\" dataset\n",
    "df_summary.head()"
   ]
  },
  {
   "cell_type": "code",
   "execution_count": 37,
   "metadata": {
    "id": "zKU__5s1xhXi"
   },
   "outputs": [],
   "source": [
    "# Defining a function to get the top n products based on the highest average rating and minimum interactions\n",
    "def top_products (df, n_top_products, min_interaction):\n",
    "\n",
    "  # Finding products with minimum number of interactions\n",
    "  df_sorted = df.loc[df['rating_count'] > min_interaction]\n",
    "  # Sorting values with respect to average rating\n",
    "  df_sorted = df_sorted.sort_values(by='avg_rating', ascending=False)\n",
    "  return list(df_sorted.head(n_top_products).index)"
   ]
  },
  {
   "cell_type": "markdown",
   "metadata": {
    "id": "F8l6373PxhXi"
   },
   "source": [
    "### **Recommending top 5 products with 50 minimum interactions based on popularity**"
   ]
  },
  {
   "cell_type": "code",
   "execution_count": 38,
   "metadata": {
    "colab": {
     "base_uri": "https://localhost:8080/"
    },
    "id": "dBxdLiM_xhXi",
    "outputId": "7613ce95-0db1-4b9f-9488-b6379cb7799e"
   },
   "outputs": [
    {
     "data": {
      "text/plain": [
       "['B001TH7GUU', 'B003ES5ZUU', 'B0019EHU8G', 'B006W8U2MU', 'B000QUUFRW']"
      ]
     },
     "execution_count": 38,
     "metadata": {},
     "output_type": "execute_result"
    }
   ],
   "source": [
    "top_products (df_summary, n_top_products = 5, min_interaction = 50)"
   ]
  },
  {
   "cell_type": "markdown",
   "metadata": {
    "id": "l9_xW_UMxhXj"
   },
   "source": [
    "### **Recommending top 5 products with 100 minimum interactions based on popularity**"
   ]
  },
  {
   "cell_type": "code",
   "execution_count": 39,
   "metadata": {
    "colab": {
     "base_uri": "https://localhost:8080/"
    },
    "id": "dZgGZCUoxhXj",
    "outputId": "59e1a6b0-a6b1-4951-a21d-5e47a896545b"
   },
   "outputs": [
    {
     "data": {
      "text/plain": [
       "['B003ES5ZUU', 'B000N99BBC', 'B007WTAJTO', 'B002V88HFE', 'B004CLYEDC']"
      ]
     },
     "execution_count": 39,
     "metadata": {},
     "output_type": "execute_result"
    }
   ],
   "source": [
    "top_products (df_summary, n_top_products = 5, min_interaction = 100)"
   ]
  },
  {
   "cell_type": "markdown",
   "metadata": {
    "id": "BL-m68a15JtT",
    "outputId": "69132b0f-8d3f-4798-f6a0-249e17a3c822"
   },
   "source": [
    "We have recommended the **top 5** products by using the popularity recommendation system. Now, let's build a recommendation system using **collaborative filtering.**"
   ]
  },
  {
   "cell_type": "markdown",
   "metadata": {
    "id": "sJI5kiiGvOOK"
   },
   "source": [
    "## **Model 2: Collaborative Filtering Recommendation System**"
   ]
  },
  {
   "cell_type": "markdown",
   "metadata": {
    "id": "skzc0N1_nVNB"
   },
   "source": [
    "### **Building a baseline user-user similarity based recommendation system**"
   ]
  },
  {
   "cell_type": "markdown",
   "metadata": {
    "id": "d4Uo_MYMnVNB"
   },
   "source": [
    "- Below, we are building **similarity-based recommendation systems** using `cosine` similarity and using **KNN to find similar users** which are the nearest neighbor to the given user.  \n",
    "- We will be using a new library, called `surprise`, to build the remaining models. Let's first import the necessary classes and functions from this library."
   ]
  },
  {
   "cell_type": "code",
   "execution_count": 40,
   "metadata": {
    "id": "UJ1wEylUpexj"
   },
   "outputs": [],
   "source": [
    "# To compute the accuracy of models\n",
    "from surprise import accuracy\n",
    "\n",
    "# Class is used to parse a file containing ratings, data should be in structure - user ; item ; rating\n",
    "from surprise.reader import Reader\n",
    "\n",
    "# Class for loading datasets\n",
    "from surprise.dataset import Dataset\n",
    "\n",
    "# For tuning model hyperparameters\n",
    "from surprise.model_selection import GridSearchCV\n",
    "\n",
    "# For splitting the rating data in train and test datasets\n",
    "from surprise.model_selection import train_test_split\n",
    "\n",
    "# For implementing similarity-based recommendation system\n",
    "from surprise.prediction_algorithms.knns import KNNBasic\n",
    "\n",
    "# For implementing matrix factorization based recommendation system\n",
    "from surprise.prediction_algorithms.matrix_factorization import SVD\n",
    "\n",
    "# for implementing K-Fold cross-validation\n",
    "from surprise.model_selection import KFold\n",
    "\n",
    "# For implementing clustering-based recommendation system\n",
    "from surprise import CoClustering"
   ]
  },
  {
   "cell_type": "markdown",
   "metadata": {},
   "source": [
    "## **Key Concepts in Recommendation Systems**\n",
    "\n",
    "Before building the recommendation system, it’s essential to understand some fundamental concepts that will be used throughout the project. These terms help evaluate the performance of the model and ensure that the recommendations are both relevant and useful to users.\n",
    "\n",
    "1. **Understanding Relevant vs. Recommended Items**\n",
    "   \n",
    "- Relevant Item: A product is considered relevant if its actual rating exceeds a defined threshold. If the rating is below the threshold, it is considered non-relevant.\n",
    "- Recommended Item: A product is recommended if its predicted rating surpasses the threshold. If the predicted rating is lower, it is not recommended to the user.\n",
    "\n",
    "2. **Error Metrics in Recommendation Systems**\n",
    "   \n",
    "- False Negative (FN): The number of relevant items that were not recommended to the user. This can result in missed opportunities for businesses, as users might have been interested in those products.\n",
    "- False Positive (FP): The number of irrelevant items that were mistakenly recommended. This can lead to wasted resources and a poor user experience.\n",
    "\n",
    "3. **Performance Metrics**\n",
    "Evaluating a recommendation system is crucial to ensure its effectiveness. The following metrics are commonly used to assess its performance:\n",
    "\n",
    "- Recall: Measures the proportion of relevant items that were successfully recommended. For example, if out of 10 relevant products, 6 were recommended, the recall would be 0.60. A higher recall indicates better model performance.\n",
    "- Precision: Measures how many of the recommended items were actually relevant. If 10 items were recommended and 6 turned out to be relevant, the precision would be 0.60. A higher precision means more accurate recommendations.\n",
    "  \n",
    "4. **Evaluating Recommendations at a Fixed ‘k’**\n",
    "Since recommendation systems often generate multiple suggestions for each user, we assess their effectiveness using Precision@k, Recall@k, and F1-score@k, where ‘k’ represents the number of top recommendations provided.\n",
    "\n",
    "- Precision@k: The fraction of relevant items among the top k recommendations. A higher value indicates that the recommendations are more relevant.\n",
    "- Recall@k: The fraction of relevant items successfully recommended within the top k predictions.\n",
    "- F1-score@k: The harmonic mean of Precision@k and Recall@k, balancing both metrics when they are equally important.\n",
    "- \n",
    "To compute these metrics, we will implement a function that evaluates a given recommendation model, calculates Precision@k, Recall@k, and F1-score@k, and provides insights into its effectiveness. The function will consider the top k predictions for each user, helping fine-tune the recommendation system."
   ]
  },
  {
   "cell_type": "code",
   "execution_count": 41,
   "metadata": {
    "id": "Rxn-GahOTsnm"
   },
   "outputs": [],
   "source": [
    "def precision_recall_at_k(model, k = 10, threshold = 3.5):\n",
    "\n",
    "    \"\"\"Return precision and recall at k metrics for each user\"\"\"\n",
    "\n",
    "    # First map the predictions to each user\n",
    "    user_est_true = defaultdict(list)\n",
    "\n",
    "    # Making predictions on the test data\n",
    "    predictions = model.test(testset)\n",
    "\n",
    "    for uid, _, true_r, est, _ in predictions:\n",
    "        user_est_true[uid].append((est, true_r))\n",
    "\n",
    "    precisions = dict()\n",
    "    recalls = dict()\n",
    "    for uid, user_ratings in user_est_true.items():\n",
    "\n",
    "        # Sort user ratings by estimated value\n",
    "        user_ratings.sort(key = lambda x: x[0], reverse = True)\n",
    "\n",
    "        # Number of relevant items\n",
    "        n_rel = sum((true_r >= threshold) for (_, true_r) in user_ratings)\n",
    "\n",
    "        # Number of recommended items in top k\n",
    "        n_rec_k = sum((est >= threshold) for (est, _) in user_ratings[:k])\n",
    "\n",
    "        # Number of relevant and recommended items in top k\n",
    "        n_rel_and_rec_k = sum(((true_r >= threshold) and (est >= threshold))\n",
    "                              for (est, true_r) in user_ratings[:k])\n",
    "\n",
    "        # Precision@K: Proportion of recommended items that are relevant\n",
    "        # When n_rec_k is 0, Precision is undefined. Therefore, we are setting Precision to 0 when n_rec_k is 0\n",
    "\n",
    "        precisions[uid] = n_rel_and_rec_k / n_rec_k if n_rec_k != 0 else 0\n",
    "\n",
    "        # Recall@K: Proportion of relevant items that are recommended\n",
    "        # When n_rel is 0, Recall is undefined. Therefore, we are setting Recall to 0 when n_rel is 0\n",
    "\n",
    "        recalls[uid] = n_rel_and_rec_k / n_rel if n_rel != 0 else 0\n",
    "\n",
    "    # Mean of all the predicted precisions are calculated.\n",
    "    precision = round((sum(prec for prec in precisions.values()) / len(precisions)), 3)\n",
    "\n",
    "    # Mean of all the predicted recalls are calculated.\n",
    "    recall = round((sum(rec for rec in recalls.values()) / len(recalls)), 3)\n",
    "\n",
    "    accuracy.rmse(predictions)\n",
    "\n",
    "    print('Precision: ', precision) # Command to print the overall precision\n",
    "\n",
    "    print('Recall: ', recall) # Command to print the overall recall\n",
    "\n",
    "    print('F_1 score: ', round((2*precision*recall)/(precision+recall), 3)) # Formula to compute the F-1 score"
   ]
  },
  {
   "cell_type": "markdown",
   "metadata": {
    "id": "_ZmsamDVyek-"
   },
   "source": [
    "**Defining the Evaluation Criteria:**\n",
    "\n",
    "To assess the effectiveness of the recommendation system, we need to establish key parameters for computing precision and recall.\n",
    "\n",
    "- **Threshold Selection:** A rating threshold of 3.5 is used to determine whether a product is considered relevant (above 3.5) or non-relevant (below 3.5).\n",
    "- **Top-k Recommendations:** The evaluation focuses on the top 10 recommendations (k=10) for each user to analyze the model’s performance in providing meaningful suggestions.\n",
    "\n",
    "Choosing the right performance metric is crucial. The balance between precision and recall determines whether the system prioritizes relevant recommendations while minimizing false positives and false negatives. By fine-tuning these metrics, we can optimize the recommendation system for better user engagement."
   ]
  },
  {
   "cell_type": "markdown",
   "metadata": {
    "id": "8hxjJMTwnVNB"
   },
   "source": [
    "Below we are loading the **`rating` dataset**, which is a **pandas DataFrame**, into a **different format called `surprise.dataset.DatasetAutoFolds`**, which is required by this library. To do this, we will be **using the classes `Reader` and `Dataset`.**"
   ]
  },
  {
   "cell_type": "code",
   "execution_count": 45,
   "metadata": {
    "id": "rGfYDiOCpe4X"
   },
   "outputs": [],
   "source": [
    "# Instantiating Reader scale with expected rating scale\n",
    "reader = Reader(rating_scale=(1, 5))\n",
    "# Loading the rating dataset\n",
    "data = Dataset.load_from_df(df_final[['user_id', 'prod_id', 'rating']], reader)\n",
    "# Splitting the data into train and test datasets\n",
    "trainset, testset = train_test_split(data, test_size=0.2, random_state=42)"
   ]
  },
  {
   "cell_type": "markdown",
   "metadata": {
    "id": "DmHTEt7TnVNC"
   },
   "source": [
    "Now, we are **ready to build the first baseline similarity-based recommendation system** using the cosine similarity."
   ]
  },
  {
   "cell_type": "markdown",
   "metadata": {
    "id": "SVDfVHB4tQfU"
   },
   "source": [
    "### **Building the user-user Similarity-based Recommendation System**"
   ]
  },
  {
   "cell_type": "code",
   "execution_count": 46,
   "metadata": {
    "colab": {
     "base_uri": "https://localhost:8080/"
    },
    "id": "vO3FL7iape8A",
    "outputId": "ed21be94-7ee2-4108-c89a-bf8473f2613f"
   },
   "outputs": [
    {
     "name": "stdout",
     "output_type": "stream",
     "text": [
      "RMSE: 1.0012\n",
      "Precision:  0.855\n",
      "Recall:  0.858\n",
      "F_1 score:  0.856\n"
     ]
    }
   ],
   "source": [
    "# Declaring the similarity options\n",
    "sim_options = {\n",
    "    \"name\": \"cosine\", # Using the cosine similarity\n",
    "    \"user_based\": True  # True for user-user CF, False for item-item CF\n",
    "}\n",
    "\n",
    "# Initialize the KNNBasic model using sim_options declared, Verbose = False, and setting random_state = 1\n",
    "model = KNNBasic(sim_options=sim_options, verbose=False, random_state=1)\n",
    "\n",
    "# Fit the model on the training data\n",
    "model.fit(trainset)\n",
    "\n",
    "# Let us compute precision@k, recall@k, and f_1 score using the precision_recall_at_k function defined above\n",
    "precision_recall_at_k(model)"
   ]
  },
  {
   "cell_type": "markdown",
   "metadata": {
    "id": "nEuJK_A9Tsnn"
   },
   "source": [
    "**This user-user model gives us the precision of 0.855, recall of 0.858 and F1-score of 0.856 while the RMSE is 1.0012.**"
   ]
  },
  {
   "cell_type": "markdown",
   "metadata": {
    "id": "reFD0-nsnVNC"
   },
   "source": [
    "Let's now **predict rating for a user with `userId=A3LDPF5FMB782Z` and `productId=1400501466`** as shown below. Here the user has already interacted or watched the product with productId '1400501466' and given a rating of 5."
   ]
  },
  {
   "cell_type": "code",
   "execution_count": 47,
   "metadata": {
    "colab": {
     "base_uri": "https://localhost:8080/"
    },
    "id": "Sxd23bZ9pe_x",
    "outputId": "48f1ba37-175f-4d84-aafb-762dedf0c869"
   },
   "outputs": [
    {
     "data": {
      "text/plain": [
       "Prediction(uid='A3LDPF5FMB782Z', iid='1400501466', r_ui=5, est=3.4, details={'actual_k': 5, 'was_impossible': False})"
      ]
     },
     "execution_count": 47,
     "metadata": {},
     "output_type": "execute_result"
    }
   ],
   "source": [
    "# Predicting rating for a sample user with an interacted product\n",
    "model.predict(uid='A3LDPF5FMB782Z', iid='1400501466', r_ui=5)"
   ]
  },
  {
   "cell_type": "markdown",
   "metadata": {
    "id": "ENJcqG_wemRH"
   },
   "source": [
    "**While the actual mrating is 5, the model predict 3.4 which is not really good prediction**"
   ]
  },
  {
   "cell_type": "markdown",
   "metadata": {
    "id": "cj6ecbglTsno"
   },
   "source": [
    "Below is the **list of users who have not seen the product with product id \"1400501466\"**."
   ]
  },
  {
   "cell_type": "code",
   "execution_count": 31,
   "metadata": {
    "colab": {
     "base_uri": "https://localhost:8080/"
    },
    "id": "xCRBMD-RTsno",
    "outputId": "c6813edc-69f8-439c-8a65-556649ac7bf9"
   },
   "outputs": [],
   "source": [
    "# Find unique user_id where prod_id is not equal to \"1400501466\":\n",
    "\n",
    "# Find users who have rated prod_id = '1400501466'\n",
    "users_with_prod = df_final[df_final['prod_id'] == '1400501466']['user_id'].unique()\n",
    "\n",
    "# Get users who never rated prod_id = '1400501466'\n",
    "unique_users = df_final[~df_final['user_id'].isin(users_with_prod)]['user_id'].unique()"
   ]
  },
  {
   "cell_type": "code",
   "execution_count": 32,
   "metadata": {},
   "outputs": [],
   "source": [
    "list_users_not_seen_1400501466 = list(unique_users)"
   ]
  },
  {
   "cell_type": "code",
   "execution_count": 30,
   "metadata": {},
   "outputs": [
    {
     "data": {
      "text/plain": [
       "False"
      ]
     },
     "execution_count": 30,
     "metadata": {},
     "output_type": "execute_result"
    }
   ],
   "source": [
    "'A3LDPF5FMB782Z' in list_users_not_seen_1400501466"
   ]
  },
  {
   "cell_type": "code",
   "execution_count": 33,
   "metadata": {},
   "outputs": [
    {
     "data": {
      "text/plain": [
       "True"
      ]
     },
     "execution_count": 33,
     "metadata": {},
     "output_type": "execute_result"
    }
   ],
   "source": [
    "\"A34BZM6S9L7QI4\" in list_users_not_seen_1400501466"
   ]
  },
  {
   "cell_type": "code",
   "execution_count": 25,
   "metadata": {},
   "outputs": [
    {
     "data": {
      "text/plain": [
       "['A2ZR3YTMEEIIZ4',\n",
       " 'A3CLWR1UUZT6TG',\n",
       " 'A5JLAU2ARJ0BO',\n",
       " 'A1P4XD7IORSEFN',\n",
       " 'A341HCMGNZCBIT',\n",
       " 'A3HPCRD9RX351S',\n",
       " 'A1DQHS7MOVYYYA',\n",
       " 'ALUNVOQRXOZIA',\n",
       " 'A3G7BEJJCPD6DS',\n",
       " 'A2JXS1JII6SAUD',\n",
       " 'A1C82BC5GNABOA',\n",
       " 'A1VHCO8RQFIGQJ',\n",
       " 'A2Z9S2RQD542CP',\n",
       " 'A2QIC4G483SQQA',\n",
       " 'A3L6L5O89JTX2T',\n",
       " 'A1OGCPMSIVK7G4',\n",
       " 'A18HE80910BTZI',\n",
       " 'A3F9CBHV4OHFBS',\n",
       " 'A1T1YSCDW0PD25',\n",
       " 'ABVYGB2TKBO8F',\n",
       " 'A11ED8O95W2103',\n",
       " 'A3NCIN6TNL0MGA',\n",
       " 'ASHJAZC9OA9NS',\n",
       " 'A105TOJ6LTVMBG',\n",
       " 'A14JBDSWKPKTZA',\n",
       " 'A3QX0ERX4D03TF',\n",
       " 'A13WREJ05GMRA6',\n",
       " 'A3N8O68DOEQ2FE',\n",
       " 'A3J8A5L5AF5TX9',\n",
       " 'A2HRHF83I3NDGT',\n",
       " 'A1R3GN9MEJFXM3',\n",
       " 'A3963R7EPE3A7E',\n",
       " 'A2JOPUWVV0XQJ3',\n",
       " 'AAW7X3GRD8GY9',\n",
       " 'A3V8P0O224OBDB',\n",
       " 'AY6A8KPYCE6B0',\n",
       " 'A212MDP6K4VJS5',\n",
       " 'A28X0LT2100RL1',\n",
       " 'A1V3TRGWOMA8LC',\n",
       " 'A1NZLRAZJGD99W',\n",
       " 'A1522TN5FVJL0Y',\n",
       " 'A3UXW18DP4WSD6',\n",
       " 'A3CW0ZLUO5X2B1',\n",
       " 'A3TBMGNSEQBWIL',\n",
       " 'AEZJTA4KDIWY8',\n",
       " 'A22CW0ZHY3NJH8',\n",
       " 'A2V7EO331SFUF6',\n",
       " 'A3977M5S0GIG5H',\n",
       " 'A1F1A0QQP2XVH5',\n",
       " 'A231WM2Z2JL0U3',\n",
       " 'A2JWF9IG8PJAOA',\n",
       " 'A3LWC833HQIG7J',\n",
       " 'A38RMU1Y5TDP9',\n",
       " 'A3D822N1K2IAQD',\n",
       " 'A33775AIB1A664',\n",
       " 'ARXU3FESTWMJJ',\n",
       " 'A3A15L96IYUO6V',\n",
       " 'A3PGVJF37JSHFO',\n",
       " 'A2WJ5XSE4I9F55',\n",
       " 'A1V5TRJXTI6F01',\n",
       " 'ATOKT8QYK967L',\n",
       " 'ANRS196NKFVUU',\n",
       " 'A3639Z6O5JBLIZ',\n",
       " 'A3ER6ARJ23CIN8',\n",
       " 'A33152QEGO2MZN',\n",
       " 'A3HRDRQ5VAFPQS',\n",
       " 'A1KY5G5FP31F2F',\n",
       " 'A1MQQEM7W77L62',\n",
       " 'AUCIFMWP3DU8R',\n",
       " 'ALHC64J88LVWO',\n",
       " 'A2PC9ZZIFV31B1',\n",
       " 'A54S9CIUV5VNB',\n",
       " 'A1XE3M22N91451',\n",
       " 'A313H6238N589',\n",
       " 'A3SDJ70H00OQCJ',\n",
       " 'A2WB7LZ595CR50',\n",
       " 'A356RFKNIG043B',\n",
       " 'AW6A4PPENVZY3',\n",
       " 'A149RNR5RH19YY',\n",
       " 'A32LX4XJ2LU740',\n",
       " 'A1J75JJ0Q2OEJN',\n",
       " 'A6FIAB28IS79',\n",
       " 'A2RWHTNM5P3I8Y',\n",
       " 'A3077MQTAKOVFZ',\n",
       " 'A1FF2PLA84KNAE',\n",
       " 'A1CM4HI4S5P0WO',\n",
       " 'A3775OP5VTX5ON',\n",
       " 'A2QAOP52OEB5EV',\n",
       " 'A1KD8NJPZ01R37',\n",
       " 'A7Y6AVS576M03',\n",
       " 'A1B6O7SAIYG2N0',\n",
       " 'A1KDUQ2HU0WD68',\n",
       " 'A3RGHO0Q938FRS',\n",
       " 'A4GGT6O0GQNV2',\n",
       " 'A1LHMSY3Q46PJS',\n",
       " 'A18EA7MNLXP9H5',\n",
       " 'A1U5IJHJK84S54',\n",
       " 'A1B4MIXYVIKMU2',\n",
       " 'A2BMZRO0H7TFCS',\n",
       " 'A2EZTM9WY5B5IL',\n",
       " 'A298GL2D0BHGKZ',\n",
       " 'A34LQ791ACZ0JC',\n",
       " 'A1ZM846Y7AUYD',\n",
       " 'A2IIAQ7VVAHXTD',\n",
       " 'A1U4GOVZWL8ZTL',\n",
       " 'A2MCRCK1V61FWQ',\n",
       " 'A1F9Z42CFF9IAY',\n",
       " 'A32AFX2PUJ82HG',\n",
       " 'A3EQQHWJ1EEYEU',\n",
       " 'A2QI2JHSIQ3SN3',\n",
       " 'A506HOOCVL8GW',\n",
       " 'A3GQY0TFRG0MPZ',\n",
       " 'A54SG05AV6S4H',\n",
       " 'A1URXSRV6WDHVY',\n",
       " 'A1B8EJQU73YGL9',\n",
       " 'A2WLNSZ9U0T1S3',\n",
       " 'A2T3S3VTW65VO5',\n",
       " 'A1V4VVBQBFXRHC',\n",
       " 'AKT8TGIT6VVZ5',\n",
       " 'A1MJMYLRTZ76ZX',\n",
       " 'AS8C336DDLSO4',\n",
       " 'A32QOZWIKQDNZX',\n",
       " 'APQQK1V695AUE',\n",
       " 'AW68KVDV7BBRS',\n",
       " 'A2MOJANFPX353G',\n",
       " 'A3OXHLG6DIBRW8',\n",
       " 'A2AF0NOCM71J0B',\n",
       " 'A250AXLRBVYKB4',\n",
       " 'A2EF8N7ZE7ONWX',\n",
       " 'AE88D7OM7YU99',\n",
       " 'A3J2YU2D9BH2J7',\n",
       " 'A4IL0CLL27Q33',\n",
       " 'AAR7CEPXYJA0T',\n",
       " 'A100WO06OQR8BQ',\n",
       " 'A3NGOG8Z78AZSD',\n",
       " 'A1R19YYR5OR26T',\n",
       " 'A2MOD50IHEDH3G',\n",
       " 'A3TAS1AG6FMBQW',\n",
       " 'AHIK7BUXFRMT8',\n",
       " 'A23GFTVIETX7DS',\n",
       " 'A36K2N527TXXJN',\n",
       " 'A3HC7NWLKCPX4X',\n",
       " 'A1EH2S92FHWZRP',\n",
       " 'AZOK5STV85FBJ',\n",
       " 'AHNHLGKIZ2N3B',\n",
       " 'AN81JUYW2SL24',\n",
       " 'A3QMJMTLJC34QC',\n",
       " 'AT2J7H5TRZM8Z',\n",
       " 'A3NHUQ33CFH3VM',\n",
       " 'AYMD77ITD15PT',\n",
       " 'A1IU7S4HCK1XK0',\n",
       " 'A2NYK9KWFMJV4Y',\n",
       " 'A1D27BCSYV7VWH',\n",
       " 'A1BC62X6HZJGZR',\n",
       " 'A34UVV757IKPVB',\n",
       " 'A2ED50E3KWKUKW',\n",
       " 'A21NS06GDEA3V0',\n",
       " 'ASJSX783R5HTZ',\n",
       " 'ADOR3TR7GDF68',\n",
       " 'A15XI2BEGGFEOW',\n",
       " 'AZCE11PSTCH1L',\n",
       " 'A6VPK7X53QNAQ',\n",
       " 'A1VJ0V58N0698J',\n",
       " 'A30J7WQV0ZNRXG',\n",
       " 'A2IFGGXG3YV3Y6',\n",
       " 'AEJAGHLC675A7',\n",
       " 'A259MPG6SOL02P',\n",
       " 'A1RPTVW5VEOSI',\n",
       " 'A1U5NWJOYH2QQH',\n",
       " 'A1AQ8JT2A3UWMY',\n",
       " 'A2SKEQT0WTB954',\n",
       " 'ARC5ASW9CUAGP',\n",
       " 'A3AGQAXTX6VRJ3',\n",
       " 'A1R377IPZOKLMM',\n",
       " 'AZAC8O310IK4E',\n",
       " 'AJCR7L4AXL2OG',\n",
       " 'AGEWOMQ90BV8R',\n",
       " 'A3EP26M3QHINXT',\n",
       " 'A1ODOGXEYECQQ8',\n",
       " 'A2AEZQ3DGBBLPR',\n",
       " 'A1TDR7Y90SVCHL',\n",
       " 'A87CILADRIZW0',\n",
       " 'A3EZEP0FX5BC1P',\n",
       " 'ATDE9JYCPI0L1',\n",
       " 'A2X8KN82L07RSK',\n",
       " 'AMKNPIDFLRFMP',\n",
       " 'A3GFQHHVMEAIO',\n",
       " 'A1JWSDDIH5Z7DV',\n",
       " 'A2SL5IW096Z2BL',\n",
       " 'AUITG1DJ3QUGK',\n",
       " 'A3TPNC3TKGCCEI',\n",
       " 'A1EXGL6L0QQ0M5',\n",
       " 'A2B7BUH8834Y6M',\n",
       " 'A1GNYV0RA0EQSS',\n",
       " 'A1SDPA1J98UP4L',\n",
       " 'A225G2TFM76GYX',\n",
       " 'A19W47CXJJP1MI',\n",
       " 'A1Z7U9K6X3FEOU',\n",
       " 'A1L1N3J6XNABO2',\n",
       " 'A1SX9PHJWTDMF9',\n",
       " 'A1GBT4UN2RW7XY',\n",
       " 'A35W3JQYP0M655',\n",
       " 'A3TA1UJWRJF9NC',\n",
       " 'A35HUT8MQMT21L',\n",
       " 'A2R6RA8FRBS608',\n",
       " 'A2HDTOF8222KN3',\n",
       " 'AT28RL25Q2OLK',\n",
       " 'A11D1KHM7DVOQK',\n",
       " 'A3T7V207KRDE2O',\n",
       " 'A3FS3FJPD3RJTD',\n",
       " 'AN9CP6J4JF91X',\n",
       " 'A145LBW8ZHF0TW',\n",
       " 'A365PBEOWM7EI7',\n",
       " 'A2HMF8ZR67BNZS',\n",
       " 'A4WEZJOIZIV4U',\n",
       " 'A1C5WS021EL3WO',\n",
       " 'A17Z0LVY96TO53',\n",
       " 'A2UQK3DAZ8NO2T',\n",
       " 'A5KMMY627T3W',\n",
       " 'A5MCDQ60DWUEV',\n",
       " 'A1HSM98KUGTHNY',\n",
       " 'A2PK64OVZA1U8Z',\n",
       " 'A3R1GJY2MY8041',\n",
       " 'A1X3DA7C61WZLQ',\n",
       " 'A1YVO5V1SO18DZ',\n",
       " 'A12DQZKRKTNF5E',\n",
       " 'A74UT8IQCM0I2',\n",
       " 'A30XZK10EZN9V4',\n",
       " 'A203OCQQ12MAVT',\n",
       " 'A26CPEEWB2WKRE',\n",
       " 'A2XX2A4OJCDNLZ',\n",
       " 'A11KZ906QD08C5',\n",
       " 'A2J3VCGBNDLAKF',\n",
       " 'A1ZTR0FR5AW9B4',\n",
       " 'A25TNBMJ4ZO7RD',\n",
       " 'A14I1F2H7NOYDC',\n",
       " 'A3CFU12GS5CZCN',\n",
       " 'A1V4A5U5O3TMMD',\n",
       " 'A3PD8JD9L4WEII',\n",
       " 'A1FDV3WPOHREY9',\n",
       " 'A194Y47BF3CUTJ',\n",
       " 'A26LD9FQHTM8ZH',\n",
       " 'A3QDY9I0CNMD2W',\n",
       " 'A2J0IBS4PFRO2C',\n",
       " 'A3SX5MZTCZRQLF',\n",
       " 'AGXV8E7XK9J6H',\n",
       " 'A10Y058K7B96C6',\n",
       " 'A3Q4TYJVAM4IRM',\n",
       " 'A3PJJTAKISAFI9',\n",
       " 'A3REK3OFONWB1Q',\n",
       " 'A3L9E0YI7C5G0W',\n",
       " 'A1H98YV5K5BUX0',\n",
       " 'A4UGMKUSX9XHI',\n",
       " 'A3P4T1DKRWTL36',\n",
       " 'AQNSQW4495SG0',\n",
       " 'A21T0D2F7SKG5S',\n",
       " 'A3OYO7B6SS7QLH',\n",
       " 'A23E9QQHJLNGUI',\n",
       " 'A3QU3O79AGNWCY',\n",
       " 'A2GMZZ6TDYOHY7',\n",
       " 'A3TR3KLL5PXSZ8',\n",
       " 'AHF4I1FSIHABC',\n",
       " 'A1RJKTYC03L0JY',\n",
       " 'A2ARDVMUGDFED6',\n",
       " 'AIJQU979J6UFY',\n",
       " 'A3EPJSPH03AS29',\n",
       " 'A1N3EH28S4DI8L',\n",
       " 'A2DS9DLMSU2M2Z',\n",
       " 'A24HWYHR28JJ7A',\n",
       " 'A25C2M3QF9G7OQ',\n",
       " 'A30C8WHQ2CYFO4',\n",
       " 'A2W9GX82SLKROQ',\n",
       " 'A3EZFFPVS34AMO',\n",
       " 'AAQ9NJ480N9W5',\n",
       " 'A2PY5ED630H0QJ',\n",
       " 'A3CEUT263RNUDO',\n",
       " 'A1PSVZBM894R5H',\n",
       " 'A2XU6J41ZQOJ2V',\n",
       " 'A3N4VTNFPMTHEF',\n",
       " 'AQ55H30MZSV0Q',\n",
       " 'A11R5VW7IM6ISQ',\n",
       " 'A2NP9CGUSFP22E',\n",
       " 'A1D9V11QUHXENQ',\n",
       " 'A9BWUH9XKZ2DQ',\n",
       " 'A17W0GMB0YY83M',\n",
       " 'A3IOQ7NVVLAUEE',\n",
       " 'A1X1CEGHTHMBL1',\n",
       " 'A3V0YR50F1XSKP',\n",
       " 'A1CMD08Z49PGKQ',\n",
       " 'AN2IZT80ZUNJN',\n",
       " 'A1CMWB7AWQUQH4',\n",
       " 'A2Y3WWPUKIJ59I',\n",
       " 'A3QDMDSANPYGUX',\n",
       " 'A3DQWFWINN3V5A',\n",
       " 'A2NX6MFZP8TM6S',\n",
       " 'A100UD67AHFODS',\n",
       " 'A1QRST0A3IQIEF',\n",
       " 'A2WBVO6X3KPMDT',\n",
       " 'AOMEH9W6LHC4S',\n",
       " 'A3QQGPI3CTV9SX',\n",
       " 'A141OPVE376YFI',\n",
       " 'ARBKYIVNYWK3C',\n",
       " 'A3S0DBBR693O06',\n",
       " 'A215IN14OKAE2T',\n",
       " 'A2OOXVZ6B1VZ9A',\n",
       " 'AD9ZL63H0VKCZ',\n",
       " 'A3H4S6YO9VNGDZ',\n",
       " 'A3QUDXLOJTKEP9',\n",
       " 'A1H4IVXNXWWBLV',\n",
       " 'A16HXVNPU5TCGE',\n",
       " 'AZ515FFZ7I2P7',\n",
       " 'A20WUUD9EDWY4N',\n",
       " 'A1REY92IEZJUSX',\n",
       " 'A253IOATGMT2UP',\n",
       " 'A3G007LQX6KGOD',\n",
       " 'ABMN74TBW5UWE',\n",
       " 'A38NELQT98S4H8',\n",
       " 'A38NHXL5257E3B',\n",
       " 'A19X4BF861LQST',\n",
       " 'A2BGZ52M908MJY',\n",
       " 'A7QMQBGJ2TCQG',\n",
       " 'A2ZRMCRLDSUX6R',\n",
       " 'A2EMUM49CE0JV4',\n",
       " 'A1IG1I6MR3HAWA',\n",
       " 'AA8RBTN3J2F5H',\n",
       " 'AK3GKIV8DEY8B',\n",
       " 'A2YRX8J4WM5BRX',\n",
       " 'AU627A4UGIW6V',\n",
       " 'A16RL0RMRF974O',\n",
       " 'AR8LWDT6TUKNZ',\n",
       " 'A32T2H8150OJLU',\n",
       " 'AHR86ZEYETLJI',\n",
       " 'A11P105WVK5240',\n",
       " 'AU2UJF4I7KAWL',\n",
       " 'A9Y5O2R4D6EH5',\n",
       " 'A32482Z7XIKDQX',\n",
       " 'A2FXBWR4T4OFQ',\n",
       " 'A3DOPYDOS49I3T',\n",
       " 'A1FLJCHN5CG5M5',\n",
       " 'A1NNMOD9H36Q8E',\n",
       " 'A1FXT4VNDA25LY',\n",
       " 'A1PV5T5S4D5NPI',\n",
       " 'A3E68EBGXTWDNP',\n",
       " 'A2YEZ8Z3BW2SKG',\n",
       " 'A3TRY87JJCA5Y8',\n",
       " 'ANXEW7IDYDJEH',\n",
       " 'A1SFPA80X7TRBR',\n",
       " 'AFR9GYKAHM37U',\n",
       " 'AWH2AY17ZU7W2',\n",
       " 'A2ALRZ0ENQLYY5',\n",
       " 'A3PU3EDJ2FG1AW',\n",
       " 'A2Q7OJTVPIO2XH',\n",
       " 'A1VVRA3P6G1TWH',\n",
       " 'AH3LF9RAD1O2V',\n",
       " 'A30ADSBTWCORYC',\n",
       " 'A8X478DM3KAWM',\n",
       " 'A376OJHLE6SU9Q',\n",
       " 'A1VQHH85U7PX0',\n",
       " 'AGVWTYW0ULXHT',\n",
       " 'A1ZVFCPHCWFV71',\n",
       " 'AEAFHD09X8044',\n",
       " 'A12ANFNOSMW5VD',\n",
       " 'A28RSMADFCBJDT',\n",
       " 'A2TA40MV2H4O6F',\n",
       " 'A1VRANSQ0WF1YS',\n",
       " 'A2XRMQA6PJ5ZJ8',\n",
       " 'A3FPSY1M6G7XIB',\n",
       " 'A2NOW4U7W3F7RI',\n",
       " 'A1MFAPVBW9BEGD',\n",
       " 'A2J8T58Z4X15IO',\n",
       " 'A1TQZUSOU22E9M',\n",
       " 'A1XXMNLOLKNO0I',\n",
       " 'A197T2N6RU7K56',\n",
       " 'A3JU16JTNLVK1J',\n",
       " 'A3TBMAWIIHKHFN',\n",
       " 'A27H61OHW44XA7',\n",
       " 'A20G074MWH9U7O',\n",
       " 'A22R9L5DAVYYWR',\n",
       " 'A33HIV8RXRDM88',\n",
       " 'AAEVGE52KL0DJ',\n",
       " 'A1VLE2SH9J8WYS',\n",
       " 'A2GYV87WW0DMSN',\n",
       " 'A1LA4K5JF78BER',\n",
       " 'A1QVFHPY8418HC',\n",
       " 'ADLVFFE4VBT8',\n",
       " 'A33SX0AD5PYD9B',\n",
       " 'A1E55W6ES0FY17',\n",
       " 'A31N0XY2UTB25C',\n",
       " 'A314KKDIJWCNMV',\n",
       " 'A2LEIANN1UZTHP',\n",
       " 'AT6CZDCP4TRGA',\n",
       " 'A3D7BGK0P5QY0X',\n",
       " 'A33ZYFE8XMKKR1',\n",
       " 'A1KWPIORLG2QV',\n",
       " 'AUBEFRFHJR64Y',\n",
       " 'A2V5M5EJPOD2IU',\n",
       " 'A200DY76VXVGP9',\n",
       " 'A3EFSLEMHNPP6A',\n",
       " 'AWNJAY0M5UI70',\n",
       " 'A2SATO5BNKWY3Y',\n",
       " 'A2F7CSE6KT7NI4',\n",
       " 'A10X9ME6R66JDX',\n",
       " 'AXU8RH1DEV21H',\n",
       " 'A19HT7YC1UW3D6',\n",
       " 'AD8DLOGHAXL',\n",
       " 'A16CVJUQOB6GIB',\n",
       " 'A1MFPAM9TTRTXN',\n",
       " 'AROQO2VDODT7',\n",
       " 'A2LCE1D0TW2XY0',\n",
       " 'A16SRDVPBXN69C',\n",
       " 'A3OA4DV4L81N1D',\n",
       " 'A2T689YVOAYGGD',\n",
       " 'A2RIL2NXHE00AQ',\n",
       " 'A1ILWPH1GHUXE2',\n",
       " 'A2NSMJVQY0RV9S',\n",
       " 'A1QNYLBG73QRNF',\n",
       " 'A31ICLWQ9CSHRS',\n",
       " 'A3FKQQTSMHOCE0',\n",
       " 'A3Q1J68QY1MZQ9',\n",
       " 'AZNUHQSHZHSUE',\n",
       " 'A1EKSETIBS9ETQ',\n",
       " 'AQ3IN3MRXQ5KH',\n",
       " 'AWJWCKB92RJX2',\n",
       " 'A1OMXVXXP07F05',\n",
       " 'A34VRVI4CSI5RQ',\n",
       " 'A17HMM1M7T9PJ1',\n",
       " 'A2D1LPEUCTNT8X',\n",
       " 'A23D13HKTA95WX',\n",
       " 'A3IUW081KXD3PE',\n",
       " 'A11ULAZ4B5ZXC8',\n",
       " 'A23NSKTMSPPBTR',\n",
       " 'A19XMHRB3G4DIR',\n",
       " 'AG0PM9IAHQ06C',\n",
       " 'A22S7D0LP8GRDH',\n",
       " 'A9J4UURM4OSDW',\n",
       " 'A2DF62DP20RIXF',\n",
       " 'ACSX5AIZE3MJ9',\n",
       " 'ADHA1W879JNT0',\n",
       " 'A3NOBH42C7UI5M',\n",
       " 'A22MANL4US4RMY',\n",
       " 'A19FRW264WZTGP',\n",
       " 'A3CJ7MHAS9IMAM',\n",
       " 'A3KTWUXXB8KKC7',\n",
       " 'A3FEJ8H2VTN0OJ',\n",
       " 'ATNOI7E8GTIVE',\n",
       " 'AMUP8DYE7EAN2',\n",
       " 'A3INN916E4VION',\n",
       " 'AOWF9T81XMX2S',\n",
       " 'A2Y29IRSI08F0I',\n",
       " 'A196JN53PG0C7R',\n",
       " 'A2L4W1M5YU5QX3',\n",
       " 'A6VXZ1EEPRTLV',\n",
       " 'AV10H5K6VPQIJ',\n",
       " 'A2UEB48LAWFUCW',\n",
       " 'A26BDXG9KVH7SU',\n",
       " 'A3IY316DRNF5F2',\n",
       " 'ATS2855497V0I',\n",
       " 'A1XB7JGJ459ERP',\n",
       " 'A2NOIWPJDD7WIQ',\n",
       " 'AC6Z7DP1Z5GHD',\n",
       " 'A15G70V9OBTOVO',\n",
       " 'A35HNL2VEDK9Z1',\n",
       " 'A15QYHQH80W30L',\n",
       " 'A1SHHQSPOWR00F',\n",
       " 'A324X7RVDAV3FT',\n",
       " 'AGXMC3ITWZASE',\n",
       " 'A294BKN913UOGP',\n",
       " 'A3QNX5KWHDV0GD',\n",
       " 'A1FR68QH6Z4YZM',\n",
       " 'A33YZNZIRA3H97',\n",
       " 'A3O5ASFUXC32UA',\n",
       " 'A2LXX47A0KMJVX',\n",
       " 'A2VODABWSVHV8E',\n",
       " 'AGOH8N902URMW',\n",
       " 'ACYZXQ2JKPZKT',\n",
       " 'A2SYAQXJGRY3XE',\n",
       " 'A1435P5AMCPB3X',\n",
       " 'ABDR6IJ93HFIO',\n",
       " 'A1F5O1USOUOOXI',\n",
       " 'A2RW587355CMVA',\n",
       " 'A1Q5P5ML3176C0',\n",
       " 'AY3XPKRAMKKY7',\n",
       " 'A1PAGHECG401K1',\n",
       " 'A2D1ZQEFS1NBH2',\n",
       " 'A10O7THJ2O20AG',\n",
       " 'A5Q1FK0FWU7DH',\n",
       " 'A96JD9312DHWC',\n",
       " 'ADKGE078JK8K7',\n",
       " 'A27QXQQOLAMRRR',\n",
       " 'A35X2JJI49OBZP',\n",
       " 'AU3GYRAKBUAEU',\n",
       " 'AWZR0O65DL2Q',\n",
       " 'A2XJMQ2COPGWJH',\n",
       " 'A8X8D4BUY5DFU',\n",
       " 'A1PN2U0AWXGVML',\n",
       " 'AR1T36GLLAFFX',\n",
       " 'A2RU4U1JZ3DMP5',\n",
       " 'A12LH2100CKQO',\n",
       " 'AGHZXQL9F94T9',\n",
       " 'A3R33KMESG0XGQ',\n",
       " 'A2FWZ58M6IQMD7',\n",
       " 'A4H4KYSM2KQ85',\n",
       " 'A1BT6TL7UCIC5Y',\n",
       " 'A1PL7QILVQV3IF',\n",
       " 'A2TN0U8173HM7A',\n",
       " 'ATFBVUXDIRXT6',\n",
       " 'AOJA1LC8PN7K1',\n",
       " 'A1P3DDFL423B3C',\n",
       " 'A3G5MOHY1U635N',\n",
       " 'A3NXJDNTQK2YJL',\n",
       " 'AI2AOCTC8BQVZ',\n",
       " 'A3NVZTGPORNPRW',\n",
       " 'A3L1VJMHFWONCB',\n",
       " 'A2CWUM49ZWMGEY',\n",
       " 'A2BLFCOPSMBOZ9',\n",
       " 'A233TZONT1OGR0',\n",
       " 'A15TABNGK6L4N3',\n",
       " 'A2PJH18W4XHTZW',\n",
       " 'A370XYLIZCSK1Y',\n",
       " 'AZMY6E8B52L2T',\n",
       " 'A1MFVAHTT2BHM0',\n",
       " 'A1BJOHHLG0D965',\n",
       " 'A38Z6QG6988WS7',\n",
       " 'AAK6SOEJY30YG',\n",
       " 'A1QQA7Y92L4F9R',\n",
       " 'A3NKRH3TJ4DPVI',\n",
       " 'A39137LW12KK7B',\n",
       " 'A3D2VIUT2HWP0Z',\n",
       " 'AI8EMB0HUC6Z5',\n",
       " 'A335QXPTV1RIV1',\n",
       " 'A3EXWV8FNSSFL6',\n",
       " 'A2NX6PABLIJLP1',\n",
       " 'A3BI8BKIHESDNQ',\n",
       " 'A1MRPX3RM48T2I',\n",
       " 'A3FFZQKCA7UOYY',\n",
       " 'AOQLV2LSI9B2W',\n",
       " 'A2UTZ4O5E2W4DK',\n",
       " 'AGYH5U11ZKPFB',\n",
       " 'AWPODHOB4GFWL',\n",
       " 'AKBVYIIHWI04B',\n",
       " 'A1G5MI2KREPEIB',\n",
       " 'ABMF4UC4Z00NT',\n",
       " 'A3V15SFD7918WZ',\n",
       " 'A213J54E63SYOP',\n",
       " 'A2JP9E1H0SF392',\n",
       " 'AEL6CQNQXONBX',\n",
       " 'AS7J4952JB5XR',\n",
       " 'A1CPRP3VFJRS1R',\n",
       " 'AFM7FK7NFEKFZ',\n",
       " 'A1LAGS8H4A2DR7',\n",
       " 'A1DO9LRCO23EOM',\n",
       " 'AULFLNWJP1QXY',\n",
       " 'AQM0K7MBBT4AY',\n",
       " 'A1AWL9JASMG904',\n",
       " 'A30JPZ9TZ7I61U',\n",
       " 'A2JRDFIGWTX50J',\n",
       " 'AHROSV6WJOEGY',\n",
       " 'A2AC6GQ24S45GA',\n",
       " 'A16QODENBJVUI1',\n",
       " 'A3Q6ZPW60CVF2L',\n",
       " 'A377LPVLLAI42D',\n",
       " 'A3SL0HA6422W4M',\n",
       " 'ANW6EGY12V5XS',\n",
       " 'A2HXE29CU1I24Y',\n",
       " 'A2NJQF2UI60VGT',\n",
       " 'A2GKMXRLI7KLFP',\n",
       " 'AG35JCCQWDRCS',\n",
       " 'A1Y4EWMUTW73GD',\n",
       " 'A11EXFO14WEJM1',\n",
       " 'AH5BCMZELZSKG',\n",
       " 'A37IRE9GZ0CZ7I',\n",
       " 'A35A2RWUMC737N',\n",
       " 'ANYC38I00IRVK',\n",
       " 'AB094YABX21WQ',\n",
       " 'A2PL06HW6KZH2',\n",
       " 'AMFXXAOVV4CPJ',\n",
       " 'A3KCETSIJNOK56',\n",
       " 'A1QLQCJVGCQPP0',\n",
       " 'AL42PIIG5DXYD',\n",
       " 'A14Z6D3IRJ23F7',\n",
       " 'AFXTKAO0CB354',\n",
       " 'AWSK1ZAEU1KFL',\n",
       " 'A3JNBO7H2SPL44',\n",
       " 'A8CKH8XB33XGN',\n",
       " 'A37CEYB95LK6R6',\n",
       " 'A3V5F050GVZ56Q',\n",
       " 'A2RGA7UGAN3UL7',\n",
       " 'A1OO9N1MRNQ7K0',\n",
       " 'A2J7FHZFKOKGZ6',\n",
       " 'A3QRR8PSCBI07C',\n",
       " 'AK9BXHEXOOM6Z',\n",
       " 'A2ZDY0V4Q1SZD7',\n",
       " 'A1EOTB1WHLSW6G',\n",
       " 'A185O1MX1RP964',\n",
       " 'A23ZXHFLC6TBLD',\n",
       " 'A1VR1HIOVQWN09',\n",
       " 'A1B0NL8UWAELI7',\n",
       " 'A24P4E3RJ6AX94',\n",
       " 'A1WJ3P43SZUNDM',\n",
       " 'A2KYRPDKVBI2R4',\n",
       " 'A2L42QEWR77PKZ',\n",
       " 'A3SRDVCD2ATIIS',\n",
       " 'A3CG93783LP0FO',\n",
       " 'A3NYBI5VMVEEIK',\n",
       " 'A87N6UTYA6NOB',\n",
       " 'A3U6J0DLLDEWM2',\n",
       " 'A2QDOJFFLFGF18',\n",
       " 'A2BX8DDQGCCG2J',\n",
       " 'AG7EF0SVBQOUX',\n",
       " 'ACJT8MUC0LRF0',\n",
       " 'A13WOT3RSXKRD5',\n",
       " 'A1NGFGBX2VCQS8',\n",
       " 'A3KNGMX2RVQG91',\n",
       " 'AZBXKUH4AIW3X',\n",
       " 'A3IRA0BHI9NE9U',\n",
       " 'A22NKFOH9RATRC',\n",
       " 'AFM2J3HJNPIHV',\n",
       " 'A2YYHSORXIHZCS',\n",
       " 'A38CHSS1ZAE51B',\n",
       " 'AYB4ELCS5AM8P',\n",
       " 'A23WPWLYT3P1CZ',\n",
       " 'A3O1FVLUD9X1XC',\n",
       " 'A19EKT8H85AKO5',\n",
       " 'A7EJERNB7IK3Z',\n",
       " 'A3NEAETOSXDBOM',\n",
       " 'A2ER8G4JJJ7XER',\n",
       " 'A1MCH5RXDOH87H',\n",
       " 'A1AH8033GWKBY7',\n",
       " 'AKSFZ4G1AXYFC',\n",
       " 'ACY9QYNDFLVBI',\n",
       " 'A35SNSDRNE9P8Q',\n",
       " 'A2LLSFQO8O8XNW',\n",
       " 'A2CPP7BZKOF9TP',\n",
       " 'A3A4ZAIBQWKOZS',\n",
       " 'A2L36AGL8CKY3D',\n",
       " 'A24J2Y1O22JYZX',\n",
       " 'A2XXBZPQT5EXHV',\n",
       " 'A2UOHALGF2X77Q',\n",
       " 'A3F3B6HY9RJI04',\n",
       " 'AT09WGFUM934H',\n",
       " 'ABUE0ALHKWKHC',\n",
       " 'A2NSXY5L42ZUGO',\n",
       " 'AQR4HPVSOPS08',\n",
       " 'A3LSEIG2PIJYBL',\n",
       " 'AUK79PXTAOJP9',\n",
       " 'A16WP8NTPYB0ZM',\n",
       " 'A2MIP3AQVSF2SS',\n",
       " 'A3MU9G6YWKTGTA',\n",
       " 'APOGXH3A74CM3',\n",
       " 'AY4EXFOO43C3S',\n",
       " 'A2MR696ZU17F12',\n",
       " 'A2NQMVTQ4PVLL',\n",
       " 'A680RUE1FDO8B',\n",
       " 'A2PICNZWHEINQC',\n",
       " 'A1ZXMMQPYC3Z9I',\n",
       " 'AEWYUPCNDV7HY',\n",
       " 'A3M82NO6OU1FHS',\n",
       " 'A1UEL5C1N6E5SE',\n",
       " 'A23ONMGKEWDG4M',\n",
       " 'A30X750M8V1XXW',\n",
       " 'A32HSNCNPRUMTR',\n",
       " 'A3CP3J7OEGQMD5',\n",
       " 'A1OES7R7FDAT2L',\n",
       " 'A2Y1WNETD9AYHO',\n",
       " 'AD0J5KK4WQXNS',\n",
       " 'A3R4794K2RVU1S',\n",
       " 'A1KXJCXS6HFRQZ',\n",
       " 'A2WDCAMKCCP1UR',\n",
       " 'ABE5E8B3J7MKY',\n",
       " 'A1ZU55TM45Y2R8',\n",
       " 'AR74YY08IP2WE',\n",
       " 'A8WEXFRWX1ZHH',\n",
       " 'A1Y051MQ2SVPFI',\n",
       " 'A2X06FP2PQ6EK0',\n",
       " 'A1CST2WUA32GP0',\n",
       " 'A2LF07KCXDR70D',\n",
       " 'A1Z4GII5CHCDG7',\n",
       " 'A2XAKGRUHIE2ZA',\n",
       " 'AFHYEO3Y1IIDD',\n",
       " 'A124WZCUIH2T7W',\n",
       " 'A28I5UM0FT3I6T',\n",
       " 'A3HXGSMCIOZEW8',\n",
       " 'A28LUOEY0ECT9G',\n",
       " 'A2A4X545ERLS7H',\n",
       " 'AHS6PX6H22WW1',\n",
       " 'AQIJ3ZEEVCIKU',\n",
       " 'A1MZL91Z44RN06',\n",
       " 'A1ROUMJOGO4QMB',\n",
       " 'AYP0YPLSP9ISM',\n",
       " 'A37D1ZP8GBHE38',\n",
       " 'A20DZX38KRBIT8',\n",
       " 'A1ZCSSCAGBCD49',\n",
       " 'A3LGT6UZL99IW1',\n",
       " 'A3AYSYSLHU26U9',\n",
       " 'A2LW5AL0KQ9P1M',\n",
       " 'A35IX2GE0VC0JP',\n",
       " 'A17BUUBOU0598B',\n",
       " 'A3W4D8XOGLWUN5',\n",
       " 'A240FRPD4MEXND',\n",
       " 'A1VS1LL905P5L5',\n",
       " 'A3V6Z4RCDGRC44',\n",
       " 'A19RGDJPNZ7NZ',\n",
       " 'A2VAD79S4A06DD',\n",
       " 'A2IFKH3TJ10387',\n",
       " 'A1LYMYNURB9EWW',\n",
       " 'A2KOV8XWZOZ0FQ',\n",
       " 'AAA0TUKS5VBSA',\n",
       " 'A1I96OYAUJ3HQE',\n",
       " 'A1L64KDYO5BOJA',\n",
       " 'A2D0CO1OA6DSWY',\n",
       " 'A2Z2MUP8JRJXEU',\n",
       " 'A21S26XYPGXJZX',\n",
       " 'A2PSD2R9A1CXG7',\n",
       " 'ACHTDPEQYSEQL',\n",
       " 'AQ2FC1DLKVD8H',\n",
       " 'A24ARANWS5E3T8',\n",
       " 'AYCAIHABPYWVJ',\n",
       " 'A2RTVGR9B1M600',\n",
       " 'A6KL17KKN0A5L',\n",
       " 'A3BACUOZV1M0WM',\n",
       " 'A1NJHKPHD4YWZV',\n",
       " 'A1DB5QPH7WO488',\n",
       " 'A1987V5OCO6QHS',\n",
       " 'A362FM6FYA1SYS',\n",
       " 'ALNE7Q71JFC0F',\n",
       " 'AV9PIER7NE448',\n",
       " 'A7KBAXO177NND',\n",
       " 'A1L5TA5UQF7EWE',\n",
       " 'A6XLG77BC9R8R',\n",
       " 'A2J8DE8R94ZB02',\n",
       " 'A3CMO216CWOF5N',\n",
       " 'A3GVXKCTFN3YDN',\n",
       " 'A1TQBAHI3M4ZBQ',\n",
       " 'A28621TSIR5EOG',\n",
       " 'A9ELHLPXF7JKD',\n",
       " 'AETQIN7OH0RL9',\n",
       " 'A27M75LRSJ788H',\n",
       " 'A2BYV7S1QP2YIG',\n",
       " 'A2OKRGHIYTBQ6P',\n",
       " 'A2F2GLVFRNV7JJ',\n",
       " 'A2I357I10ZY7CI',\n",
       " 'A25FL6VLD7S23S',\n",
       " 'A33PVCHCQ2BTN0',\n",
       " 'A1PM7HH4F77NEH',\n",
       " 'AL1XV4L25FZ2S',\n",
       " 'A3V7D0LH8L7BG0',\n",
       " 'A2YHXGPCTENZY3',\n",
       " 'ABH9D1TEOJ56E',\n",
       " 'A3MQAQT8C6D1I7',\n",
       " 'A274MXTX3DYLUV',\n",
       " 'A38KK0SZYEH5UD',\n",
       " 'A206CGM6J75UJY',\n",
       " 'A2I5LVVQ7WXEH6',\n",
       " 'A13BX9O5UDBILC',\n",
       " 'AGILRZOT49R0V',\n",
       " 'A3QAO3QBCQF89T',\n",
       " 'A3F7USIDJBR8WU',\n",
       " 'A3HR0ZZOFKQ97N',\n",
       " 'A2TKWMX4563NR6',\n",
       " 'A1J87SYB3JPQWH',\n",
       " 'A2I2KPNJDQ9SL0',\n",
       " 'A37PV5GMP2ILJC',\n",
       " 'A1VEELTKS8NLZB',\n",
       " 'A2V1J3JT5OOZFO',\n",
       " 'A20DDH4NT6Q1E8',\n",
       " 'A2XQYE6TJYROHQ',\n",
       " 'A15J9K7O10A3M6',\n",
       " 'A3NG7X4APIV649',\n",
       " 'A3IMALU0RM8UT9',\n",
       " 'A2AY4YUOX2N1BQ',\n",
       " 'A2F92M62KN324B',\n",
       " 'A2FSOHSM9X13JT',\n",
       " 'AG2YXYIQ8TLTA',\n",
       " 'APGQTZZ4ZFPHO',\n",
       " 'AXU3VKZE848IY',\n",
       " 'A23R3EOZ837242',\n",
       " 'A1ATVMMJZP3Q4X',\n",
       " 'AOEDWQLH2WKKW',\n",
       " 'A3PPO2X5PJE1L9',\n",
       " 'A3V6QSTG2T9MIO',\n",
       " 'A257X1MQJO82P2',\n",
       " 'A2JE071UW97J2A',\n",
       " 'A3SOJO7Z7R9WIA',\n",
       " 'A1QJ10LEINDRWW',\n",
       " 'A3CIET1UO3G51E',\n",
       " 'A8FKL1DHTHC12',\n",
       " 'A31BD4RXCON7QO',\n",
       " 'A3JAH5WW61N2EK',\n",
       " 'A1Y85GQ09Y95JL',\n",
       " 'A1GQRGB8FGSLIZ',\n",
       " 'AMVXR3NPL0GWX',\n",
       " 'AFQBS241UKPAZ',\n",
       " 'A2L90SGUP36KGA',\n",
       " 'A2HBOG4LVIY15L',\n",
       " 'AOEAD7DPLZE53',\n",
       " 'ASFP250F22MDZ',\n",
       " 'A31RZMVAFMLB8B',\n",
       " 'AFICF7DKHTQ87',\n",
       " 'A2ZY49IDE6TY5I',\n",
       " 'A1BXVZSQOJE6UE',\n",
       " 'A11YOTONCPRQ9S',\n",
       " 'ATZJNEXX7LWD3',\n",
       " 'A24RCBRDXRXR0Y',\n",
       " 'A1E1LEVQ9VQNK',\n",
       " 'A15CL28ALB7MTZ',\n",
       " 'AT8V3JOZD3KWK',\n",
       " 'A21INUA35HX4XQ',\n",
       " 'AVTJEWTCJ3PBE',\n",
       " 'A2HXEJXEQQTM1D',\n",
       " 'A2L0F2T1DLTNT8',\n",
       " 'A1SC5OXLQNGPLN',\n",
       " 'A35C2IVVQR1HTK',\n",
       " 'A1NMM0RDRF6R84',\n",
       " 'A10ZFE6YE0UHW8',\n",
       " 'A32JCI4AK2JTTG',\n",
       " 'A3VL4RXCWNSR3H',\n",
       " 'A2HKUM9OEBQKDW',\n",
       " 'A27B1U3OWCU14J',\n",
       " 'A24QFMD1RXLJMB',\n",
       " 'A3TP31S61PPE3G',\n",
       " 'A25HBO5V8S8SEA',\n",
       " 'A3P69DTOXII004',\n",
       " 'A18YMFFJW974QS',\n",
       " 'A1X2LENOF84LCQ',\n",
       " 'A21Q9JVG4SII51',\n",
       " 'AHQRU3MRORIWQ',\n",
       " 'AVPNQUVZWMDSX',\n",
       " 'A32O5FZH994CNY',\n",
       " 'A2HPJKM7L4EOQB',\n",
       " 'AELK0E5DK7LIZ',\n",
       " 'A17RFKCYS69M3Y',\n",
       " 'A11YIHB6IW352W',\n",
       " 'A1RPJHUVVSI98A',\n",
       " 'A11IXJ8M1JO296',\n",
       " 'A291XTI6NO7DEG',\n",
       " 'A2DG63DN704LOI',\n",
       " 'A2BCDZO1XQLDH',\n",
       " 'ARIDN94LOCQFD',\n",
       " 'A1Z7SC7HH1BJKA',\n",
       " 'A2NB2E5DXE319Z',\n",
       " 'A386LG0LRWKJZP',\n",
       " 'A2V0I904FH7ABY',\n",
       " 'A28J3123I1QDKI',\n",
       " 'AM8W6Y3HVXLZT',\n",
       " 'A2VCXIAWCPQ13P',\n",
       " 'AM0QLU79O05JR',\n",
       " 'A1A306IAZ3TM1',\n",
       " 'A2PZXXPGLXXKZU',\n",
       " 'ADKZOXAOV8EXD',\n",
       " 'ALRCAGJOJ9583',\n",
       " 'APBB297H3ZA5E',\n",
       " 'A1DSRM2P0WGQNS',\n",
       " 'A2SH7OWE8QJYNC',\n",
       " 'A3BVN2QBNPBHCR',\n",
       " 'A1T9MILRRZ00F8',\n",
       " 'APBDZ88BBTN4F',\n",
       " 'AVBLGXSWRN666',\n",
       " 'A2L9OPJAAEK08Q',\n",
       " 'A1C5TCCR2IGKBU',\n",
       " 'A3B20R4ZAH0Y2Y',\n",
       " 'A12DLJESJKM1OQ',\n",
       " 'A2AX2UGB167J31',\n",
       " 'AJX9A4Q19UTJU',\n",
       " 'AGX2K0FMS0IVL',\n",
       " 'A2TVJ0YDW3QO63',\n",
       " 'A3284KYDZ00BZA',\n",
       " 'A16RI68PS6T5CA',\n",
       " 'A3JV071KO43Q5X',\n",
       " 'A3UW0PQLDUACMH',\n",
       " 'A1VTCSCH8FFC76',\n",
       " 'AG5WSXI52FPKH',\n",
       " 'A3RR2P5IS3DGPR',\n",
       " 'APMYPD97EHUUZ',\n",
       " 'A3U5HKDHPYBAK3',\n",
       " 'A14NA0W8ESGDSI',\n",
       " 'A1SB9BNNGKNX2Z',\n",
       " 'A10NMELR4KX0J6',\n",
       " 'A2NLI1M5K2MQ5E',\n",
       " 'A2G563AC1HME2R',\n",
       " 'A32NEDX6UVV8DE',\n",
       " 'A3K91X9X2ARDOK',\n",
       " 'A2PSC7LUNIDEAH',\n",
       " 'A1JBEKU5TYIWE7',\n",
       " 'A3SVYWA9O1KUQV',\n",
       " 'A1VFX417XDNWIU',\n",
       " 'A36A1ZYZH8568P',\n",
       " 'A18GJ9MYYO6GCQ',\n",
       " 'A2X78O6G89CB30',\n",
       " 'A3U41ZL33SS92P',\n",
       " 'A3T4OHEAHOJ700',\n",
       " 'AONUCJBC85BL',\n",
       " 'A132ETQPMHQ585',\n",
       " 'A18S2VGUH9SCV5',\n",
       " 'A2VIYTWXANL343',\n",
       " 'ABSYIF0ONC2AF',\n",
       " 'A28UMA3GW9L124',\n",
       " 'A1VUN4JU731CBH',\n",
       " 'AZ8XSDMIX04VJ',\n",
       " 'A3VBXQKRM7A4JR',\n",
       " 'A1WG97A0EFHYXN',\n",
       " 'A1ASWDAEDTTY5I',\n",
       " 'A3SMD3T0QTN109',\n",
       " 'AR6APXLK7TJU2',\n",
       " 'A1VLVWTLV3LVHR',\n",
       " 'A3IK2VCQ007CJ',\n",
       " 'AV8MDYLHHTUOY',\n",
       " 'A274X54O9CN2SR',\n",
       " 'A3VZH0PWLQ9BB1',\n",
       " 'ADPKRJ2BSFJ0I',\n",
       " 'A2XA8CW5DF4MNZ',\n",
       " 'ARX7Z3NI6O0F7',\n",
       " 'A3R1WFO4KIUQXZ',\n",
       " 'A361M14PU2GUEG',\n",
       " 'A18FLOC8YQY0P8',\n",
       " 'A35OIWPVTGW3UC',\n",
       " 'AO2EURP2Y4JZM',\n",
       " 'A3DGJMO6VPG6FJ',\n",
       " 'A1UL2JH7XOUGM5',\n",
       " 'A2HJY7418G1KV1',\n",
       " 'A3T8WOFS5RD2IR',\n",
       " 'A21I62TCDL4754',\n",
       " 'A2HNH4PKE5DPSI',\n",
       " 'A2F4HP0J5VNOYR',\n",
       " 'A2E1EFNIZL2FVA',\n",
       " 'A18OTCHQ6MXD6X',\n",
       " 'A2K5RRMPICZ606',\n",
       " 'A3S3VSXEFXBMRC',\n",
       " 'A204K1OFE8OB9Y',\n",
       " 'A2ZRG5NOFZ47RK',\n",
       " 'A1PVX61PRPVX27',\n",
       " 'A17O9AHKHK66AI',\n",
       " 'A3CJOB7CHOSZUG',\n",
       " 'A3U029B8Z5WGI2',\n",
       " 'ADZF3QDGSZE7K',\n",
       " 'A14MZJTZAQS6CV',\n",
       " 'A7EU2BWLLCJY2',\n",
       " 'A2294LS59GC5K7',\n",
       " 'A27Y4OEC9MD9PA',\n",
       " 'A1WF4QNIE2Z3I7',\n",
       " 'A1L0P1ZP5FD6EC',\n",
       " 'A3SU7JSTPH9CC9',\n",
       " 'A3FEGTOLCWXSV4',\n",
       " 'A3UQSOJW51UU9T',\n",
       " 'A2WYF4POBUXL2O',\n",
       " 'A3DWO5RJDA430F',\n",
       " 'A2THQCHKR89E16',\n",
       " 'ACH055GTTIGC9',\n",
       " 'A2RS66Y79Q8X0W',\n",
       " 'AXYM52DNK6NDF',\n",
       " 'A20OBCQWBKCGZT',\n",
       " 'A2DIQTZPF26T1L',\n",
       " 'A5QDZEOIMQ4LW',\n",
       " 'A1F7YU6O5RU432',\n",
       " 'A28525P0S5ZVJ3',\n",
       " 'A1O229NVVDJUX2',\n",
       " 'AEFTIUQHSVUFX',\n",
       " 'A6TBR6L2D4XKC',\n",
       " 'A359MYLPLEOF7N',\n",
       " 'ATDQ9CGCWTT8D',\n",
       " 'A2LFWJ8X817QGX',\n",
       " 'A1VGXHHR08G044',\n",
       " 'A11KQADBYE0UZL',\n",
       " 'A1PS4OYWUB0VX',\n",
       " 'A1F0KPA232MTYC',\n",
       " 'A4S2WAQVQR6PI',\n",
       " 'A1AKW788238PWQ',\n",
       " 'A2X61KKXXR6WNP',\n",
       " 'A28P7V9KI7MXP',\n",
       " 'A1CN1P7147QDJC',\n",
       " 'A33XMCG1UFDSY2',\n",
       " 'A2PB325LKXYDOL',\n",
       " 'A27H0T39U3FZB5',\n",
       " 'A2SNE4QQGVP13U',\n",
       " 'A1ZA5SXZS8Z3CK',\n",
       " 'A1VYFEJM12ZP11',\n",
       " 'A1OA2ZW406NQXM',\n",
       " 'A4IEUHNRFZO0',\n",
       " 'AJEOFP6ZWY0MK',\n",
       " 'ANFJYYQ0P35CW',\n",
       " 'A2ULZRSHXS3HL7',\n",
       " 'A11FX8HL2ANK6T',\n",
       " 'AWNBZSEZ9P8BE',\n",
       " 'A5CDMTW6JKV5G',\n",
       " 'AMWL7XIWIPXEZ',\n",
       " 'A19HKRB4LU5YR',\n",
       " 'A2XRIU3SOYZ0ZC',\n",
       " 'ABXANRX4GPYRZ',\n",
       " 'A1N5FSCYN4796F',\n",
       " 'AKX9EQ37PAYMY',\n",
       " 'A27T4RQ3XA661C',\n",
       " 'A2W9I628I6SE1U',\n",
       " 'A3H6NNGCINPLEC',\n",
       " 'A2OBDNQ5ZYU1L8',\n",
       " 'A1ZPUEHF4AES86',\n",
       " 'A2SH6A32BE6NEV',\n",
       " 'AX05DBU8IRUWY',\n",
       " 'A25UZ7MA72SMKM',\n",
       " 'ALDAF4VVLFRHP',\n",
       " 'A1PEXTGNF36I1Q',\n",
       " 'A178M2AHNWQZB0',\n",
       " ...]"
      ]
     },
     "execution_count": 25,
     "metadata": {},
     "output_type": "execute_result"
    }
   ],
   "source": [
    "list_users_not_seen_1400501466"
   ]
  },
  {
   "cell_type": "markdown",
   "metadata": {
    "id": "KT42ecaSTsno"
   },
   "source": [
    "* It can be observed from the above list that **user \"A34BZM6S9L7QI4\" has not seen the product with productId \"1400501466\"** as this userId is a part of the above list."
   ]
  },
  {
   "cell_type": "markdown",
   "metadata": {
    "id": "EXSgq8OEnVNE"
   },
   "source": [
    "**Below we are predicting rating for `userId=A34BZM6S9L7QI4` and `prod_id=1400501466`.**"
   ]
  },
  {
   "cell_type": "code",
   "execution_count": 51,
   "metadata": {
    "colab": {
     "base_uri": "https://localhost:8080/"
    },
    "id": "PbFcBj1PpfEV",
    "outputId": "48bad26f-e0d3-42fc-a392-bc78b57fc3b8"
   },
   "outputs": [
    {
     "data": {
      "text/plain": [
       "Prediction(uid='A34BZM6S9L7QI4', iid='1400501466', r_ui=None, est=4.292024046561495, details={'was_impossible': True, 'reason': 'Not enough neighbors.'})"
      ]
     },
     "execution_count": 51,
     "metadata": {},
     "output_type": "execute_result"
    }
   ],
   "source": [
    "# Predicting rating for a sample user with a non interacted product\n",
    "model.predict(uid='A34BZM6S9L7QI4', iid='1400501466')"
   ]
  },
  {
   "cell_type": "markdown",
   "metadata": {
    "id": "02rwld8yemRI"
   },
   "source": [
    "**Based on the model's prediction, the estimated rating for user A34BZM6S9L7QI4 on item '1400501466' is 4.29**"
   ]
  },
  {
   "cell_type": "markdown",
   "metadata": {
    "id": "ejjof6csnVNF"
   },
   "source": [
    "### **Hyperparameter Tuning for the KNNBasic Algorithm**"
   ]
  },
  {
   "cell_type": "markdown",
   "metadata": {
    "id": "p2j4VvfQnVNF"
   },
   "source": [
    "To enhance the performance of the KNNBasic recommendation model, we fine-tune its hyperparameters. Below are some key parameters to consider:\n",
    "\n",
    "- **k (int):** The maximum number of neighbors used for aggregation. Default is 40.\n",
    "- **min_k (int):** The minimum number of neighbors required for aggregation. If fewer than min_k neighbors exist, predictions default to the global mean rating. Default is 1.\n",
    "- **sim_options (dict):** A dictionary specifying the similarity measure. The available options in the Surprise library are:\n",
    "\n",
    "    - cosine\n",
    "    - msd (Mean Squared Difference, default)\n",
    "    - Pearson\n",
    "    - Pearson baseline\n",
    "\n",
    "By optimizing these hyperparameters, we aim to improve the accuracy and relevance of the recommendations."
   ]
  },
  {
   "cell_type": "code",
   "execution_count": 52,
   "metadata": {
    "colab": {
     "base_uri": "https://localhost:8080/"
    },
    "id": "2lX3Vc_fOSsa",
    "outputId": "0de45abb-e0fb-47fa-de69-12bf4c0b348d"
   },
   "outputs": [
    {
     "name": "stdout",
     "output_type": "stream",
     "text": [
      "Best RMSE Score: 0.9699\n",
      "Best Hyperparameters: {'k': 50, 'min_k': 5, 'sim_options': {'name': 'cosine', 'user_based': True}}\n"
     ]
    }
   ],
   "source": [
    "# Setting up parameter grid to tune the hyperparameters\n",
    "param_grid = {\n",
    "    'k': [10, 20, 30, 40, 50],  # Number of neighbors\n",
    "    'min_k': [1, 3, 5, 10],  # Minimum neighbors\n",
    "    'sim_options': {\n",
    "        'name': ['cosine', 'msd', 'pearson', 'pearson_baseline'],  # Similarity measures\n",
    "        'user_based': [True]  # User-User CF\n",
    "    }\n",
    "}\n",
    "# Performing 3-fold cross-validation to tune the hyperparameters\n",
    "grid_search = GridSearchCV(KNNBasic, param_grid, measures=['rmse'], cv=3, n_jobs=-1)\n",
    "# Fitting the data\n",
    "grid_search.fit(data)\n",
    "# Best RMSE score\n",
    "best_rmse = grid_search.best_score['rmse']\n",
    "print(f\"Best RMSE Score: {best_rmse:.4f}\")\n",
    "# Combination of parameters that gave the best RMSE score\n",
    "best_params = grid_search.best_params['rmse']\n",
    "print(\"Best Hyperparameters:\", best_params)"
   ]
  },
  {
   "cell_type": "code",
   "execution_count": 53,
   "metadata": {
    "colab": {
     "base_uri": "https://localhost:8080/"
    },
    "id": "Zx3euNJ6OmhP",
    "outputId": "fc03ec9a-8092-46e5-e91d-e5f9c16a127f"
   },
   "outputs": [
    {
     "name": "stdout",
     "output_type": "stream",
     "text": [
      "RMSE: 0.9509\n",
      "Precision:  0.849\n",
      "Recall:  0.893\n",
      "F_1 score:  0.87\n"
     ]
    }
   ],
   "source": [
    "# Using the optimal similarity measure for user-user based collaborative filtering\n",
    "best_params = grid_search.best_params['rmse']\n",
    "\n",
    "# Creating an instance of KNNBasic with optimal hyperparameter values\n",
    "best_model = KNNBasic(k=best_params['k'], min_k=best_params['min_k'], sim_options=best_params['sim_options'], verbose=False)\n",
    "\n",
    "# Training the algorithm on the trainset\n",
    "best_model.fit(trainset)\n",
    "\n",
    "# Let us compute precision@k and recall@k also with k =10\n",
    "precision_recall_at_k(best_model)"
   ]
  },
  {
   "cell_type": "markdown",
   "metadata": {
    "id": "wPXZnsYco6II"
   },
   "source": [
    "**After hyperparameter tuning, the model's performance has generally improved based on the evaluation metrics.**"
   ]
  },
  {
   "cell_type": "markdown",
   "metadata": {
    "id": "jHqSKLmtpulx"
   },
   "source": [
    "**Let's explore similarity options other than cosine, as the next section focuses on identifying similar users to a given user using the MSD (Mean Squared Difference) distance metric.**"
   ]
  },
  {
   "cell_type": "code",
   "execution_count": 54,
   "metadata": {
    "colab": {
     "base_uri": "https://localhost:8080/"
    },
    "id": "9LmPbSUSTsnp",
    "outputId": "a8b07eda-9f63-4443-a3d6-9dd1c26890d9"
   },
   "outputs": [
    {
     "name": "stdout",
     "output_type": "stream",
     "text": [
      "Best RMSE Score: 0.9716\n",
      "Best Hyperparameters: {'k': 50, 'min_k': 5, 'sim_options': {'name': 'msd', 'user_based': True}}\n"
     ]
    }
   ],
   "source": [
    "# Setting up parameter grid to tune the hyperparameters\n",
    "param_grid = {\n",
    "    'k': [10, 20, 30, 40, 50],  # Number of neighbors\n",
    "    'min_k': [1, 3, 5, 10],  # Minimum neighbors\n",
    "    'sim_options': {\n",
    "        'name': ['msd', 'pearson', 'pearson_baseline'],  # Similarity measures\n",
    "        'user_based': [True]  # User-User CF\n",
    "    }\n",
    "}\n",
    "# Performing 3-fold cross-validation to tune the hyperparameters\n",
    "grid_search = GridSearchCV(KNNBasic, param_grid, measures=['rmse'], cv=3, n_jobs=-1)\n",
    "# Fitting the data\n",
    "grid_search.fit(data)\n",
    "# Best RMSE score\n",
    "best_rmse = grid_search.best_score['rmse']\n",
    "print(f\"Best RMSE Score: {best_rmse:.4f}\")\n",
    "# Combination of parameters that gave the best RMSE score\n",
    "best_params = grid_search.best_params['rmse']\n",
    "print(\"Best Hyperparameters:\", best_params)"
   ]
  },
  {
   "cell_type": "markdown",
   "metadata": {
    "id": "L2fHNvu7nVNF"
   },
   "source": [
    "Once the grid search is **complete**, we can get the **optimal values for each of those hyperparameters**."
   ]
  },
  {
   "cell_type": "markdown",
   "metadata": {
    "id": "NHWgxu_YnVNG"
   },
   "source": [
    "Now, let's build the **final model by using tuned values of the hyperparameters**, which we received by using **grid search cross-validation**."
   ]
  },
  {
   "cell_type": "code",
   "execution_count": 55,
   "metadata": {
    "colab": {
     "base_uri": "https://localhost:8080/"
    },
    "id": "PujRJA8X_JEJ",
    "outputId": "3ff333f8-1de1-46b1-fa95-f86241d973ca"
   },
   "outputs": [
    {
     "name": "stdout",
     "output_type": "stream",
     "text": [
      "RMSE: 0.9521\n",
      "Precision:  0.849\n",
      "Recall:  0.892\n",
      "F_1 score:  0.87\n"
     ]
    }
   ],
   "source": [
    "# Using the optimal similarity measure for user-user based collaborative filtering\n",
    "best_params = grid_search.best_params['rmse']\n",
    "\n",
    "# Creating an instance of KNNBasic with optimal hyperparameter values\n",
    "best_model = KNNBasic(k=best_params['k'], min_k=best_params['min_k'], sim_options=best_params['sim_options'], verbose=False)\n",
    "\n",
    "# Training the algorithm on the trainset\n",
    "best_model.fit(trainset)\n",
    "\n",
    "# Let us compute precision@k and recall@k also with k =10\n",
    "precision_recall_at_k(best_model)"
   ]
  },
  {
   "cell_type": "markdown",
   "metadata": {
    "id": "yHsWvFjKTsnp"
   },
   "source": [
    "**After hyperparameter tuning, the best model with the optimal parameters achieves improved results across all four evaluation metrics.**"
   ]
  },
  {
   "cell_type": "markdown",
   "metadata": {
    "id": "YhcAXK0CnVNG"
   },
   "source": [
    "### **Prediction Steps Using the Optimized Model**\n",
    "\n",
    "To evaluate the performance of the optimized recommendation model, we follow these steps:\n",
    "\n",
    "**1.** Predict the rating for the user with userId = \"A3LDPF5FMB782Z\" and productId = \"1400501466\" using the optimized model.\n",
    "\n",
    "**2.** Predict the rating for the user userId = \"A34BZM6S9L7QI4\", who has not interacted with productId = \"1400501466\", using the optimized model.\n",
    "\n",
    "**3.** Compare the results from the optimized model with predictions from the baseline model to assess improvements in recommendation accuracy.\n",
    "\n",
    "This comparison helps determine whether hyperparameter tuning has enhanced the model’s ability to generate better recommendations.\n"
   ]
  },
  {
   "cell_type": "code",
   "execution_count": 56,
   "metadata": {
    "colab": {
     "base_uri": "https://localhost:8080/"
    },
    "id": "FgV63lHiq1TV",
    "outputId": "87f206dc-0029-4573-ddb5-6265eb1f6bba"
   },
   "outputs": [
    {
     "data": {
      "text/plain": [
       "Prediction(uid='A3LDPF5FMB782Z', iid='1400501466', r_ui=5, est=4.849056603773586, details={'actual_k': 5, 'was_impossible': False})"
      ]
     },
     "execution_count": 56,
     "metadata": {},
     "output_type": "execute_result"
    }
   ],
   "source": [
    "# Use sim_user_user_optimized model to recommend for userId \"A3LDPF5FMB782Z\" and productId 1400501466\n",
    "best_model.predict(uid='A3LDPF5FMB782Z', iid='1400501466', r_ui=5)"
   ]
  },
  {
   "cell_type": "code",
   "execution_count": 57,
   "metadata": {
    "colab": {
     "base_uri": "https://localhost:8080/"
    },
    "id": "HXO2Ztjhq1bN",
    "outputId": "914e942c-a9b3-4a73-aceb-475a5e3ced18"
   },
   "outputs": [
    {
     "data": {
      "text/plain": [
       "Prediction(uid='A34BZM6S9L7QI4', iid='1400501466', r_ui=None, est=4.292024046561495, details={'was_impossible': True, 'reason': 'Not enough neighbors.'})"
      ]
     },
     "execution_count": 57,
     "metadata": {},
     "output_type": "execute_result"
    }
   ],
   "source": [
    "# Use sim_user_user_optimized model to recommend for userId \"A34BZM6S9L7QI4\" and productId \"1400501466\"\n",
    "best_model.predict(uid='A34BZM6S9L7QI4', iid='1400501466')"
   ]
  },
  {
   "cell_type": "markdown",
   "metadata": {
    "id": "s5i-OPprNF2e"
   },
   "source": [
    "**The results from the best_model indicate improved accuracy, as the predicted rating for user A3LDPF5FMB782Z and item 1400501466 increased from 3.4 to 4.849, approaching the actual rating of 5. This suggests that the model is more reliable in predicting ratings. Therefore, we can have greater confidence in the prediction for the unknown rating of user A34BZM6S9L7QI4 for item 1400501466, which is estimated to be 4.29.**"
   ]
  },
  {
   "cell_type": "markdown",
   "metadata": {
    "id": "op_zwO_FnVNH"
   },
   "source": [
    "### **Identifying similar users to a given user (nearest neighbors)**"
   ]
  },
  {
   "cell_type": "markdown",
   "metadata": {
    "id": "o2QsfqhanVNH"
   },
   "source": [
    "We can also find out **similar users to a given user** or its **nearest neighbors** based on this KNNBasic algorithm. Below, we are finding the 5 most similar users to the first user in the list with internal id 0, based on the `msd` distance metric."
   ]
  },
  {
   "cell_type": "code",
   "execution_count": 59,
   "metadata": {
    "colab": {
     "base_uri": "https://localhost:8080/"
    },
    "id": "TbFle7cKmBJG",
    "outputId": "a7a84eb5-6cdf-4b91-fa9c-fdd0ce87c585"
   },
   "outputs": [
    {
     "name": "stdout",
     "output_type": "stream",
     "text": [
      "Top 5 similar users to user A20L63B48RPSOH:\n",
      "['A16J281SJ9QXIQ', 'A3CJ7MHAS9IMAM', 'A2L0F2T1DLTNT8', 'AYMD77ITD15PT', 'A21I62TCDL4754']\n"
     ]
    }
   ],
   "source": [
    "# 0 is the inner id of the above user\n",
    "inner_user_id = 0  # Internal ID for the user\n",
    "\n",
    "# Find 5 nearest neighbors\n",
    "similar_users_inner_ids = best_model.get_neighbors(inner_user_id, k=5)\n",
    "\n",
    "# Convert inner IDs back to raw user IDs\n",
    "similar_users_raw_ids = [trainset.to_raw_uid(inner_id) for inner_id in similar_users_inner_ids]\n",
    "\n",
    "# Display similar users\n",
    "print(f\"Top 5 similar users to user {trainset.to_raw_uid(inner_user_id)}:\")\n",
    "print(similar_users_raw_ids)"
   ]
  },
  {
   "cell_type": "markdown",
   "metadata": {
    "id": "Z0NsrX_anVNH"
   },
   "source": [
    "### **Implementing the recommendation algorithm based on optimized KNNBasic model**"
   ]
  },
  {
   "cell_type": "markdown",
   "metadata": {
    "id": "U3ESobDynVNI"
   },
   "source": [
    "Below we will be implementing a function where the input parameters are:\n",
    "\n",
    "- data: A **rating** dataset\n",
    "- user_id: A user id **against which we want the recommendations**\n",
    "- top_n: The **number of products we want to recommend**\n",
    "- algo: the algorithm we want to use **for predicting the ratings**\n",
    "- The output of the function is a **set of top_n items** recommended for the given user_id based on the given algorithm"
   ]
  },
  {
   "cell_type": "code",
   "execution_count": 60,
   "metadata": {
    "id": "vW9V1Tk65HlY"
   },
   "outputs": [],
   "source": [
    "def get_recommendations(data, user_id, top_n, algo):\n",
    "\n",
    "    # Creating an empty list to store the recommended product ids\n",
    "    recommendations = []\n",
    "\n",
    "    # Creating an user item interactions matrix\n",
    "    user_item_interactions_matrix = data.pivot(index = 'user_id', columns = 'prod_id', values = 'rating')\n",
    "\n",
    "    # Extracting those product ids which the user_id has not interacted yet\n",
    "    non_interacted_products = user_item_interactions_matrix.loc[user_id][user_item_interactions_matrix.loc[user_id].isnull()].index.tolist()\n",
    "\n",
    "    # Looping through each of the product ids which user_id has not interacted yet\n",
    "    for item_id in non_interacted_products:\n",
    "\n",
    "        # Predicting the ratings for those non interacted product ids by this user\n",
    "        est = algo.predict(user_id, item_id).est\n",
    "\n",
    "        # Appending the predicted ratings\n",
    "        recommendations.append((item_id, est))\n",
    "\n",
    "    # Sorting the predicted ratings in descending order\n",
    "    recommendations.sort(key = lambda x: x[1], reverse = True)\n",
    "\n",
    "    return recommendations[:top_n] # Returing top n highest predicted rating products for this user"
   ]
  },
  {
   "cell_type": "markdown",
   "metadata": {
    "id": "Oj_S7kh4nVNI"
   },
   "source": [
    "**Predicting top 5 products for userId = \"A3LDPF5FMB782Z\" with similarity based recommendation system**"
   ]
  },
  {
   "cell_type": "code",
   "execution_count": 61,
   "metadata": {
    "colab": {
     "base_uri": "https://localhost:8080/"
    },
    "id": "qWbR85mI5Hrk",
    "outputId": "0654fabb-9b2c-47f2-8aba-f5638bd84627"
   },
   "outputs": [
    {
     "data": {
      "text/plain": [
       "[('B000067RT6', 5),\n",
       " ('B000BQ7GW8', 5),\n",
       " ('B001ENW61I', 5),\n",
       " ('B001TH7GUU', 5),\n",
       " ('B001TH7T2U', 5)]"
      ]
     },
     "execution_count": 61,
     "metadata": {},
     "output_type": "execute_result"
    }
   ],
   "source": [
    "# Making top 5 recommendations for user_id \"A3LDPF5FMB782Z\" with a similarity-based recommendation engine\n",
    "get_recommendations(data= df_final, user_id= \"A3LDPF5FMB782Z\", top_n= 5, algo= best_model)"
   ]
  },
  {
   "cell_type": "code",
   "execution_count": 62,
   "metadata": {
    "id": "b5WfIX0Z6_q2"
   },
   "outputs": [],
   "source": [
    "# Building the dataframe for above recommendations with columns \"prod_id\" and \"predicted_ratings\"\n",
    "L = get_recommendations(data= df_final, user_id= \"A3LDPF5FMB782Z\", top_n= 5, algo= best_model)\n",
    "recommonded_df = pd.DataFrame(L, columns = ['prod_id', 'predicted_ratings'])"
   ]
  },
  {
   "cell_type": "code",
   "execution_count": 64,
   "metadata": {
    "colab": {
     "base_uri": "https://localhost:8080/",
     "height": 206
    },
    "id": "J2fht12mTqTq",
    "outputId": "b99fba0d-d283-4321-93df-f008b05e137d"
   },
   "outputs": [
    {
     "data": {
      "application/vnd.google.colaboratory.intrinsic+json": {
       "summary": "{\n  \"name\": \"recommonded_df\",\n  \"rows\": 5,\n  \"fields\": [\n    {\n      \"column\": \"prod_id\",\n      \"properties\": {\n        \"dtype\": \"string\",\n        \"num_unique_values\": 5,\n        \"samples\": [\n          \"B000BQ7GW8\",\n          \"B001TH7T2U\",\n          \"B001ENW61I\"\n        ],\n        \"semantic_type\": \"\",\n        \"description\": \"\"\n      }\n    },\n    {\n      \"column\": \"predicted_ratings\",\n      \"properties\": {\n        \"dtype\": \"number\",\n        \"std\": 0,\n        \"min\": 5,\n        \"max\": 5,\n        \"num_unique_values\": 1,\n        \"samples\": [\n          5\n        ],\n        \"semantic_type\": \"\",\n        \"description\": \"\"\n      }\n    }\n  ]\n}",
       "type": "dataframe",
       "variable_name": "recommonded_df"
      },
      "text/html": [
       "\n",
       "  <div id=\"df-ee4b3a12-6e77-4721-9019-34e70d3d28da\" class=\"colab-df-container\">\n",
       "    <div>\n",
       "<style scoped>\n",
       "    .dataframe tbody tr th:only-of-type {\n",
       "        vertical-align: middle;\n",
       "    }\n",
       "\n",
       "    .dataframe tbody tr th {\n",
       "        vertical-align: top;\n",
       "    }\n",
       "\n",
       "    .dataframe thead th {\n",
       "        text-align: right;\n",
       "    }\n",
       "</style>\n",
       "<table border=\"1\" class=\"dataframe\">\n",
       "  <thead>\n",
       "    <tr style=\"text-align: right;\">\n",
       "      <th></th>\n",
       "      <th>prod_id</th>\n",
       "      <th>predicted_ratings</th>\n",
       "    </tr>\n",
       "  </thead>\n",
       "  <tbody>\n",
       "    <tr>\n",
       "      <th>0</th>\n",
       "      <td>B000067RT6</td>\n",
       "      <td>5</td>\n",
       "    </tr>\n",
       "    <tr>\n",
       "      <th>1</th>\n",
       "      <td>B000BQ7GW8</td>\n",
       "      <td>5</td>\n",
       "    </tr>\n",
       "    <tr>\n",
       "      <th>2</th>\n",
       "      <td>B001ENW61I</td>\n",
       "      <td>5</td>\n",
       "    </tr>\n",
       "    <tr>\n",
       "      <th>3</th>\n",
       "      <td>B001TH7GUU</td>\n",
       "      <td>5</td>\n",
       "    </tr>\n",
       "    <tr>\n",
       "      <th>4</th>\n",
       "      <td>B001TH7T2U</td>\n",
       "      <td>5</td>\n",
       "    </tr>\n",
       "  </tbody>\n",
       "</table>\n",
       "</div>\n",
       "    <div class=\"colab-df-buttons\">\n",
       "\n",
       "  <div class=\"colab-df-container\">\n",
       "    <button class=\"colab-df-convert\" onclick=\"convertToInteractive('df-ee4b3a12-6e77-4721-9019-34e70d3d28da')\"\n",
       "            title=\"Convert this dataframe to an interactive table.\"\n",
       "            style=\"display:none;\">\n",
       "\n",
       "  <svg xmlns=\"http://www.w3.org/2000/svg\" height=\"24px\" viewBox=\"0 -960 960 960\">\n",
       "    <path d=\"M120-120v-720h720v720H120Zm60-500h600v-160H180v160Zm220 220h160v-160H400v160Zm0 220h160v-160H400v160ZM180-400h160v-160H180v160Zm440 0h160v-160H620v160ZM180-180h160v-160H180v160Zm440 0h160v-160H620v160Z\"/>\n",
       "  </svg>\n",
       "    </button>\n",
       "\n",
       "  <style>\n",
       "    .colab-df-container {\n",
       "      display:flex;\n",
       "      gap: 12px;\n",
       "    }\n",
       "\n",
       "    .colab-df-convert {\n",
       "      background-color: #E8F0FE;\n",
       "      border: none;\n",
       "      border-radius: 50%;\n",
       "      cursor: pointer;\n",
       "      display: none;\n",
       "      fill: #1967D2;\n",
       "      height: 32px;\n",
       "      padding: 0 0 0 0;\n",
       "      width: 32px;\n",
       "    }\n",
       "\n",
       "    .colab-df-convert:hover {\n",
       "      background-color: #E2EBFA;\n",
       "      box-shadow: 0px 1px 2px rgba(60, 64, 67, 0.3), 0px 1px 3px 1px rgba(60, 64, 67, 0.15);\n",
       "      fill: #174EA6;\n",
       "    }\n",
       "\n",
       "    .colab-df-buttons div {\n",
       "      margin-bottom: 4px;\n",
       "    }\n",
       "\n",
       "    [theme=dark] .colab-df-convert {\n",
       "      background-color: #3B4455;\n",
       "      fill: #D2E3FC;\n",
       "    }\n",
       "\n",
       "    [theme=dark] .colab-df-convert:hover {\n",
       "      background-color: #434B5C;\n",
       "      box-shadow: 0px 1px 3px 1px rgba(0, 0, 0, 0.15);\n",
       "      filter: drop-shadow(0px 1px 2px rgba(0, 0, 0, 0.3));\n",
       "      fill: #FFFFFF;\n",
       "    }\n",
       "  </style>\n",
       "\n",
       "    <script>\n",
       "      const buttonEl =\n",
       "        document.querySelector('#df-ee4b3a12-6e77-4721-9019-34e70d3d28da button.colab-df-convert');\n",
       "      buttonEl.style.display =\n",
       "        google.colab.kernel.accessAllowed ? 'block' : 'none';\n",
       "\n",
       "      async function convertToInteractive(key) {\n",
       "        const element = document.querySelector('#df-ee4b3a12-6e77-4721-9019-34e70d3d28da');\n",
       "        const dataTable =\n",
       "          await google.colab.kernel.invokeFunction('convertToInteractive',\n",
       "                                                    [key], {});\n",
       "        if (!dataTable) return;\n",
       "\n",
       "        const docLinkHtml = 'Like what you see? Visit the ' +\n",
       "          '<a target=\"_blank\" href=https://colab.research.google.com/notebooks/data_table.ipynb>data table notebook</a>'\n",
       "          + ' to learn more about interactive tables.';\n",
       "        element.innerHTML = '';\n",
       "        dataTable['output_type'] = 'display_data';\n",
       "        await google.colab.output.renderOutput(dataTable, element);\n",
       "        const docLink = document.createElement('div');\n",
       "        docLink.innerHTML = docLinkHtml;\n",
       "        element.appendChild(docLink);\n",
       "      }\n",
       "    </script>\n",
       "  </div>\n",
       "\n",
       "\n",
       "<div id=\"df-337d6308-5153-4d81-a839-4263b60a450e\">\n",
       "  <button class=\"colab-df-quickchart\" onclick=\"quickchart('df-337d6308-5153-4d81-a839-4263b60a450e')\"\n",
       "            title=\"Suggest charts\"\n",
       "            style=\"display:none;\">\n",
       "\n",
       "<svg xmlns=\"http://www.w3.org/2000/svg\" height=\"24px\"viewBox=\"0 0 24 24\"\n",
       "     width=\"24px\">\n",
       "    <g>\n",
       "        <path d=\"M19 3H5c-1.1 0-2 .9-2 2v14c0 1.1.9 2 2 2h14c1.1 0 2-.9 2-2V5c0-1.1-.9-2-2-2zM9 17H7v-7h2v7zm4 0h-2V7h2v10zm4 0h-2v-4h2v4z\"/>\n",
       "    </g>\n",
       "</svg>\n",
       "  </button>\n",
       "\n",
       "<style>\n",
       "  .colab-df-quickchart {\n",
       "      --bg-color: #E8F0FE;\n",
       "      --fill-color: #1967D2;\n",
       "      --hover-bg-color: #E2EBFA;\n",
       "      --hover-fill-color: #174EA6;\n",
       "      --disabled-fill-color: #AAA;\n",
       "      --disabled-bg-color: #DDD;\n",
       "  }\n",
       "\n",
       "  [theme=dark] .colab-df-quickchart {\n",
       "      --bg-color: #3B4455;\n",
       "      --fill-color: #D2E3FC;\n",
       "      --hover-bg-color: #434B5C;\n",
       "      --hover-fill-color: #FFFFFF;\n",
       "      --disabled-bg-color: #3B4455;\n",
       "      --disabled-fill-color: #666;\n",
       "  }\n",
       "\n",
       "  .colab-df-quickchart {\n",
       "    background-color: var(--bg-color);\n",
       "    border: none;\n",
       "    border-radius: 50%;\n",
       "    cursor: pointer;\n",
       "    display: none;\n",
       "    fill: var(--fill-color);\n",
       "    height: 32px;\n",
       "    padding: 0;\n",
       "    width: 32px;\n",
       "  }\n",
       "\n",
       "  .colab-df-quickchart:hover {\n",
       "    background-color: var(--hover-bg-color);\n",
       "    box-shadow: 0 1px 2px rgba(60, 64, 67, 0.3), 0 1px 3px 1px rgba(60, 64, 67, 0.15);\n",
       "    fill: var(--button-hover-fill-color);\n",
       "  }\n",
       "\n",
       "  .colab-df-quickchart-complete:disabled,\n",
       "  .colab-df-quickchart-complete:disabled:hover {\n",
       "    background-color: var(--disabled-bg-color);\n",
       "    fill: var(--disabled-fill-color);\n",
       "    box-shadow: none;\n",
       "  }\n",
       "\n",
       "  .colab-df-spinner {\n",
       "    border: 2px solid var(--fill-color);\n",
       "    border-color: transparent;\n",
       "    border-bottom-color: var(--fill-color);\n",
       "    animation:\n",
       "      spin 1s steps(1) infinite;\n",
       "  }\n",
       "\n",
       "  @keyframes spin {\n",
       "    0% {\n",
       "      border-color: transparent;\n",
       "      border-bottom-color: var(--fill-color);\n",
       "      border-left-color: var(--fill-color);\n",
       "    }\n",
       "    20% {\n",
       "      border-color: transparent;\n",
       "      border-left-color: var(--fill-color);\n",
       "      border-top-color: var(--fill-color);\n",
       "    }\n",
       "    30% {\n",
       "      border-color: transparent;\n",
       "      border-left-color: var(--fill-color);\n",
       "      border-top-color: var(--fill-color);\n",
       "      border-right-color: var(--fill-color);\n",
       "    }\n",
       "    40% {\n",
       "      border-color: transparent;\n",
       "      border-right-color: var(--fill-color);\n",
       "      border-top-color: var(--fill-color);\n",
       "    }\n",
       "    60% {\n",
       "      border-color: transparent;\n",
       "      border-right-color: var(--fill-color);\n",
       "    }\n",
       "    80% {\n",
       "      border-color: transparent;\n",
       "      border-right-color: var(--fill-color);\n",
       "      border-bottom-color: var(--fill-color);\n",
       "    }\n",
       "    90% {\n",
       "      border-color: transparent;\n",
       "      border-bottom-color: var(--fill-color);\n",
       "    }\n",
       "  }\n",
       "</style>\n",
       "\n",
       "  <script>\n",
       "    async function quickchart(key) {\n",
       "      const quickchartButtonEl =\n",
       "        document.querySelector('#' + key + ' button');\n",
       "      quickchartButtonEl.disabled = true;  // To prevent multiple clicks.\n",
       "      quickchartButtonEl.classList.add('colab-df-spinner');\n",
       "      try {\n",
       "        const charts = await google.colab.kernel.invokeFunction(\n",
       "            'suggestCharts', [key], {});\n",
       "      } catch (error) {\n",
       "        console.error('Error during call to suggestCharts:', error);\n",
       "      }\n",
       "      quickchartButtonEl.classList.remove('colab-df-spinner');\n",
       "      quickchartButtonEl.classList.add('colab-df-quickchart-complete');\n",
       "    }\n",
       "    (() => {\n",
       "      let quickchartButtonEl =\n",
       "        document.querySelector('#df-337d6308-5153-4d81-a839-4263b60a450e button');\n",
       "      quickchartButtonEl.style.display =\n",
       "        google.colab.kernel.accessAllowed ? 'block' : 'none';\n",
       "    })();\n",
       "  </script>\n",
       "</div>\n",
       "\n",
       "    </div>\n",
       "  </div>\n"
      ],
      "text/plain": [
       "      prod_id  predicted_ratings\n",
       "0  B000067RT6                  5\n",
       "1  B000BQ7GW8                  5\n",
       "2  B001ENW61I                  5\n",
       "3  B001TH7GUU                  5\n",
       "4  B001TH7T2U                  5"
      ]
     },
     "execution_count": 64,
     "metadata": {},
     "output_type": "execute_result"
    }
   ],
   "source": [
    "#Check the first 5 rows of the recommonded_df dataframe\n",
    "recommonded_df.head()"
   ]
  },
  {
   "cell_type": "markdown",
   "metadata": {
    "id": "QgbzJKk7Tsnr"
   },
   "source": [
    "### **Item-Item Similarity-based Collaborative Filtering Recommendation System**"
   ]
  },
  {
   "cell_type": "markdown",
   "metadata": {
    "id": "qTJu_2hcTsnr"
   },
   "source": [
    "* Above we have seen **similarity-based collaborative filtering** where similarity is calculated **between users**. Now let us look into similarity-based collaborative filtering where similarity is seen **between items**."
   ]
  },
  {
   "cell_type": "code",
   "execution_count": 65,
   "metadata": {
    "colab": {
     "base_uri": "https://localhost:8080/"
    },
    "id": "W5RMcdzjTsns",
    "outputId": "f01d220b-59c0-4f02-99f0-08201e132c54"
   },
   "outputs": [
    {
     "name": "stdout",
     "output_type": "stream",
     "text": [
      "RMSE: 0.9950\n",
      "Precision:  0.838\n",
      "Recall:  0.845\n",
      "F_1 score:  0.841\n"
     ]
    }
   ],
   "source": [
    "# Declaring the similarity options\n",
    "sim_options = {\n",
    "    \"name\": \"cosine\", # Using the cosine similarity\n",
    "    \"user_based\": False}  # True for user-user CF, False for item-item CF\n",
    "\n",
    "# KNN algorithm is used to find desired similar items. Use random_state=1\n",
    "model = KNNBasic(sim_options=sim_options, verbose=False, random_state=1)\n",
    "# Train the algorithm on the trainset, and predict ratings for the test set\n",
    "model.fit(trainset)\n",
    "# Let us compute precision@k, recall@k, and f_1 score with k = 10\n",
    "precision_recall_at_k(model)"
   ]
  },
  {
   "cell_type": "markdown",
   "metadata": {
    "id": "ni9LoeUVTsns"
   },
   "source": [
    "**In comparison to our previous best results which were:\n",
    "RMSE: 0.9521\n",
    "Precision: 0.849\n",
    "Recall: 0.892\n",
    "F1 Score: 0.87\n",
    "The current results do not appear to be as good. Let's re-evaluate after hyperparameter tuning to check for further improvements.**\n",
    "\n"
   ]
  },
  {
   "cell_type": "markdown",
   "metadata": {
    "id": "jFbcDQmxTsns"
   },
   "source": [
    "Let's now **predict a rating for a user with `userId = A3LDPF5FMB782Z` and `prod_Id = 1400501466`** as shown below. Here the user has already interacted or watched the product with productId \"1400501466\"."
   ]
  },
  {
   "cell_type": "code",
   "execution_count": 66,
   "metadata": {
    "colab": {
     "base_uri": "https://localhost:8080/"
    },
    "id": "JsF-aaWYTsns",
    "outputId": "6399dcef-8801-4bae-ad7b-c6dbd2483633"
   },
   "outputs": [
    {
     "data": {
      "text/plain": [
       "Prediction(uid='A3LDPF5FMB782Z', iid='1400501466', r_ui=5, est=4.2727272727272725, details={'actual_k': 22, 'was_impossible': False})"
      ]
     },
     "execution_count": 66,
     "metadata": {},
     "output_type": "execute_result"
    }
   ],
   "source": [
    "# Predicting rating for a sample user with an interacted product\n",
    "model.predict(uid='A3LDPF5FMB782Z', iid='1400501466', r_ui=5)"
   ]
  },
  {
   "cell_type": "markdown",
   "metadata": {
    "id": "2h0OyDMFTsns"
   },
   "source": [
    "**This model performs well in predicting the known rating of 5, producing an output of 4.27.**"
   ]
  },
  {
   "cell_type": "markdown",
   "metadata": {
    "id": "BqKGZoAtTsns"
   },
   "source": [
    "Below we are **predicting rating for the `userId = A34BZM6S9L7QI4` and `prod_id = 1400501466`**."
   ]
  },
  {
   "cell_type": "code",
   "execution_count": 67,
   "metadata": {
    "colab": {
     "base_uri": "https://localhost:8080/"
    },
    "id": "5yILOxXRTsns",
    "outputId": "2167619b-60eb-40f1-dbfd-cdf1252fbcee"
   },
   "outputs": [
    {
     "data": {
      "text/plain": [
       "Prediction(uid='A34BZM6S9L7QI4', iid='1400501466', r_ui=None, est=4.292024046561495, details={'was_impossible': True, 'reason': 'Not enough neighbors.'})"
      ]
     },
     "execution_count": 67,
     "metadata": {},
     "output_type": "execute_result"
    }
   ],
   "source": [
    "# Predicting rating for a sample user with a non interacted product\n",
    "model.predict(uid='A34BZM6S9L7QI4', iid='1400501466')"
   ]
  },
  {
   "cell_type": "markdown",
   "metadata": {
    "id": "sDKaAveJTsns"
   },
   "source": [
    "**This model predicts the unknown rating for user A34BZM6S9L7QI4 and item 1400501466 will be 4.29**"
   ]
  },
  {
   "cell_type": "markdown",
   "metadata": {
    "id": "meSvpNLj_EjD"
   },
   "source": [
    "### **Hyperparameter tuning the item-item similarity-based model**\n",
    "\n",
    "To optimize the KNNBasic recommendation model, we use GridSearchCV to tune the following parameters:\n",
    "\n",
    "- k: [10, 20, 30] (Number of neighbors for aggregation)\n",
    "- min_k: [3, 6, 9] (Minimum number of neighbors for aggregation)\n",
    "- sim_options:\n",
    "    - name: ['msd', 'cosine'] (Similarity measures)\n",
    "    - user_based: [False] (Item-based filtering)\n",
    "The model is tuned using the Root Mean Squared Error (RMSE) as the evaluation metric.\n",
    "\n",
    "After running GridSearchCV, the best score and best parameters are printed to determine the optimal configuration for improving recommendation accuracy."
   ]
  },
  {
   "cell_type": "code",
   "execution_count": 68,
   "metadata": {
    "colab": {
     "base_uri": "https://localhost:8080/"
    },
    "id": "f5bcZ3HgTsnt",
    "outputId": "67f4a298-e057-42d7-dfd6-264e45273774"
   },
   "outputs": [
    {
     "name": "stdout",
     "output_type": "stream",
     "text": [
      "Best RMSE Score: 0.9760\n",
      "Best Hyperparameters: {'k': 30, 'min_k': 9, 'sim_options': {'name': 'msd', 'user_based': False}}\n"
     ]
    }
   ],
   "source": [
    "# Setting up parameter grid to tune the hyperparameters\n",
    "param_grid = {\n",
    "    'k':  [10, 20, 30],  # Number of neighbors\n",
    "    'min_k': [3, 6, 9],  # Minimum neighbors\n",
    "    'sim_options': {\n",
    "        'name': ['msd', 'cosine'],  # Similarity measures\n",
    "        'user_based': [False]  # User-User CF\n",
    "    }\n",
    "}\n",
    "# Performing 3-fold cross validation to tune the hyperparameters\n",
    "grid_search = GridSearchCV(KNNBasic, param_grid, measures=['rmse'], cv=3, n_jobs=-1)\n",
    "# Fitting the data\n",
    "grid_search.fit(data)\n",
    "# Find the best RMSE score\n",
    "best_rmse = grid_search.best_score['rmse']\n",
    "print(f\"Best RMSE Score: {best_rmse:.4f}\")\n",
    "# Find the combination of parameters that gave the best RMSE score\n",
    "best_params = grid_search.best_params['rmse']\n",
    "print(\"Best Hyperparameters:\", best_params)"
   ]
  },
  {
   "cell_type": "markdown",
   "metadata": {
    "id": "kOS9Dwnd_LN6"
   },
   "source": [
    "### **Building the Optimized Item-Item Similarity Model**\n",
    "\n",
    "Using the **optimal values for each of those hyperparameters as best parameters**  obtained from GridSearchCV, we build the optimized item-item similarity-based model. The steps include:\n",
    "\n",
    "1. Train the model using the optimal hyperparameters.\n",
    "2. Evaluate performance by comparing the optimized model’s predictions with those from the baseline model.\n",
    "3. Compare key metrics such as RMSE, precision, and recall to determine improvements in recommendation accuracy.\n",
    "\n",
    "This comparison helps assess whether hyperparameter tuning enhances the model's effectiveness in providing better recommendations."
   ]
  },
  {
   "cell_type": "code",
   "execution_count": 69,
   "metadata": {
    "colab": {
     "base_uri": "https://localhost:8080/"
    },
    "id": "dSeiM1qeTsnt",
    "outputId": "eb1dd500-924a-4adc-fd20-84b861e28fba"
   },
   "outputs": [
    {
     "name": "stdout",
     "output_type": "stream",
     "text": [
      "RMSE: 0.9567\n",
      "Precision:  0.838\n",
      "Recall:  0.889\n",
      "F_1 score:  0.863\n"
     ]
    }
   ],
   "source": [
    "# Using the optimal similarity measure for item-item based collaborative filtering\n",
    "best_params = grid_search.best_params['rmse']\n",
    "# Creating an instance of KNNBasic with optimal hyperparameter values\n",
    "best_model = KNNBasic(k=best_params['k'], min_k=best_params['min_k'], sim_options=best_params['sim_options'], verbose=False)\n",
    "# Training the algorithm on the trainset\n",
    "best_model.fit(trainset)\n",
    "# Let us compute precision@k and recall@k, f1_score and RMSE\n",
    "precision_recall_at_k(best_model)"
   ]
  },
  {
   "cell_type": "markdown",
   "metadata": {
    "id": "ZCXKnMI8Tsnt"
   },
   "source": [
    "**We can see the tuned model is showing better results than its base model.**"
   ]
  },
  {
   "cell_type": "markdown",
   "metadata": {
    "id": "Sbcj_H94Tsnt"
   },
   "source": [
    "### **Prediction and Model Comparison**\n",
    "\n",
    "To evaluate the effectiveness of the optimized recommendation model, we follow these steps:\n",
    "- **Predict rating for the user with `userId=\"A3LDPF5FMB782Z\"`, and `prod_id= \"1400501466\"` using the optimized model**\n",
    "- **Predict rating for `userId=\"A34BZM6S9L7QI4\"` who has not interacted with `prod_id =\"1400501466\"`, by using the optimized model**\n",
    "- **Compare the output with the output from the baseline model**\n",
    "\n",
    "This comparison helps determine whether the optimized model provides better personalization and more accurate predictions than the baseline."
   ]
  },
  {
   "cell_type": "code",
   "execution_count": 70,
   "metadata": {
    "colab": {
     "base_uri": "https://localhost:8080/"
    },
    "id": "gIBRRvdoTsnt",
    "outputId": "bf6f004c-a21d-4a5e-b8ca-50d7623d6c6c"
   },
   "outputs": [
    {
     "data": {
      "text/plain": [
       "Prediction(uid='A3LDPF5FMB782Z', iid='1400501466', r_ui=5, est=4.67427701674277, details={'actual_k': 22, 'was_impossible': False})"
      ]
     },
     "execution_count": 70,
     "metadata": {},
     "output_type": "execute_result"
    }
   ],
   "source": [
    "# Use sim_item_item_optimized model to recommend for userId \"A3LDPF5FMB782Z\" and productId \"1400501466\"\n",
    "best_model.predict(uid='A3LDPF5FMB782Z', iid='1400501466', r_ui=5)"
   ]
  },
  {
   "cell_type": "code",
   "execution_count": 71,
   "metadata": {
    "colab": {
     "base_uri": "https://localhost:8080/"
    },
    "id": "daMEXQa2PyXp",
    "outputId": "ca937acb-992d-4b2e-f14e-f78b5e23fe5c"
   },
   "outputs": [
    {
     "data": {
      "text/plain": [
       "Prediction(uid='A34BZM6S9L7QI4', iid='1400501466', r_ui=None, est=4.292024046561495, details={'was_impossible': True, 'reason': 'Not enough neighbors.'})"
      ]
     },
     "execution_count": 71,
     "metadata": {},
     "output_type": "execute_result"
    }
   ],
   "source": [
    "# Use sim_item_item_optimized model to recommend for userId \"A34BZM6S9L7QI4\" and productId \"1400501466\"\n",
    "best_model.predict(uid='A34BZM6S9L7QI4', iid='1400501466')"
   ]
  },
  {
   "cell_type": "markdown",
   "metadata": {
    "id": "d8RAFSqQPyXq"
   },
   "source": [
    "**This model accurately predicts the known rating of 5 with a value of 4.67 and also estimates the unknown rating as 4.29.**"
   ]
  },
  {
   "cell_type": "markdown",
   "metadata": {
    "id": "MDlNB7tnTsnu"
   },
   "source": [
    "### **Identifying similar items to a given item (nearest neighbors)**"
   ]
  },
  {
   "cell_type": "markdown",
   "metadata": {
    "id": "RLdDiFA6Tsnu"
   },
   "source": [
    "We can also find out **similar items** to a given item or its nearest neighbors based on this **KNNBasic algorithm**. Below we are finding the 5 most similar items to the item with internal id 0 based on the `msd` distance metric."
   ]
  },
  {
   "cell_type": "code",
   "execution_count": 72,
   "metadata": {
    "colab": {
     "base_uri": "https://localhost:8080/"
    },
    "id": "HO3AYinuYcVQ",
    "outputId": "f1fcaff0-ef8f-4fda-92da-8e926b3aa2d2"
   },
   "outputs": [
    {
     "name": "stdout",
     "output_type": "stream",
     "text": [
      "Top 5 similar items to item B005G0CUP2:\n",
      "['B008X9Z3UC', 'B003ZSHKJ8', 'B003LSTD38', 'B005EOWBKE', 'B004IZN3WU']\n"
     ]
    }
   ],
   "source": [
    "# 0 is the inner id of the above item\n",
    "inner_item_id = 0  # Internal ID for the item\n",
    "\n",
    "# Find 5 most similar items (nearest neighbors)\n",
    "similar_items_inner_ids = best_model.get_neighbors(inner_item_id, k=5)\n",
    "\n",
    "# Step 3: Convert inner item IDs back to raw item IDs\n",
    "similar_items_raw_ids = [trainset.to_raw_iid(inner_id) for inner_id in similar_items_inner_ids]\n",
    "\n",
    "# Step 4: Display similar items\n",
    "print(f\"Top 5 similar items to item {trainset.to_raw_iid(inner_item_id)}:\")\n",
    "print(similar_items_raw_ids)"
   ]
  },
  {
   "cell_type": "markdown",
   "metadata": {
    "id": "p4SI2a9APyXq"
   },
   "source": [
    "**Predicting top 5 products for userId = \"A1A5KUIIIHFF4U\" with similarity based recommendation system.**\n",
    "\n",
    "Using the get_recommendations() function."
   ]
  },
  {
   "cell_type": "code",
   "execution_count": 73,
   "metadata": {
    "colab": {
     "base_uri": "https://localhost:8080/"
    },
    "id": "rzoEbuZFTsnu",
    "outputId": "bc222e8b-fde8-45a8-c27d-da9c89c18cd6"
   },
   "outputs": [
    {
     "data": {
      "text/plain": [
       "[('1400532655', 4.292024046561495),\n",
       " ('1400599997', 4.292024046561495),\n",
       " ('9983891212', 4.292024046561495),\n",
       " ('B00000DM9W', 4.292024046561495),\n",
       " ('B00000J1V5', 4.292024046561495)]"
      ]
     },
     "execution_count": 73,
     "metadata": {},
     "output_type": "execute_result"
    }
   ],
   "source": [
    "# Making top 5 recommendations for user_id A1A5KUIIIHFF4U with similarity-based recommendation engine.\n",
    "get_recommendations(data= df_final, user_id= \"A1A5KUIIIHFF4U\", top_n= 5, algo= best_model)"
   ]
  },
  {
   "cell_type": "code",
   "execution_count": 74,
   "metadata": {
    "id": "_kXVTiysTsnv"
   },
   "outputs": [],
   "source": [
    "# Building the dataframe for above recommendations with columns \"prod_id\" and \"predicted_ratings\"\n",
    "L = get_recommendations(data= df_final, user_id= \"A1A5KUIIIHFF4U\", top_n= 5, algo= best_model)\n",
    "recommonded_df = pd.DataFrame(L, columns = ['prod_id', 'predicted_ratings'])"
   ]
  },
  {
   "cell_type": "markdown",
   "metadata": {
    "id": "DHzmYvs0Tsnv"
   },
   "source": [
    "Now as we have seen **similarity-based collaborative filtering algorithms**, let us now get into **model-based collaborative filtering algorithms**."
   ]
  },
  {
   "cell_type": "code",
   "execution_count": 75,
   "metadata": {
    "colab": {
     "base_uri": "https://localhost:8080/",
     "height": 206
    },
    "id": "rB7_HIUhazqb",
    "outputId": "8f63119e-b4fe-49b8-e51e-43c8c10e8800"
   },
   "outputs": [
    {
     "data": {
      "application/vnd.google.colaboratory.intrinsic+json": {
       "summary": "{\n  \"name\": \"recommonded_df\",\n  \"rows\": 5,\n  \"fields\": [\n    {\n      \"column\": \"prod_id\",\n      \"properties\": {\n        \"dtype\": \"string\",\n        \"num_unique_values\": 5,\n        \"samples\": [\n          \"1400599997\",\n          \"B00000J1V5\",\n          \"9983891212\"\n        ],\n        \"semantic_type\": \"\",\n        \"description\": \"\"\n      }\n    },\n    {\n      \"column\": \"predicted_ratings\",\n      \"properties\": {\n        \"dtype\": \"number\",\n        \"std\": 0.0,\n        \"min\": 4.292024046561495,\n        \"max\": 4.292024046561495,\n        \"num_unique_values\": 1,\n        \"samples\": [\n          4.292024046561495\n        ],\n        \"semantic_type\": \"\",\n        \"description\": \"\"\n      }\n    }\n  ]\n}",
       "type": "dataframe",
       "variable_name": "recommonded_df"
      },
      "text/html": [
       "\n",
       "  <div id=\"df-9de3fbac-6bb4-45b2-be95-0248b658c3ef\" class=\"colab-df-container\">\n",
       "    <div>\n",
       "<style scoped>\n",
       "    .dataframe tbody tr th:only-of-type {\n",
       "        vertical-align: middle;\n",
       "    }\n",
       "\n",
       "    .dataframe tbody tr th {\n",
       "        vertical-align: top;\n",
       "    }\n",
       "\n",
       "    .dataframe thead th {\n",
       "        text-align: right;\n",
       "    }\n",
       "</style>\n",
       "<table border=\"1\" class=\"dataframe\">\n",
       "  <thead>\n",
       "    <tr style=\"text-align: right;\">\n",
       "      <th></th>\n",
       "      <th>prod_id</th>\n",
       "      <th>predicted_ratings</th>\n",
       "    </tr>\n",
       "  </thead>\n",
       "  <tbody>\n",
       "    <tr>\n",
       "      <th>0</th>\n",
       "      <td>1400532655</td>\n",
       "      <td>4.292024</td>\n",
       "    </tr>\n",
       "    <tr>\n",
       "      <th>1</th>\n",
       "      <td>1400599997</td>\n",
       "      <td>4.292024</td>\n",
       "    </tr>\n",
       "    <tr>\n",
       "      <th>2</th>\n",
       "      <td>9983891212</td>\n",
       "      <td>4.292024</td>\n",
       "    </tr>\n",
       "    <tr>\n",
       "      <th>3</th>\n",
       "      <td>B00000DM9W</td>\n",
       "      <td>4.292024</td>\n",
       "    </tr>\n",
       "    <tr>\n",
       "      <th>4</th>\n",
       "      <td>B00000J1V5</td>\n",
       "      <td>4.292024</td>\n",
       "    </tr>\n",
       "  </tbody>\n",
       "</table>\n",
       "</div>\n",
       "    <div class=\"colab-df-buttons\">\n",
       "\n",
       "  <div class=\"colab-df-container\">\n",
       "    <button class=\"colab-df-convert\" onclick=\"convertToInteractive('df-9de3fbac-6bb4-45b2-be95-0248b658c3ef')\"\n",
       "            title=\"Convert this dataframe to an interactive table.\"\n",
       "            style=\"display:none;\">\n",
       "\n",
       "  <svg xmlns=\"http://www.w3.org/2000/svg\" height=\"24px\" viewBox=\"0 -960 960 960\">\n",
       "    <path d=\"M120-120v-720h720v720H120Zm60-500h600v-160H180v160Zm220 220h160v-160H400v160Zm0 220h160v-160H400v160ZM180-400h160v-160H180v160Zm440 0h160v-160H620v160ZM180-180h160v-160H180v160Zm440 0h160v-160H620v160Z\"/>\n",
       "  </svg>\n",
       "    </button>\n",
       "\n",
       "  <style>\n",
       "    .colab-df-container {\n",
       "      display:flex;\n",
       "      gap: 12px;\n",
       "    }\n",
       "\n",
       "    .colab-df-convert {\n",
       "      background-color: #E8F0FE;\n",
       "      border: none;\n",
       "      border-radius: 50%;\n",
       "      cursor: pointer;\n",
       "      display: none;\n",
       "      fill: #1967D2;\n",
       "      height: 32px;\n",
       "      padding: 0 0 0 0;\n",
       "      width: 32px;\n",
       "    }\n",
       "\n",
       "    .colab-df-convert:hover {\n",
       "      background-color: #E2EBFA;\n",
       "      box-shadow: 0px 1px 2px rgba(60, 64, 67, 0.3), 0px 1px 3px 1px rgba(60, 64, 67, 0.15);\n",
       "      fill: #174EA6;\n",
       "    }\n",
       "\n",
       "    .colab-df-buttons div {\n",
       "      margin-bottom: 4px;\n",
       "    }\n",
       "\n",
       "    [theme=dark] .colab-df-convert {\n",
       "      background-color: #3B4455;\n",
       "      fill: #D2E3FC;\n",
       "    }\n",
       "\n",
       "    [theme=dark] .colab-df-convert:hover {\n",
       "      background-color: #434B5C;\n",
       "      box-shadow: 0px 1px 3px 1px rgba(0, 0, 0, 0.15);\n",
       "      filter: drop-shadow(0px 1px 2px rgba(0, 0, 0, 0.3));\n",
       "      fill: #FFFFFF;\n",
       "    }\n",
       "  </style>\n",
       "\n",
       "    <script>\n",
       "      const buttonEl =\n",
       "        document.querySelector('#df-9de3fbac-6bb4-45b2-be95-0248b658c3ef button.colab-df-convert');\n",
       "      buttonEl.style.display =\n",
       "        google.colab.kernel.accessAllowed ? 'block' : 'none';\n",
       "\n",
       "      async function convertToInteractive(key) {\n",
       "        const element = document.querySelector('#df-9de3fbac-6bb4-45b2-be95-0248b658c3ef');\n",
       "        const dataTable =\n",
       "          await google.colab.kernel.invokeFunction('convertToInteractive',\n",
       "                                                    [key], {});\n",
       "        if (!dataTable) return;\n",
       "\n",
       "        const docLinkHtml = 'Like what you see? Visit the ' +\n",
       "          '<a target=\"_blank\" href=https://colab.research.google.com/notebooks/data_table.ipynb>data table notebook</a>'\n",
       "          + ' to learn more about interactive tables.';\n",
       "        element.innerHTML = '';\n",
       "        dataTable['output_type'] = 'display_data';\n",
       "        await google.colab.output.renderOutput(dataTable, element);\n",
       "        const docLink = document.createElement('div');\n",
       "        docLink.innerHTML = docLinkHtml;\n",
       "        element.appendChild(docLink);\n",
       "      }\n",
       "    </script>\n",
       "  </div>\n",
       "\n",
       "\n",
       "<div id=\"df-c2715296-0abc-48ba-9063-69a7e8528bf2\">\n",
       "  <button class=\"colab-df-quickchart\" onclick=\"quickchart('df-c2715296-0abc-48ba-9063-69a7e8528bf2')\"\n",
       "            title=\"Suggest charts\"\n",
       "            style=\"display:none;\">\n",
       "\n",
       "<svg xmlns=\"http://www.w3.org/2000/svg\" height=\"24px\"viewBox=\"0 0 24 24\"\n",
       "     width=\"24px\">\n",
       "    <g>\n",
       "        <path d=\"M19 3H5c-1.1 0-2 .9-2 2v14c0 1.1.9 2 2 2h14c1.1 0 2-.9 2-2V5c0-1.1-.9-2-2-2zM9 17H7v-7h2v7zm4 0h-2V7h2v10zm4 0h-2v-4h2v4z\"/>\n",
       "    </g>\n",
       "</svg>\n",
       "  </button>\n",
       "\n",
       "<style>\n",
       "  .colab-df-quickchart {\n",
       "      --bg-color: #E8F0FE;\n",
       "      --fill-color: #1967D2;\n",
       "      --hover-bg-color: #E2EBFA;\n",
       "      --hover-fill-color: #174EA6;\n",
       "      --disabled-fill-color: #AAA;\n",
       "      --disabled-bg-color: #DDD;\n",
       "  }\n",
       "\n",
       "  [theme=dark] .colab-df-quickchart {\n",
       "      --bg-color: #3B4455;\n",
       "      --fill-color: #D2E3FC;\n",
       "      --hover-bg-color: #434B5C;\n",
       "      --hover-fill-color: #FFFFFF;\n",
       "      --disabled-bg-color: #3B4455;\n",
       "      --disabled-fill-color: #666;\n",
       "  }\n",
       "\n",
       "  .colab-df-quickchart {\n",
       "    background-color: var(--bg-color);\n",
       "    border: none;\n",
       "    border-radius: 50%;\n",
       "    cursor: pointer;\n",
       "    display: none;\n",
       "    fill: var(--fill-color);\n",
       "    height: 32px;\n",
       "    padding: 0;\n",
       "    width: 32px;\n",
       "  }\n",
       "\n",
       "  .colab-df-quickchart:hover {\n",
       "    background-color: var(--hover-bg-color);\n",
       "    box-shadow: 0 1px 2px rgba(60, 64, 67, 0.3), 0 1px 3px 1px rgba(60, 64, 67, 0.15);\n",
       "    fill: var(--button-hover-fill-color);\n",
       "  }\n",
       "\n",
       "  .colab-df-quickchart-complete:disabled,\n",
       "  .colab-df-quickchart-complete:disabled:hover {\n",
       "    background-color: var(--disabled-bg-color);\n",
       "    fill: var(--disabled-fill-color);\n",
       "    box-shadow: none;\n",
       "  }\n",
       "\n",
       "  .colab-df-spinner {\n",
       "    border: 2px solid var(--fill-color);\n",
       "    border-color: transparent;\n",
       "    border-bottom-color: var(--fill-color);\n",
       "    animation:\n",
       "      spin 1s steps(1) infinite;\n",
       "  }\n",
       "\n",
       "  @keyframes spin {\n",
       "    0% {\n",
       "      border-color: transparent;\n",
       "      border-bottom-color: var(--fill-color);\n",
       "      border-left-color: var(--fill-color);\n",
       "    }\n",
       "    20% {\n",
       "      border-color: transparent;\n",
       "      border-left-color: var(--fill-color);\n",
       "      border-top-color: var(--fill-color);\n",
       "    }\n",
       "    30% {\n",
       "      border-color: transparent;\n",
       "      border-left-color: var(--fill-color);\n",
       "      border-top-color: var(--fill-color);\n",
       "      border-right-color: var(--fill-color);\n",
       "    }\n",
       "    40% {\n",
       "      border-color: transparent;\n",
       "      border-right-color: var(--fill-color);\n",
       "      border-top-color: var(--fill-color);\n",
       "    }\n",
       "    60% {\n",
       "      border-color: transparent;\n",
       "      border-right-color: var(--fill-color);\n",
       "    }\n",
       "    80% {\n",
       "      border-color: transparent;\n",
       "      border-right-color: var(--fill-color);\n",
       "      border-bottom-color: var(--fill-color);\n",
       "    }\n",
       "    90% {\n",
       "      border-color: transparent;\n",
       "      border-bottom-color: var(--fill-color);\n",
       "    }\n",
       "  }\n",
       "</style>\n",
       "\n",
       "  <script>\n",
       "    async function quickchart(key) {\n",
       "      const quickchartButtonEl =\n",
       "        document.querySelector('#' + key + ' button');\n",
       "      quickchartButtonEl.disabled = true;  // To prevent multiple clicks.\n",
       "      quickchartButtonEl.classList.add('colab-df-spinner');\n",
       "      try {\n",
       "        const charts = await google.colab.kernel.invokeFunction(\n",
       "            'suggestCharts', [key], {});\n",
       "      } catch (error) {\n",
       "        console.error('Error during call to suggestCharts:', error);\n",
       "      }\n",
       "      quickchartButtonEl.classList.remove('colab-df-spinner');\n",
       "      quickchartButtonEl.classList.add('colab-df-quickchart-complete');\n",
       "    }\n",
       "    (() => {\n",
       "      let quickchartButtonEl =\n",
       "        document.querySelector('#df-c2715296-0abc-48ba-9063-69a7e8528bf2 button');\n",
       "      quickchartButtonEl.style.display =\n",
       "        google.colab.kernel.accessAllowed ? 'block' : 'none';\n",
       "    })();\n",
       "  </script>\n",
       "</div>\n",
       "\n",
       "    </div>\n",
       "  </div>\n"
      ],
      "text/plain": [
       "      prod_id  predicted_ratings\n",
       "0  1400532655           4.292024\n",
       "1  1400599997           4.292024\n",
       "2  9983891212           4.292024\n",
       "3  B00000DM9W           4.292024\n",
       "4  B00000J1V5           4.292024"
      ]
     },
     "execution_count": 75,
     "metadata": {},
     "output_type": "execute_result"
    }
   ],
   "source": [
    "recommonded_df.head()"
   ]
  },
  {
   "cell_type": "markdown",
   "metadata": {
    "id": "rKgJpSA9vOOL"
   },
   "source": [
    "### **Model 3: Model-Based Collaborative Filtering - Matrix Factorization**"
   ]
  },
  {
   "cell_type": "markdown",
   "metadata": {
    "id": "YF6ZGyqhCAob"
   },
   "source": [
    "Model-based Collaborative Filtering is a **personalized recommendation system**, the recommendations are based on the past behavior of the user and it is not dependent on any additional information. We use **latent features** to find recommendations for each user."
   ]
  },
  {
   "cell_type": "markdown",
   "metadata": {
    "id": "n4Otha8ovOOL"
   },
   "source": [
    "### Singular Value Decomposition (SVD)"
   ]
  },
  {
   "cell_type": "markdown",
   "metadata": {
    "id": "3sGl3QkLvOOL"
   },
   "source": [
    "SVD is used to **compute the latent features** from the **user-item matrix**. But SVD does not work when we **miss values** in the **user-item matrix**."
   ]
  },
  {
   "cell_type": "code",
   "execution_count": 76,
   "metadata": {
    "colab": {
     "base_uri": "https://localhost:8080/"
    },
    "id": "07-2PT5Ssjqm",
    "outputId": "84973bcf-83d5-41e8-b713-77ae98886c51"
   },
   "outputs": [
    {
     "name": "stdout",
     "output_type": "stream",
     "text": [
      "RMSE: 0.8882\n",
      "Precision:  0.853\n",
      "Recall:  0.88\n",
      "F_1 score:  0.866\n"
     ]
    }
   ],
   "source": [
    "# Using SVD matrix factorization. Use random_state = 1\n",
    "svd = SVD(random_state=1)\n",
    "# Training the algorithm on the trainset\n",
    "svd.fit(trainset)\n",
    "# Use the function precision_recall_at_k to compute precision@k, recall@k, F1-Score, and RMSE\n",
    "precision_recall_at_k(svd)"
   ]
  },
  {
   "cell_type": "markdown",
   "metadata": {
    "id": "BQ6fTuCDnVNL"
   },
   "source": [
    "**This model generally outperforms the previous ones based on the evaluation metrics.**"
   ]
  },
  {
   "cell_type": "markdown",
   "metadata": {
    "id": "JbckLhmyPyXt"
   },
   "source": [
    "**Let's now predict the rating for a user with `userId = \"A3LDPF5FMB782Z\"` and `prod_id = \"1400501466`.**"
   ]
  },
  {
   "cell_type": "code",
   "execution_count": 77,
   "metadata": {
    "colab": {
     "base_uri": "https://localhost:8080/"
    },
    "id": "yWIhfdxXsjqm",
    "outputId": "ea60f3be-5a5f-4d26-d42e-a09bb19c780c"
   },
   "outputs": [
    {
     "data": {
      "text/plain": [
       "Prediction(uid='A3LDPF5FMB782Z', iid='1400501466', r_ui=5, est=4.081406749810685, details={'was_impossible': False})"
      ]
     },
     "execution_count": 77,
     "metadata": {},
     "output_type": "execute_result"
    }
   ],
   "source": [
    "# Making prediction\n",
    "svd.predict(uid= 'A3LDPF5FMB782Z', iid= '1400501466', r_ui=5)"
   ]
  },
  {
   "cell_type": "markdown",
   "metadata": {
    "id": "oIjzqDY5nVNM"
   },
   "source": [
    "**For predicting the known rating of 5, this model performs slightly worse than the previous ones, as the estimated output is 4.08.**"
   ]
  },
  {
   "cell_type": "markdown",
   "metadata": {
    "id": "I1aYxVeMnVNM"
   },
   "source": [
    "**Below we are predicting rating for the `userId = \"A34BZM6S9L7QI4\"` and `productId = \"1400501466\"`.**"
   ]
  },
  {
   "cell_type": "code",
   "execution_count": 78,
   "metadata": {
    "colab": {
     "base_uri": "https://localhost:8080/"
    },
    "id": "APm-uMSvcAMf",
    "outputId": "6fb3c1b5-ee23-4f58-bbb9-50b01a7790be"
   },
   "outputs": [
    {
     "data": {
      "text/plain": [
       "Prediction(uid='A34BZM6S9L7QI4', iid='1400501466', r_ui=None, est=4.40037568046934, details={'was_impossible': False})"
      ]
     },
     "execution_count": 78,
     "metadata": {},
     "output_type": "execute_result"
    }
   ],
   "source": [
    "# Making prediction\n",
    "svd.predict(uid= 'A34BZM6S9L7QI4', iid= '1400501466')"
   ]
  },
  {
   "cell_type": "markdown",
   "metadata": {
    "id": "NEL6dy3wnVNM"
   },
   "source": [
    "**This model predicts a rating of 4.4 for the unknown rating of user A34BZM6S9L7QI4 for item '1400501466'.**"
   ]
  },
  {
   "cell_type": "markdown",
   "metadata": {
    "id": "x13Eb9Owvpcw"
   },
   "source": [
    "### **Improving Matrix Factorization based recommendation system by tuning its hyperparameters**"
   ]
  },
  {
   "cell_type": "markdown",
   "metadata": {
    "id": "iQcDPhhcnVNN"
   },
   "source": [
    "Below we will be tuning only three hyperparameters:\n",
    "- **n_epochs**: The number of iterations of the SGD algorithm.\n",
    "- **lr_all**: The learning rate for all parameters.\n",
    "- **reg_all**: The regularization term for all parameters."
   ]
  },
  {
   "cell_type": "code",
   "execution_count": 79,
   "metadata": {
    "colab": {
     "base_uri": "https://localhost:8080/"
    },
    "id": "4bM81V_hvtwv",
    "outputId": "c1238a35-ae78-47ad-ec4f-3864ca2bd106"
   },
   "outputs": [
    {
     "name": "stdout",
     "output_type": "stream",
     "text": [
      "0.8979695791475631\n",
      "{'n_epochs': 20, 'lr_all': 0.01, 'reg_all': 0.2}\n"
     ]
    }
   ],
   "source": [
    "# Set the parameter space to tune\n",
    "param_grid = {'n_epochs': [10, 20, 30], 'lr_all': [0.001, 0.005, 0.01],\n",
    "              'reg_all': [0.2, 0.4, 0.6]}\n",
    "# Performing 3-fold gridsearch cross-validation\n",
    "gs_ = GridSearchCV(SVD, param_grid, measures=['rmse'], cv=3, n_jobs=-1)\n",
    "\n",
    "# Fitting data\n",
    "gs_.fit(data)\n",
    "\n",
    "# Best RMSE score\n",
    "print(gs_.best_score['rmse'])\n",
    "\n",
    "# Combination of parameters that gave the best RMSE score\n",
    "print(gs_.best_params['rmse'])"
   ]
  },
  {
   "cell_type": "markdown",
   "metadata": {
    "id": "KzY78HsrnVNO"
   },
   "source": [
    "Now, we will **the build final model** by using **tuned values** of the hyperparameters, which we received using grid search cross-validation above."
   ]
  },
  {
   "cell_type": "code",
   "execution_count": 80,
   "metadata": {
    "colab": {
     "base_uri": "https://localhost:8080/"
    },
    "id": "TA_7xe-nnhuu",
    "outputId": "3b01dcde-bc9f-48ee-d709-643c9c467901"
   },
   "outputs": [
    {
     "name": "stdout",
     "output_type": "stream",
     "text": [
      "RMSE: 0.8808\n",
      "Precision:  0.854\n",
      "Recall:  0.878\n",
      "F_1 score:  0.866\n"
     ]
    }
   ],
   "source": [
    "# Build the optimized SVD model using optimal hyperparameter search. Use random_state=1\n",
    "svd_optimized = SVD(n_epochs=20, lr_all=0.01, reg_all=0.2, random_state=1)\n",
    "# Train the algorithm on the trainset\n",
    "svd_optimized=svd_optimized.fit(trainset)\n",
    "\n",
    "# Use the function precision_recall_at_k to compute precision@k, recall@k, F1-Score, and RMSE\n",
    "precision_recall_at_k(svd_optimized)"
   ]
  },
  {
   "cell_type": "markdown",
   "metadata": {
    "id": "9HJvPsjITsny"
   },
   "source": [
    "**Here are the metric values after parameter tuning. The results remain nearly the same, with improvements in RMSE and Precision.**"
   ]
  },
  {
   "cell_type": "markdown",
   "metadata": {
    "id": "TdZeftTUPyXv"
   },
   "source": [
    "### **Prediction and Model Comparison:**\n",
    "\n",
    "To assess the performance of the optimized recommendation model, we follow these steps:\n",
    "\n",
    "- **Predict rating for the user with `userId=\"A3LDPF5FMB782Z\"`, and `prod_id= \"1400501466\"` using the optimized model**\n",
    "- **Predict rating for `userId=\"A34BZM6S9L7QI4\"` who has not interacted with `prod_id =\"1400501466\"`, by using the optimized model**\n",
    "- **Compare the output with the output from the baseline model**\n",
    "\n",
    "This analysis helps determine whether tuning the model enhances its predictive capabilities and improves user experience."
   ]
  },
  {
   "cell_type": "code",
   "execution_count": 81,
   "metadata": {
    "colab": {
     "base_uri": "https://localhost:8080/"
    },
    "id": "DmG3HTVSPyXv",
    "outputId": "7589d6f3-2540-4a8f-9945-d3dafcfdaa06"
   },
   "outputs": [
    {
     "data": {
      "text/plain": [
       "Prediction(uid='A3LDPF5FMB782Z', iid='1400501466', r_ui=5, est=4.128589011282042, details={'was_impossible': False})"
      ]
     },
     "execution_count": 81,
     "metadata": {},
     "output_type": "execute_result"
    }
   ],
   "source": [
    "# Use svd_algo_optimized model to recommend for userId \"A3LDPF5FMB782Z\" and productId \"1400501466\"\n",
    "svd_optimized.predict(uid= 'A3LDPF5FMB782Z', iid= '1400501466', r_ui=5)"
   ]
  },
  {
   "cell_type": "code",
   "execution_count": 82,
   "metadata": {
    "colab": {
     "base_uri": "https://localhost:8080/"
    },
    "id": "9curnFIaPyXw",
    "outputId": "bebe6238-a525-487b-efb8-f72edb9c79b0"
   },
   "outputs": [
    {
     "data": {
      "text/plain": [
       "Prediction(uid='A34BZM6S9L7QI4', iid='1400501466', r_ui=None, est=4.216280997100113, details={'was_impossible': False})"
      ]
     },
     "execution_count": 82,
     "metadata": {},
     "output_type": "execute_result"
    }
   ],
   "source": [
    "# Use svd_algo_optimized model to recommend for userId \"A34BZM6S9L7QI4\" and productId \"1400501466\"\n",
    "svd_optimized.predict(uid= 'A34BZM6S9L7QI4', iid= '1400501466')"
   ]
  },
  {
   "cell_type": "markdown",
   "metadata": {},
   "source": [
    "**The enhanced model, optimized with the best parameters, outperforms its baseline by estimating a known rating of 5 as 4.12 (instead of 4.08) and predicting 4.21 for an unknown rating.**"
   ]
  },
  {
   "cell_type": "markdown",
   "metadata": {
    "id": "nnwPwgjB8DwS"
   },
   "source": [
    "### **Conclusion and Recommendations**"
   ]
  },
  {
   "cell_type": "markdown",
   "metadata": {
    "id": "diFAG_Om2ndl"
   },
   "source": [
    "The notebook focuses on building a product recommendation system using Amazon product reviews as the dataset. It discusses the importance of recommendation systems in reducing information overload for consumers and highlights how e-commerce platforms like Amazon use such systems to enhance user experience.\n",
    "\n",
    "\n",
    "**Algorithms Used:**\n",
    "- Rank-based recommendation using averages.\n",
    "- User-user similarity-based collaborative filtering.\n",
    "- Item-item similarity-based collaborative filtering.\n",
    "- Model-based (matrix factorization) collaborative filtering.\n",
    "\n",
    "To demonstrate the user-user, item-item, and model-based collaborative filtering methods, we leveraged the Surprise library. For each of these approaches, grid search cross-validation was applied to determine the optimal hyperparameters, which in turn improved our model performance. For instance, after tuning, the optimized user-user model achieved a precision of ~0.849, recall of ~0.892, and an F1-score of ~0.87—with a noticeable improvement in predicting a known rating (from an initial estimate of 3.4 to 4.85 for a specific user–item pair). Similarly, the item-item model and the SVD-based matrix factorization model also showed enhanced performance through hyperparameter tuning, with the latter delivering a lower RMSE (implying that the latent factor model effectively captures user and item features even when ratings are sparse).\n",
    "\n",
    "For performance evaluation, precision@k and recall@k were used, and the corresponding F1-scores were computed for each model. Overall, the optimized user-user similarity-based recommendation system provided the best balance according to the F1-score (around 0.86–0.87), while the matrix factorization model achieved lower RMSE by accounting for latent factors—suggesting that users and items indeed reside in a lower-dimensional space that captures their intrinsic properties.\n",
    "\n",
    "Collaborative Filtering, whether by searching for similar users or items, relies on the similarity of past interactions (e.g., reading or purchasing behavior) to make predictions. In contrast, Matrix Factorization decomposes the user–item matrix to capture latent features, enabling recommendations based on proximity in the latent space. Although the matrix factorization model yielded lower RMSE values (0.88), it sometimes underestimated ratings for products the user has already interacted with. This highlights the trade-offs between models that focus on similarity measures versus those that capture underlying latent factors.\n",
    "\n",
    "\n",
    "**Conclusion:**\n",
    "\n",
    "In this case study, we explored different recommendation system techniques, including collaborative filtering, matrix factorization, and rank-based methods. We observed that collaborative filtering models, especially user-user similarity-based approaches, performed the best in terms of recommendation accuracy.\n",
    "\n",
    "While matrix factorization demonstrated lower RMSE due to its ability to capture latent factors, collaborative filtering proved more effective in capturing direct user preferences.\n",
    "\n",
    "**Future improvements could include:**\n",
    "\n",
    "Hybrid recommendation models that combine different techniques to enhance accuracy.\n",
    "Content-based filtering to incorporate product attributes and user preferences.\n",
    "Deep learning models such as neural collaborative filtering for more advanced predictions.\n",
    "Overall, the study demonstrates the power of personalized recommendation systems and their significance in improving the e-commerce experience for users."
   ]
  },
  {
   "cell_type": "code",
   "execution_count": null,
   "metadata": {},
   "outputs": [],
   "source": []
  }
 ],
 "metadata": {
  "colab": {
   "provenance": []
  },
  "kernelspec": {
   "display_name": "Python 3 (ipykernel)",
   "language": "python",
   "name": "python3"
  },
  "language_info": {
   "codemirror_mode": {
    "name": "ipython",
    "version": 3
   },
   "file_extension": ".py",
   "mimetype": "text/x-python",
   "name": "python",
   "nbconvert_exporter": "python",
   "pygments_lexer": "ipython3",
   "version": "3.10.12"
  }
 },
 "nbformat": 4,
 "nbformat_minor": 4
}
